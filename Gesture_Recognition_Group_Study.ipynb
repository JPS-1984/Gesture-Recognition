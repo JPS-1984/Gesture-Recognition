{
 "cells": [
  {
   "cell_type": "markdown",
   "metadata": {
    "id": "bYZn_TL1d66J"
   },
   "source": [
    "# Problem Statement\n",
    "A home electronics company, which manufactures state of the art smart televisions, want to develop a cool feature in the smart-TV that can recognise five different gestures. Gestures will be performed by the users. The feature will help users to control the TV without using a remote. The gestures are continuously monitored by the webcam mounted on the TV. Each gesture corresponds to a specific command:\n",
    "\n",
    "- Thumbs up:  Increase the volume\n",
    "- Thumbs down: Decrease the volume\n",
    "- Left swipe: 'Jump' backwards 10 seconds\n",
    "- Right swipe: 'Jump' forward 10 seconds  \n",
    "- Stop: Pause the movie\n",
    "\n",
    "# Objective\n",
    "As a data scientist at the company, we need to build a model that can correctly\n",
    "predict the 5 gestures."
   ]
  },
  {
   "cell_type": "markdown",
   "metadata": {
    "id": "ksMHKsoffhV5"
   },
   "source": [
    "# Understanding the Dataset\n",
    "The training data consists of a few hundred videos categorised into one of the five classes. Each video (typically 2-3 seconds long) is divided into a sequence of 30 frames(images). These videos have been recorded by various people performing one of the five gestures in front of a webcam - similar to what the smart TV will use.\n",
    "\n",
    "The data is in a zip file. The zip file contains a 'train' and a 'val' folder with two CSV files for the two folders. These folders are in turn divided into subfolders where each subfolder represents a video of a particular gesture. Few things to note:  \n",
    "\n",
    "1. all images in a particular video subfolder have the same dimensions\n",
    "2. different videos may have different dimensions\n",
    "3. Specifically, videos have two types of dimensions - either 360x360 or 120x160\n",
    "\n",
    "\n",
    "Each row of the CSV file represents one video and contains three main pieces of information - the name of the subfolder containing the 30 images of the video, the name of the gesture and the numeric label (between 0-4) of the video.\n",
    "\n"
   ]
  },
  {
   "cell_type": "code",
   "execution_count": 68,
   "metadata": {
    "id": "NWgRILYukfzT"
   },
   "outputs": [],
   "source": [
    "project_data_dir = '/datasets/Project_data/'\n",
    "train_data_dir = '/datasets/Project_data/train/'\n",
    "val_data_dir = '/datasets/Project_data/val/'\n",
    "models_dir = '/models/'"
   ]
  },
  {
   "cell_type": "markdown",
   "metadata": {
    "id": "V2zihr2DlbTo"
   },
   "source": [
    "# Importing required libraries"
   ]
  },
  {
   "cell_type": "code",
   "execution_count": 69,
   "metadata": {
    "id": "quOU7D3hlLtZ"
   },
   "outputs": [],
   "source": [
    "import os\n",
    "import glob\n",
    "import datetime\n",
    "import numpy as np\n",
    "import matplotlib.pyplot as plt\n",
    "from PIL import Image\n",
    "\n",
    "import random as rn\n",
    "import tensorflow as tf\n",
    "\n",
    "from tensorflow import keras\n",
    "from tensorflow.keras import backend as K\n",
    "from tensorflow.keras.models import Sequential\n",
    "from tensorflow.keras.applications import ResNet50, MobileNetV2\n",
    "from keras.layers import Conv3D, Dense, MaxPooling3D, MaxPooling2D, GRU, Flatten, Dropout, Reshape, TimeDistributed\n",
    "from keras.callbacks import ModelCheckpoint, ReduceLROnPlateau\n",
    "\n",
    "import warnings\n",
    "warnings.filterwarnings(\"ignore\")\n"
   ]
  },
  {
   "cell_type": "code",
   "execution_count": 70,
   "metadata": {
    "id": "2LMGU1HTnDJb"
   },
   "outputs": [],
   "source": [
    "# Set seeds for reproducibility\n",
    "rn.seed(30)\n",
    "np.random.seed(30)\n",
    "tf.random.set_seed(30)"
   ]
  },
  {
   "cell_type": "code",
   "execution_count": 71,
   "metadata": {
    "id": "nXK-2MARmzk7"
   },
   "outputs": [],
   "source": [
    "train_folder_list = np.random.permutation(open(project_data_dir+'train.csv').readlines())\n",
    "val_folder_list = np.random.permutation(open(project_data_dir+'val.csv').readlines())"
   ]
  },
  {
   "cell_type": "code",
   "execution_count": 72,
   "metadata": {
    "colab": {
     "base_uri": "https://localhost:8080/"
    },
    "id": "cAnK63nYnO7I",
    "outputId": "2ef9d9d0-2f71-485b-9a35-ef40b77b49c3"
   },
   "outputs": [
    {
     "name": "stdout",
     "output_type": "stream",
     "text": [
      "# training sequences = 663\n",
      "# validation sequences = 100\n"
     ]
    }
   ],
   "source": [
    "num_train_sequences = len(train_folder_list)\n",
    "print('# training sequences =', num_train_sequences)\n",
    "num_val_sequences = len(val_folder_list)\n",
    "print('# validation sequences =', num_val_sequences)"
   ]
  },
  {
   "cell_type": "markdown",
   "metadata": {
    "id": "6dOKuD5ppFk4"
   },
   "source": [
    "# Generator\n",
    "We are providing a generator function.This type of function is very useful in machine learning for handling large datasets that might not fit into your computer's memory all at once. Instead of loading the entire dataset, a generator loads and processes data in smaller chunks called \"batches\".\n",
    "\n"
   ]
  },
  {
   "cell_type": "markdown",
   "metadata": {
    "id": "Vfv0cWvHri0D"
   },
   "source": [
    "### Utility functions"
   ]
  },
  {
   "cell_type": "code",
   "execution_count": 73,
   "metadata": {
    "id": "aWZlmlkfrh5e"
   },
   "outputs": [],
   "source": [
    "def crop_image(img):\n",
    "    width, height = img.size\n",
    "    min_dim = min(height, width)\n",
    "    if width == height:\n",
    "        min_dim = 250\n",
    "    left = (width - min_dim) // 2\n",
    "    top = (height - min_dim) // 2\n",
    "    right = (width + min_dim) // 2\n",
    "    bottom = (height + min_dim) // 2\n",
    "    cropped_img = img.crop((left, top, right, bottom))\n",
    "    return cropped_img"
   ]
  },
  {
   "cell_type": "code",
   "execution_count": 74,
   "metadata": {
    "id": "djqS3THLzF5C"
   },
   "outputs": [],
   "source": [
    "def random_image_transformation(img):\n",
    "    if np.random.randn() > 0:\n",
    "        img = img.rotate(30)\n",
    "    if np.random.randn() > 0:\n",
    "        img = img.transpose(Image.FLIP_LEFT_RIGHT)\n",
    "    return img\n"
   ]
  },
  {
   "cell_type": "code",
   "execution_count": 75,
   "metadata": {
    "id": "ljWqiI3OonF2"
   },
   "outputs": [],
   "source": [
    "def generator(source_path, folder_list, img_idx=[], batch_size=64, img_size=(120,120)):\n",
    "    '''\n",
    "    source_path image location\n",
    "    folder_list folders having information about videos\n",
    "    batch_size number of videos processed at a time\n",
    "    img_size a tuple having width and height to resige the image\n",
    "    '''\n",
    "    print('Source path = ', source_path, '; batch size =', batch_size)\n",
    "    if len(img_idx) == 0:\n",
    "        img_idx = [0,2,4,6,8,10,11,12,13,14,15,16,17,18,19,20,22,24,26,28]\n",
    "    while True:\n",
    "        t = np.random.permutation(folder_list) #used to shuffle the order of the videos\n",
    "        num_batches = len(folder_list)//batch_size\n",
    "        for batch in range(num_batches): # we iterate over the number of batches\n",
    "            batch_data = np.zeros((batch_size,len(img_idx),img_size[0],img_size[1],3))\n",
    "            batch_labels = np.zeros((batch_size,5)) # batch_labels is the one hot representation of the output\n",
    "            for folder in range(batch_size): # iterate over the batch_size\n",
    "                imgs = os.listdir(source_path+'/'+ t[folder + (batch*batch_size)].split(';')[0]) # read all the images in the folder\n",
    "                for idx,item in enumerate(img_idx): #  Iterate over the frames/images of a folder to read them in\n",
    "                    #image = imread(source_pat+'/'+ t[folder + (batch*batch_size)].strip().split(';')[0]+'/'+imgs[item]).astype(np.float32)\n",
    "                    filename = source_path+'/'+ t[folder + (batch*batch_size)].strip().split(';')[0]+'/'+imgs[item]\n",
    "                    try:\n",
    "                        with Image.open(filename) as img:\n",
    "                            img.load()\n",
    "                            img = crop_image(img)\n",
    "                            img = img.resize(img_size, resample = Image.BILINEAR)\n",
    "                            img = random_image_transformation(img)\n",
    "                            narray = np.asarray(img)\n",
    "\n",
    "                            batch_data[folder,idx,:,:,0] = narray[:,:,0]/255\n",
    "                            batch_data[folder,idx,:,:,1] = narray[:,:,1]/255\n",
    "                            batch_data[folder,idx,:,:,2] = narray[:,:,2]/255\n",
    "                    except Exception as e:\n",
    "                        print(f\"Error processing image {filename}: {e}\")\n",
    "                        # Handle the error, e.g., skip the image or fill with a default value\n",
    "                        batch_data[folder, idx, :, :, :] = 0  # Fill with zeros as a placeholder\n",
    "\n",
    "                batch_labels[folder, int(t[folder + (batch*batch_size)].strip().split(';')[2])] = 1\n",
    "            yield batch_data, batch_labels #you yield the batch_data and the batch_labels, remember what does yield do\n",
    "\n",
    "\n",
    "        # Handle remaining data points that are left after full batches\n",
    "        remaining_samples = len(folder_list) % batch_size\n",
    "        if remaining_samples > 0:\n",
    "            batch_data = np.zeros((remaining_samples, len(img_idx), img_size[0],img_size[1], 3))\n",
    "            batch_labels = np.zeros((remaining_samples, 5))\n",
    "            for folder in range(remaining_samples):\n",
    "                imgs = os.listdir(source_path + '/' + t[num_batches * batch_size + folder].split(';')[0])\n",
    "                for idx, item in enumerate(img_idx):\n",
    "                    filename = source_path + '/' + t[num_batches * batch_size + folder].strip().split(';')[0] + '/' + imgs[item]\n",
    "                    try:\n",
    "                        with Image.open(filename) as img:\n",
    "                            img.load()\n",
    "                            img = crop_image(img)\n",
    "                            img = img.resize(img_size, resample = Image.BILINEAR)\n",
    "                            img = random_image_transformation(img)\n",
    "                            narray = np.asarray(img)\n",
    "                            batch_data[folder, idx, :, :, 0] = narray[:, :, 0] / 255\n",
    "                            batch_data[folder, idx, :, :, 1] = narray[:, :, 1] / 255\n",
    "                            batch_data[folder, idx, :, :, 2] = narray[:, :, 2] / 255\n",
    "                    except Exception as e:\n",
    "                        print(f\"Error processing image {filename}: {e}\")\n",
    "                        batch_data[folder, idx, :, :, :] = 0\n",
    "                batch_labels[folder, int(t[num_batches * batch_size + folder].strip().split(';')[2])] = 1\n",
    "            yield batch_data, batch_labels\n"
   ]
  },
  {
   "cell_type": "markdown",
   "metadata": {
    "id": "9Oc0pNu-2BsD"
   },
   "source": [
    "### Validating the Generator"
   ]
  },
  {
   "cell_type": "code",
   "execution_count": 76,
   "metadata": {
    "colab": {
     "base_uri": "https://localhost:8080/"
    },
    "id": "lXeexn8d2AwH",
    "outputId": "795c9179-dbc5-4dec-f523-09cc347790cd"
   },
   "outputs": [
    {
     "name": "stdout",
     "output_type": "stream",
     "text": [
      "Source path =  /datasets/Project_data/train/ ; batch size = 32\n",
      "(32, 20, 120, 120, 3)\n",
      "Source path =  /datasets/Project_data/val/ ; batch size = 32\n",
      "(32, 20, 120, 120, 3)\n"
     ]
    }
   ],
   "source": [
    "# check complete batch shape\n",
    "sample_generator = generator(train_data_dir, train_folder_list, batch_size=32)\n",
    "sample_batch_data, sample_batch_labels = next(sample_generator)\n",
    "print(sample_batch_data.shape)\n",
    "\n",
    "# validation batch sample\n",
    "sample_val_generator = generator(val_data_dir, val_folder_list, batch_size=32)\n",
    "sample_val_batch_data, sample_val_batch_labels = next(sample_val_generator)\n",
    "print(sample_val_batch_data.shape)"
   ]
  },
  {
   "cell_type": "code",
   "execution_count": 77,
   "metadata": {
    "colab": {
     "base_uri": "https://localhost:8080/",
     "height": 373
    },
    "id": "7qIE-m3qpnP0",
    "outputId": "a0d34e9e-4ec8-4a87-8634-77d54cd4a519"
   },
   "outputs": [
    {
     "data": {
      "image/png": "[encoded data removed]",
      "text/plain": [
       "<Figure size 288x288 with 4 Axes>"
      ]
     },
     "metadata": {
      "needs_background": "light"
     },
     "output_type": "display_data"
    }
   ],
   "source": [
    "fig, ax = plt.subplots(2,2, figsize=(4,4))\n",
    "ax[0,0].imshow(sample_batch_data[16,10,:,:,:])\n",
    "ax[0,1].imshow(sample_batch_data[25,10,:,:,:])\n",
    "\n",
    "ax[1,0].imshow(sample_val_batch_data[16,10,:,:,:])\n",
    "ax[1,1].imshow(sample_val_batch_data[25,10,:,:,:])\n",
    "plt.show()"
   ]
  },
  {
   "cell_type": "markdown",
   "metadata": {
    "id": "P4wZAvGE3pjM"
   },
   "source": [
    "# Model Creation"
   ]
  },
  {
   "cell_type": "markdown",
   "metadata": {
    "id": "mpmadHF944fs"
   },
   "source": [
    "### model utilities"
   ]
  },
  {
   "cell_type": "code",
   "execution_count": 78,
   "metadata": {
    "id": "MfZwEOw9475Y"
   },
   "outputs": [],
   "source": [
    "def plot_loss_accuracy(history):\n",
    "    # list all data in history\n",
    "    print(history.history.keys())\n",
    "\n",
    "    # fig, ax = plt.subplots(1,2, figsize=(16,8))\n",
    "\n",
    "    # summarize history for accuracy\n",
    "    plt.plot(history.history['categorical_accuracy'])\n",
    "    plt.plot(history.history['val_categorical_accuracy'])\n",
    "    plt.title('model accuracy')\n",
    "    plt.ylabel('accuracy')\n",
    "    plt.xlabel('epoch')\n",
    "    plt.legend(['train', 'val'], loc='upper left')\n",
    "    plt.show()\n",
    "\n",
    "    # summarize history for loss\n",
    "    plt.plot(history.history['loss'])\n",
    "    plt.plot(history.history['val_loss'])\n",
    "    plt.title('model loss')\n",
    "    plt.ylabel('loss')\n",
    "    plt.xlabel('epoch')\n",
    "    plt.legend(['train', 'val'], loc='upper left')\n",
    "    plt.show()"
   ]
  },
  {
   "cell_type": "code",
   "execution_count": 79,
   "metadata": {
    "id": "aLmf3HNI5IAP"
   },
   "outputs": [],
   "source": [
    "def model_callbacks():\n",
    "    curr_dt_time = datetime.datetime.now()\n",
    "    model_name = models_dir + 'model_init' + '_' + str(curr_dt_time).replace(' ','').replace(':','_') + '/'\n",
    "\n",
    "    if not os.path.exists(model_name):\n",
    "        os.makedirs(model_name)\n",
    "\n",
    "    filepath = model_name + 'model-{epoch:05d}-{loss:.5f}-{categorical_accuracy:.5f}-{val_loss:.5f}-{val_categorical_accuracy:.5f}.h5'\n",
    "\n",
    "    checkpoint = ModelCheckpoint(filepath, monitor='val_loss', verbose=1, save_best_only=True, save_weights_only=False, mode='auto', save_freq='epoch')\n",
    "\n",
    "    LR = ReduceLROnPlateau(monitor='val_loss', factor=0.1, patience=3, min_lr=0.0001, cooldown=1, verbose=1) # write the REducelronplateau code here\n",
    "\n",
    "    return [checkpoint, LR]\n"
   ]
  },
  {
   "cell_type": "code",
   "execution_count": 80,
   "metadata": {
    "id": "nDP_y5uo59E6"
   },
   "outputs": [],
   "source": [
    "def train_model(model, train_generator, val_generator, num_train_sequences, num_val_sequences, batch_size=64, num_epochs=25):\n",
    "    \"\"\"\n",
    "    Trains a given model.\n",
    "\n",
    "    Args:\n",
    "        model: model to train.\n",
    "        train_ds: The training dataset.\n",
    "        val_ds: The validation dataset.\n",
    "        epochs: The number of epochs to train for.\n",
    "\n",
    "    Returns:\n",
    "        The training history.\n",
    "    \"\"\"\n",
    "\n",
    "    # defining callbacks\n",
    "    callbacks_list = model_callbacks()\n",
    "\n",
    "    if (num_train_sequences%batch_size) == 0:\n",
    "        steps_per_epoch = int(num_train_sequences/batch_size)\n",
    "    else:\n",
    "        steps_per_epoch = (num_train_sequences//batch_size) + 1\n",
    "\n",
    "    if (num_val_sequences%batch_size) == 0:\n",
    "        validation_steps = int(num_val_sequences/batch_size)\n",
    "    else:\n",
    "        validation_steps = (num_val_sequences//batch_size) + 1\n",
    "\n",
    "    history = model.fit(train_generator, steps_per_epoch=steps_per_epoch, epochs=num_epochs, verbose=1,\n",
    "          callbacks=callbacks_list, validation_data=val_generator,\n",
    "          validation_steps=validation_steps,initial_epoch=0)\n",
    "\n",
    "    return history\n"
   ]
  },
  {
   "cell_type": "markdown",
   "metadata": {
    "id": "yC_moEge3wOh"
   },
   "source": [
    "### Experiment 1: Conv3D\n",
    "- frames per video: 20\n",
    "- frame (image) size: 120 * 120\n",
    "- batch size: 64\n",
    "- epochs: 25\n"
   ]
  },
  {
   "cell_type": "code",
   "execution_count": 81,
   "metadata": {},
   "outputs": [],
   "source": [
    "train_generator = generator(train_data_dir, train_folder_list)\n",
    "val_generator = generator(val_data_dir, val_folder_list)"
   ]
  },
  {
   "cell_type": "code",
   "execution_count": 82,
   "metadata": {
    "colab": {
     "base_uri": "https://localhost:8080/",
     "height": 379
    },
    "id": "eEY3CJ-e-zyo",
    "outputId": "017eb307-4c0d-4013-877d-30836537244b"
   },
   "outputs": [],
   "source": [
    "# model = Sequential()\n",
    "# sample_shape = (20, 120, 120, 3)\n",
    "# no_classes = 5\n",
    "# model = Sequential()\n",
    "# model.add(Conv3D(32, kernel_size=(3, 3, 3), activation='relu', padding='same', input_shape=sample_shape))\n",
    "# model.add(MaxPooling3D(pool_size=(2, 2, 2), padding='same'))\n",
    "# model.add(Conv3D(64, kernel_size=(3, 3, 3), activation='relu', padding='same'))\n",
    "# model.add(MaxPooling3D(pool_size=(2, 2, 2), padding='same'))\n",
    "# model.add(Conv3D(128, kernel_size=(3, 3, 3), activation='relu', padding='same'))\n",
    "# model.add(MaxPooling3D(pool_size=(2, 2, 2), padding='same'))\n",
    "# model.add(Flatten())\n",
    "# model.add(Dense(128, activation='relu', kernel_initializer='he_uniform'))\n",
    "# model.add(Dense(no_classes, activation='softmax'))\n",
    "\n",
    "# model.summary()"
   ]
  },
  {
   "cell_type": "code",
   "execution_count": 83,
   "metadata": {
    "id": "aKJT7r6AAYyb"
   },
   "outputs": [],
   "source": [
    "# model.compile(optimizer='adam',\n",
    "#               loss=tf.keras.losses.CategoricalCrossentropy(),\n",
    "#               metrics=['categorical_accuracy'])"
   ]
  },
  {
   "cell_type": "code",
   "execution_count": 84,
   "metadata": {
    "colab": {
     "base_uri": "https://localhost:8080/"
    },
    "id": "uxf4gD993RHW",
    "outputId": "5e22690f-356a-42f1-e908-49cd4c8b1c88"
   },
   "outputs": [],
   "source": [
    "# history = train_model(model, train_generator, val_generator, num_train_sequences, num_val_sequences, 200)"
   ]
  },
  {
   "cell_type": "markdown",
   "metadata": {},
   "source": [
    "Source path =  /datasets/Project_data/train/ ; batch size = 64\n",
    "Epoch 1/25\n",
    "4/4 [==============================] - ETA: 0s - loss: 4.0207 - categorical_accuracy: 0.2070Source path =  /datasets/Project_data/val/ ; batch size = 64\n",
    "\n",
    "Epoch 00001: val_loss improved from inf to 1.60333, saving model to /models/model_init_2025-04-0113_23_41.904195/model-00001-4.02068-0.20703-1.60333-0.20312.h5\n",
    "4/4 [==============================] - 17s 5s/step - loss: 4.0207 - categorical_accuracy: 0.2070 - val_loss: 1.6033 - val_categorical_accuracy: 0.2031 - lr: 0.0010\n",
    "Epoch 2/25\n",
    "4/4 [==============================] - ETA: 0s - loss: 1.6057 - categorical_accuracy: 0.1602\n",
    "Epoch 00002: val_loss improved from 1.60333 to 1.58362, saving model to /models/model_init_2025-04-0113_23_41.904195/model-00002-1.60566-0.16016-1.58362-0.31250.h5\n",
    "4/4 [==============================] - 16s 5s/step - loss: 1.6057 - categorical_accuracy: 0.1602 - val_loss: 1.5836 - val_categorical_accuracy: 0.3125 - lr: 0.0010\n",
    "Epoch 3/25\n",
    "4/4 [==============================] - ETA: 0s - loss: 1.6377 - categorical_accuracy: 0.2140\n",
    "Epoch 00003: val_loss did not improve from 1.58362\n",
    "4/4 [==============================] - 14s 4s/step - loss: 1.6377 - categorical_accuracy: 0.2140 - val_loss: 1.6058 - val_categorical_accuracy: 0.2188 - lr: 0.0010\n",
    "Epoch 4/25\n",
    "4/4 [==============================] - ETA: 0s - loss: 1.5925 - categorical_accuracy: 0.1953\n",
    "Epoch 00004: val_loss did not improve from 1.58362\n",
    "4/4 [==============================] - 16s 5s/step - loss: 1.5925 - categorical_accuracy: 0.1953 - val_loss: 1.6022 - val_categorical_accuracy: 0.2188 - lr: 0.0010\n",
    "Epoch 5/25\n",
    "4/4 [==============================] - ETA: 0s - loss: 1.6049 - categorical_accuracy: 0.2266\n",
    "Epoch 00005: val_loss did not improve from 1.58362\n",
    "\n",
    "Epoch 00005: ReduceLROnPlateau reducing learning rate to 0.00010000000474974513.\n",
    "4/4 [==============================] - 16s 5s/step - loss: 1.6049 - categorical_accuracy: 0.2266 - val_loss: 1.6094 - val_categorical_accuracy: 0.2500 - lr: 0.0010\n",
    "Epoch 6/25\n",
    "4/4 [==============================] - ETA: 0s - loss: 1.6078 - categorical_accuracy: 0.2186\n",
    "Epoch 00006: val_loss did not improve from 1.58362\n",
    "4/4 [==============================] - 14s 4s/step - loss: 1.6078 - categorical_accuracy: 0.2186 - val_loss: 1.6100 - val_categorical_accuracy: 0.1719 - lr: 1.0000e-04\n",
    "Epoch 7/25\n",
    "4/4 [==============================] - ETA: 0s - loss: 1.6071 - categorical_accuracy: 0.1953\n",
    "Epoch 00007: val_loss did not improve from 1.58362\n",
    "4/4 [==============================] - 15s 5s/step - loss: 1.6071 - categorical_accuracy: 0.1953 - val_loss: 1.6086 - val_categorical_accuracy: 0.1562 - lr: 1.0000e-04\n",
    "Epoch 8/25\n",
    "4/4 [==============================] - ETA: 0s - loss: 1.6076 - categorical_accuracy: 0.1992\n",
    "Epoch 00008: val_loss did not improve from 1.58362\n",
    "\n",
    "Epoch 00008: ReduceLROnPlateau reducing learning rate to 0.0001.\n",
    "4/4 [==============================] - 15s 5s/step - loss: 1.6076 - categorical_accuracy: 0.1992 - val_loss: 1.6077 - val_categorical_accuracy: 0.1562 - lr: 1.0000e-04\n",
    "Epoch 9/25\n",
    "4/4 [==============================] - ETA: 0s - loss: 1.6058 - categorical_accuracy: 0.2140\n",
    "Epoch 00009: val_loss did not improve from 1.58362\n",
    "4/4 [==============================] - 16s 5s/step - loss: 1.6058 - categorical_accuracy: 0.2140 - val_loss: 1.6055 - val_categorical_accuracy: 0.2344 - lr: 1.0000e-04\n",
    "Epoch 10/25\n",
    "4/4 [==============================] - ETA: 0s - loss: 1.6039 - categorical_accuracy: 0.2500\n",
    "Epoch 00010: val_loss did not improve from 1.58362\n",
    "4/4 [==============================] - 16s 5s/step - loss: 1.6039 - categorical_accuracy: 0.2500 - val_loss: 1.6037 - val_categorical_accuracy: 0.2188 - lr: 1.0000e-04\n",
    "Epoch 11/25\n",
    "4/4 [==============================] - ETA: 0s - loss: 1.6034 - categorical_accuracy: 0.2837\n",
    "Epoch 00011: val_loss did not improve from 1.58362\n",
    "4/4 [==============================] - 14s 4s/step - loss: 1.6034 - categorical_accuracy: 0.2837 - val_loss: 1.6035 - val_categorical_accuracy: 0.3281 - lr: 1.0000e-04\n",
    "Epoch 12/25\n",
    "4/4 [==============================] - ETA: 0s - loss: 1.6024 - categorical_accuracy: 0.2266\n",
    "Epoch 00012: val_loss did not improve from 1.58362\n",
    "4/4 [==============================] - 16s 5s/step - loss: 1.6024 - categorical_accuracy: 0.2266 - val_loss: 1.5973 - val_categorical_accuracy: 0.3438 - lr: 1.0000e-04\n",
    "Epoch 13/25\n",
    "4/4 [==============================] - ETA: 0s - loss: 1.5987 - categorical_accuracy: 0.3164\n",
    "Epoch 00013: val_loss did not improve from 1.58362\n",
    "4/4 [==============================] - 16s 5s/step - loss: 1.5987 - categorical_accuracy: 0.3164 - val_loss: 1.5968 - val_categorical_accuracy: 0.3125 - lr: 1.0000e-04\n",
    "Epoch 14/25\n",
    "4/4 [==============================] - ETA: 0s - loss: 1.5955 - categorical_accuracy: 0.2791\n",
    "Epoch 00014: val_loss did not improve from 1.58362\n",
    "4/4 [==============================] - 14s 4s/step - loss: 1.5955 - categorical_accuracy: 0.2791 - val_loss: 1.5948 - val_categorical_accuracy: 0.2812 - lr: 1.0000e-04\n",
    "Epoch 15/25\n",
    "4/4 [==============================] - ETA: 0s - loss: 1.5959 - categorical_accuracy: 0.2500\n",
    "Epoch 00015: val_loss did not improve from 1.58362\n",
    "4/4 [==============================] - 16s 5s/step - loss: 1.5959 - categorical_accuracy: 0.2500 - val_loss: 1.5868 - val_categorical_accuracy: 0.2812 - lr: 1.0000e-04\n",
    "Epoch 16/25\n",
    "4/4 [==============================] - ETA: 0s - loss: 1.5860 - categorical_accuracy: 0.3008\n",
    "Epoch 00016: val_loss improved from 1.58362 to 1.57558, saving model to /models/model_init_2025-04-0113_23_41.904195/model-00016-1.58600-0.30078-1.57558-0.34375.h5\n",
    "4/4 [==============================] - 16s 5s/step - loss: 1.5860 - categorical_accuracy: 0.3008 - val_loss: 1.5756 - val_categorical_accuracy: 0.3438 - lr: 1.0000e-04\n",
    "Epoch 17/25\n",
    "4/4 [==============================] - ETA: 0s - loss: 1.5902 - categorical_accuracy: 0.2140\n",
    "Epoch 00017: val_loss did not improve from 1.57558\n",
    "4/4 [==============================] - 14s 5s/step - loss: 1.5902 - categorical_accuracy: 0.2140 - val_loss: 1.5766 - val_categorical_accuracy: 0.2656 - lr: 1.0000e-04\n",
    "Epoch 18/25\n",
    "4/4 [==============================] - ETA: 0s - loss: 1.5910 - categorical_accuracy: 0.2383\n",
    "Epoch 00018: val_loss did not improve from 1.57558\n",
    "4/4 [==============================] - 16s 5s/step - loss: 1.5910 - categorical_accuracy: 0.2383 - val_loss: 1.5920 - val_categorical_accuracy: 0.2344 - lr: 1.0000e-04\n",
    "Epoch 19/25\n",
    "4/4 [==============================] - ETA: 0s - loss: 1.5838 - categorical_accuracy: 0.2422\n",
    "Epoch 00019: val_loss did not improve from 1.57558\n",
    "4/4 [==============================] - 16s 5s/step - loss: 1.5838 - categorical_accuracy: 0.2422 - val_loss: 1.5811 - val_categorical_accuracy: 0.2500 - lr: 1.0000e-04\n",
    "Epoch 20/25\n",
    "4/4 [==============================] - ETA: 0s - loss: 1.5864 - categorical_accuracy: 0.2000\n",
    "Epoch 00020: val_loss improved from 1.57558 to 1.57163, saving model to /models/model_init_2025-04-0113_23_41.904195/model-00020-1.58640-0.20000-1.57163-0.25000.h5\n",
    "4/4 [==============================] - 16s 5s/step - loss: 1.5864 - categorical_accuracy: 0.2000 - val_loss: 1.5716 - val_categorical_accuracy: 0.2500 - lr: 1.0000e-04\n",
    "Epoch 21/25\n",
    "4/4 [==============================] - ETA: 0s - loss: 1.5808 - categorical_accuracy: 0.2227\n",
    "Epoch 00021: val_loss did not improve from 1.57163\n",
    "4/4 [==============================] - 16s 5s/step - loss: 1.5808 - categorical_accuracy: 0.2227 - val_loss: 1.5784 - val_categorical_accuracy: 0.2344 - lr: 1.0000e-04\n",
    "Epoch 22/25\n",
    "4/4 [==============================] - ETA: 0s - loss: 1.5580 - categorical_accuracy: 0.2837\n",
    "Epoch 00022: val_loss improved from 1.57163 to 1.57053, saving model to /models/model_init_2025-04-0113_23_41.904195/model-00022-1.55801-0.28372-1.57053-0.25000.h5\n",
    "4/4 [==============================] - 14s 5s/step - loss: 1.5580 - categorical_accuracy: 0.2837 - val_loss: 1.5705 - val_categorical_accuracy: 0.2500 - lr: 1.0000e-04\n",
    "Epoch 23/25\n",
    "4/4 [==============================] - ETA: 0s - loss: 1.5651 - categorical_accuracy: 0.2305\n",
    "Epoch 00023: val_loss improved from 1.57053 to 1.55037, saving model to /models/model_init_2025-04-0113_23_41.904195/model-00023-1.56509-0.23047-1.55037-0.26562.h5\n",
    "4/4 [==============================] - 16s 5s/step - loss: 1.5651 - categorical_accuracy: 0.2305 - val_loss: 1.5504 - val_categorical_accuracy: 0.2656 - lr: 1.0000e-04\n",
    "Epoch 24/25\n",
    "4/4 [==============================] - ETA: 0s - loss: 1.5830 - categorical_accuracy: 0.2109\n",
    "Epoch 00024: val_loss did not improve from 1.55037\n",
    "4/4 [==============================] - 16s 5s/step - loss: 1.5830 - categorical_accuracy: 0.2109 - val_loss: 1.5587 - val_categorical_accuracy: 0.2500 - lr: 1.0000e-04\n",
    "Epoch 25/25\n",
    "4/4 [==============================] - ETA: 0s - loss: 1.5485 - categorical_accuracy: 0.2698\n",
    "Epoch 00025: val_loss did not improve from 1.55037\n",
    "4/4 [==============================] - 14s 4s/step - loss: 1.5485 - categorical_accuracy: 0.2698 - val_loss: 1.5776 - val_categorical_accuracy: 0.2344 - lr: 1.0000e-04"
   ]
  },
  {
   "cell_type": "code",
   "execution_count": 85,
   "metadata": {},
   "outputs": [],
   "source": [
    "#plot_loss_accuracy(history)"
   ]
  },
  {
   "cell_type": "markdown",
   "metadata": {},
   "source": [
    "### Experiment 1 Observations:\n",
    "- Both, val and train accuracy are very less"
   ]
  },
  {
   "cell_type": "markdown",
   "metadata": {},
   "source": [
    "### Experiment 1 Conclusion\n",
    "Clearly, model created in experiment 1 is performing poor. "
   ]
  },
  {
   "cell_type": "markdown",
   "metadata": {
    "id": "jJUuXetmB4v4"
   },
   "source": [
    "### Experiment 2: Conv3D with more layers\n",
    "- frames per video: 20\n",
    "- frame (image) size: 120 * 120\n",
    "- batch size: 64\n",
    "- epochs: 30"
   ]
  },
  {
   "cell_type": "code",
   "execution_count": 86,
   "metadata": {},
   "outputs": [],
   "source": [
    "# model = Sequential()\n",
    "# sample_shape = (20, 120, 120, 3)\n",
    "# no_classes = 5\n",
    "# model = Sequential()\n",
    "# model.add(Conv3D(32, kernel_size=(3, 3, 3), activation='relu', padding='same', input_shape=sample_shape))\n",
    "# model.add(MaxPooling3D(pool_size=(2, 2, 2), padding='same'))\n",
    "# model.add(Conv3D(64, kernel_size=(3, 3, 3), activation='relu', padding='same'))\n",
    "# model.add(MaxPooling3D(pool_size=(2, 2, 2), padding='same'))\n",
    "# model.add(Conv3D(128, kernel_size=(3, 3, 3), activation='relu', padding='same'))\n",
    "# model.add(MaxPooling3D(pool_size=(2, 2, 2), padding='same'))\n",
    "# model.add(Conv3D(256, kernel_size=(3, 3, 3), activation='relu', padding='same'))\n",
    "# model.add(MaxPooling3D(pool_size=(2, 2, 2), padding='same'))\n",
    "# model.add(Flatten())\n",
    "# model.add(Dense(512, activation='relu'))\n",
    "# model.add(Dense(256, activation='relu'))\n",
    "# model.add(Dense(no_classes, activation='softmax'))\n",
    "\n",
    "# model.summary()\n"
   ]
  },
  {
   "cell_type": "code",
   "execution_count": 87,
   "metadata": {},
   "outputs": [],
   "source": [
    "# model.compile(optimizer='adam',\n",
    "#               loss=tf.keras.losses.CategoricalCrossentropy(),\n",
    "#               metrics=['categorical_accuracy'])"
   ]
  },
  {
   "cell_type": "code",
   "execution_count": 88,
   "metadata": {},
   "outputs": [],
   "source": [
    "# history = train_model(model, train_generator, val_generator, num_train_sequences, num_val_sequences, num_epochs=30)"
   ]
  },
  {
   "cell_type": "markdown",
   "metadata": {},
   "source": [
    "Source path =  /datasets/Project_data/train/ ; batch size = 64\n",
    "Epoch 1/30\n",
    "2025-04-01 13:56:10.565564: I tensorflow/stream_executor/cuda/cuda_dnn.cc:377] Loaded cuDNN version 8302\n",
    "2025-04-01 13:56:13.394037: I tensorflow/stream_executor/cuda/cuda_blas.cc:1792] TensorFloat-32 will be used for the matrix multiplication. This will only be logged once.\n",
    "11/11 [==============================] - ETA: 0s - loss: 2.1230 - categorical_accuracy: 0.2036Source path =  /datasets/Project_data/val/ ; batch size = 64\n",
    "\n",
    "Epoch 00001: val_loss improved from inf to 1.60707, saving model to /models/model_init_2025-04-0113_56_04.464416/model-00001-2.12298-0.20362-1.60707-0.18000.h5\n",
    "11/11 [==============================] - 46s 4s/step - loss: 2.1230 - categorical_accuracy: 0.2036 - val_loss: 1.6071 - val_categorical_accuracy: 0.1800 - lr: 0.0010\n",
    "Epoch 2/30\n",
    "11/11 [==============================] - ETA: 0s - loss: 1.6063 - categorical_accuracy: 0.2112\n",
    "Epoch 00002: val_loss improved from 1.60707 to 1.57970, saving model to /models/model_init_2025-04-0113_56_04.464416/model-00002-1.60629-0.21116-1.57970-0.20000.h5\n",
    "11/11 [==============================] - 40s 4s/step - loss: 1.6063 - categorical_accuracy: 0.2112 - val_loss: 1.5797 - val_categorical_accuracy: 0.2000 - lr: 0.0010\n",
    "Epoch 3/30\n",
    "11/11 [==============================] - ETA: 0s - loss: 1.5816 - categorical_accuracy: 0.2383\n",
    "Epoch 00003: val_loss improved from 1.57970 to 1.53929, saving model to /models/model_init_2025-04-0113_56_04.464416/model-00003-1.58160-0.23831-1.53929-0.32000.h5\n",
    "11/11 [==============================] - 40s 4s/step - loss: 1.5816 - categorical_accuracy: 0.2383 - val_loss: 1.5393 - val_categorical_accuracy: 0.3200 - lr: 0.0010\n",
    "Epoch 4/30\n",
    "11/11 [==============================] - ETA: 0s - loss: 1.5414 - categorical_accuracy: 0.3258\n",
    "Epoch 00004: val_loss improved from 1.53929 to 1.43516, saving model to /models/model_init_2025-04-0113_56_04.464416/model-00004-1.54135-0.32579-1.43516-0.34000.h5\n",
    "11/11 [==============================] - 39s 4s/step - loss: 1.5414 - categorical_accuracy: 0.3258 - val_loss: 1.4352 - val_categorical_accuracy: 0.3400 - lr: 0.0010\n",
    "Epoch 5/30\n",
    "11/11 [==============================] - ETA: 0s - loss: 1.4111 - categorical_accuracy: 0.3771\n",
    "Epoch 00005: val_loss improved from 1.43516 to 1.33534, saving model to /models/model_init_2025-04-0113_56_04.464416/model-00005-1.41113-0.37707-1.33534-0.46000.h5\n",
    "11/11 [==============================] - 42s 4s/step - loss: 1.4111 - categorical_accuracy: 0.3771 - val_loss: 1.3353 - val_categorical_accuracy: 0.4600 - lr: 0.0010\n",
    "Epoch 6/30\n",
    "11/11 [==============================] - ETA: 0s - loss: 1.3415 - categorical_accuracy: 0.3937\n",
    "Epoch 00006: val_loss improved from 1.33534 to 1.27147, saving model to /models/model_init_2025-04-0113_56_04.464416/model-00006-1.34149-0.39367-1.27147-0.47000.h5\n",
    "11/11 [==============================] - 39s 4s/step - loss: 1.3415 - categorical_accuracy: 0.3937 - val_loss: 1.2715 - val_categorical_accuracy: 0.4700 - lr: 0.0010\n",
    "Epoch 7/30\n",
    "11/11 [==============================] - ETA: 0s - loss: 1.4081 - categorical_accuracy: 0.3756\n",
    "Epoch 00007: val_loss did not improve from 1.27147\n",
    "11/11 [==============================] - 39s 4s/step - loss: 1.4081 - categorical_accuracy: 0.3756 - val_loss: 1.4761 - val_categorical_accuracy: 0.3400 - lr: 0.0010\n",
    "Epoch 8/30\n",
    "11/11 [==============================] - ETA: 0s - loss: 1.3614 - categorical_accuracy: 0.4133\n",
    "Epoch 00008: val_loss did not improve from 1.27147\n",
    "11/11 [==============================] - 38s 4s/step - loss: 1.3614 - categorical_accuracy: 0.4133 - val_loss: 1.2914 - val_categorical_accuracy: 0.5100 - lr: 0.0010\n",
    "Epoch 9/30\n",
    "11/11 [==============================] - ETA: 0s - loss: 1.2820 - categorical_accuracy: 0.4359\n",
    "Epoch 00009: val_loss did not improve from 1.27147\n",
    "\n",
    "Epoch 00009: ReduceLROnPlateau reducing learning rate to 0.00010000000474974513.\n",
    "11/11 [==============================] - 40s 4s/step - loss: 1.2820 - categorical_accuracy: 0.4359 - val_loss: 1.2722 - val_categorical_accuracy: 0.4800 - lr: 0.0010\n",
    "Epoch 10/30\n",
    "11/11 [==============================] - ETA: 0s - loss: 1.2577 - categorical_accuracy: 0.4570\n",
    "Epoch 00010: val_loss improved from 1.27147 to 1.26690, saving model to /models/model_init_2025-04-0113_56_04.464416/model-00010-1.25774-0.45701-1.26690-0.38000.h5\n",
    "11/11 [==============================] - 38s 4s/step - loss: 1.2577 - categorical_accuracy: 0.4570 - val_loss: 1.2669 - val_categorical_accuracy: 0.3800 - lr: 1.0000e-04\n",
    "Epoch 11/30\n",
    "11/11 [==============================] - ETA: 0s - loss: 1.2184 - categorical_accuracy: 0.4661\n",
    "Epoch 00011: val_loss improved from 1.26690 to 1.19050, saving model to /models/model_init_2025-04-0113_56_04.464416/model-00011-1.21839-0.46606-1.19050-0.52000.h5\n",
    "11/11 [==============================] - 40s 4s/step - loss: 1.2184 - categorical_accuracy: 0.4661 - val_loss: 1.1905 - val_categorical_accuracy: 0.5200 - lr: 1.0000e-04\n",
    "Epoch 12/30\n",
    "11/11 [==============================] - ETA: 0s - loss: 1.2021 - categorical_accuracy: 0.4751\n",
    "Epoch 00012: val_loss improved from 1.19050 to 1.18416, saving model to /models/model_init_2025-04-0113_56_04.464416/model-00012-1.20206-0.47511-1.18416-0.41000.h5\n",
    "11/11 [==============================] - 39s 4s/step - loss: 1.2021 - categorical_accuracy: 0.4751 - val_loss: 1.1842 - val_categorical_accuracy: 0.4100 - lr: 1.0000e-04\n",
    "Epoch 13/30\n",
    "11/11 [==============================] - ETA: 0s - loss: 1.1882 - categorical_accuracy: 0.4947\n",
    "Epoch 00013: val_loss improved from 1.18416 to 1.15148, saving model to /models/model_init_2025-04-0113_56_04.464416/model-00013-1.18816-0.49472-1.15148-0.45000.h5\n",
    "11/11 [==============================] - 40s 4s/step - loss: 1.1882 - categorical_accuracy: 0.4947 - val_loss: 1.1515 - val_categorical_accuracy: 0.4500 - lr: 1.0000e-04\n",
    "Epoch 14/30\n",
    "11/11 [==============================] - ETA: 0s - loss: 1.1816 - categorical_accuracy: 0.4736\n",
    "Epoch 00014: val_loss improved from 1.15148 to 1.09494, saving model to /models/model_init_2025-04-0113_56_04.464416/model-00014-1.18163-0.47360-1.09494-0.53000.h5\n",
    "11/11 [==============================] - 38s 4s/step - loss: 1.1816 - categorical_accuracy: 0.4736 - val_loss: 1.0949 - val_categorical_accuracy: 0.5300 - lr: 1.0000e-04\n",
    "Epoch 15/30\n",
    "11/11 [==============================] - ETA: 0s - loss: 1.1778 - categorical_accuracy: 0.4872\n",
    "Epoch 00015: val_loss did not improve from 1.09494\n",
    "11/11 [==============================] - 39s 4s/step - loss: 1.1778 - categorical_accuracy: 0.4872 - val_loss: 1.1394 - val_categorical_accuracy: 0.4900 - lr: 1.0000e-04\n",
    "Epoch 16/30\n",
    "11/11 [==============================] - ETA: 0s - loss: 1.1567 - categorical_accuracy: 0.5008\n",
    "Epoch 00016: val_loss did not improve from 1.09494\n",
    "11/11 [==============================] - 38s 4s/step - loss: 1.1567 - categorical_accuracy: 0.5008 - val_loss: 1.1244 - val_categorical_accuracy: 0.5700 - lr: 1.0000e-04\n",
    "Epoch 17/30\n",
    "11/11 [==============================] - ETA: 0s - loss: 1.1519 - categorical_accuracy: 0.4977\n",
    "Epoch 00017: val_loss did not improve from 1.09494\n",
    "\n",
    "Epoch 00017: ReduceLROnPlateau reducing learning rate to 0.0001.\n",
    "11/11 [==============================] - 40s 4s/step - loss: 1.1519 - categorical_accuracy: 0.4977 - val_loss: 1.1223 - val_categorical_accuracy: 0.5200 - lr: 1.0000e-04\n",
    "Epoch 18/30\n",
    "11/11 [==============================] - ETA: 0s - loss: 1.1455 - categorical_accuracy: 0.5083\n",
    "Epoch 00018: val_loss did not improve from 1.09494\n",
    "11/11 [==============================] - 38s 4s/step - loss: 1.1455 - categorical_accuracy: 0.5083 - val_loss: 1.1633 - val_categorical_accuracy: 0.4700 - lr: 1.0000e-04\n",
    "Epoch 19/30\n",
    "11/11 [==============================] - ETA: 0s - loss: 1.1368 - categorical_accuracy: 0.4902\n",
    "Epoch 00019: val_loss did not improve from 1.09494\n",
    "11/11 [==============================] - 39s 4s/step - loss: 1.1368 - categorical_accuracy: 0.4902 - val_loss: 1.1544 - val_categorical_accuracy: 0.5300 - lr: 1.0000e-04\n",
    "Epoch 20/30\n",
    "11/11 [==============================] - ETA: 0s - loss: 1.1296 - categorical_accuracy: 0.5068\n",
    "Epoch 00020: val_loss did not improve from 1.09494\n",
    "11/11 [==============================] - 38s 4s/step - loss: 1.1296 - categorical_accuracy: 0.5068 - val_loss: 1.1634 - val_categorical_accuracy: 0.5300 - lr: 1.0000e-04\n",
    "Epoch 21/30\n",
    "11/11 [==============================] - ETA: 0s - loss: 1.1281 - categorical_accuracy: 0.5204\n",
    "Epoch 00021: val_loss did not improve from 1.09494\n",
    "11/11 [==============================] - 39s 4s/step - loss: 1.1281 - categorical_accuracy: 0.5204 - val_loss: 1.0951 - val_categorical_accuracy: 0.5300 - lr: 1.0000e-04\n",
    "Epoch 22/30\n",
    "11/11 [==============================] - ETA: 0s - loss: 1.1077 - categorical_accuracy: 0.5324\n",
    "Epoch 00022: val_loss did not improve from 1.09494\n",
    "11/11 [==============================] - 38s 4s/step - loss: 1.1077 - categorical_accuracy: 0.5324 - val_loss: 1.1516 - val_categorical_accuracy: 0.4800 - lr: 1.0000e-04\n",
    "Epoch 23/30\n",
    "11/11 [==============================] - ETA: 0s - loss: 1.1065 - categorical_accuracy: 0.5400\n",
    "Epoch 00023: val_loss improved from 1.09494 to 1.03306, saving model to /models/model_init_2025-04-0113_56_04.464416/model-00023-1.10653-0.53997-1.03306-0.54000.h5\n",
    "11/11 [==============================] - 40s 4s/step - loss: 1.1065 - categorical_accuracy: 0.5400 - val_loss: 1.0331 - val_categorical_accuracy: 0.5400 - lr: 1.0000e-04\n",
    "Epoch 24/30\n",
    "11/11 [==============================] - ETA: 0s - loss: 1.0866 - categorical_accuracy: 0.5264\n",
    "Epoch 00024: val_loss did not improve from 1.03306\n",
    "11/11 [==============================] - 38s 4s/step - loss: 1.0866 - categorical_accuracy: 0.5264 - val_loss: 1.1299 - val_categorical_accuracy: 0.5000 - lr: 1.0000e-04\n",
    "Epoch 25/30\n",
    "11/11 [==============================] - ETA: 0s - loss: 1.0826 - categorical_accuracy: 0.5460\n",
    "Epoch 00025: val_loss did not improve from 1.03306\n",
    "11/11 [==============================] - 39s 4s/step - loss: 1.0826 - categorical_accuracy: 0.5460 - val_loss: 1.0464 - val_categorical_accuracy: 0.5400 - lr: 1.0000e-04\n",
    "Epoch 26/30\n",
    "11/11 [==============================] - ETA: 0s - loss: 1.0640 - categorical_accuracy: 0.5475\n",
    "Epoch 00026: val_loss improved from 1.03306 to 0.97513, saving model to /models/model_init_2025-04-0113_56_04.464416/model-00026-1.06397-0.54751-0.97513-0.62000.h5\n",
    "11/11 [==============================] - 38s 4s/step - loss: 1.0640 - categorical_accuracy: 0.5475 - val_loss: 0.9751 - val_categorical_accuracy: 0.6200 - lr: 1.0000e-04\n",
    "Epoch 27/30\n",
    "11/11 [==============================] - ETA: 0s - loss: 1.0612 - categorical_accuracy: 0.5400\n",
    "Epoch 00027: val_loss did not improve from 0.97513\n",
    "11/11 [==============================] - 40s 4s/step - loss: 1.0612 - categorical_accuracy: 0.5400 - val_loss: 1.0323 - val_categorical_accuracy: 0.6000 - lr: 1.0000e-04\n",
    "Epoch 28/30\n",
    "11/11 [==============================] - ETA: 0s - loss: 1.0580 - categorical_accuracy: 0.5324\n",
    "Epoch 00028: val_loss improved from 0.97513 to 0.97324, saving model to /models/model_init_2025-04-0113_56_04.464416/model-00028-1.05798-0.53243-0.97324-0.56000.h5\n",
    "11/11 [==============================] - 38s 4s/step - loss: 1.0580 - categorical_accuracy: 0.5324 - val_loss: 0.9732 - val_categorical_accuracy: 0.5600 - lr: 1.0000e-04\n",
    "Epoch 29/30\n",
    "11/11 [==============================] - ETA: 0s - loss: 1.0433 - categorical_accuracy: 0.5671\n",
    "Epoch 00029: val_loss did not improve from 0.97324\n",
    "11/11 [==============================] - 39s 4s/step - loss: 1.0433 - categorical_accuracy: 0.5671 - val_loss: 1.0668 - val_categorical_accuracy: 0.6100 - lr: 1.0000e-04\n",
    "Epoch 30/30\n",
    "11/11 [==============================] - ETA: 0s - loss: 1.0073 - categorical_accuracy: 0.5913\n",
    "Epoch 00030: val_loss did not improve from 0.97324\n",
    "11/11 [==============================] - 38s 4s/step - loss: 1.0073 - categorical_accuracy: 0.5913 - val_loss: 0.9767 - val_categorical_accuracy: 0.6400 - lr: 1.0000e-04"
   ]
  },
  {
   "cell_type": "code",
   "execution_count": 89,
   "metadata": {},
   "outputs": [],
   "source": [
    "#plot_loss_accuracy(history)"
   ]
  },
  {
   "cell_type": "markdown",
   "metadata": {},
   "source": [
    "### Experiment 2 Observations\n",
    "Difference between train and val accuracy has been reduced."
   ]
  },
  {
   "cell_type": "markdown",
   "metadata": {},
   "source": [
    "### Experiment 2 Conclusion\n",
    "Accuracy is still low; let's pass all the images to the model"
   ]
  },
  {
   "cell_type": "markdown",
   "metadata": {},
   "source": [
    "### Experiment 3 :\n",
    "- frames per video: 30\n",
    "- frame (image) size: 120 * 120\n",
    "- batch size: 32 (initially tried with 100; OOM was thrown)\n",
    "- epochs: 40\n"
   ]
  },
  {
   "cell_type": "code",
   "execution_count": 90,
   "metadata": {},
   "outputs": [],
   "source": [
    "# img_idx_list = [i for i in range(30)]\n",
    "# train_generator = generator(train_data_dir, train_folder_list, img_idx_list, batch_size=32)\n",
    "# val_generator = generator(val_data_dir, val_folder_list, img_idx_list, batch_size=32)"
   ]
  },
  {
   "cell_type": "code",
   "execution_count": 91,
   "metadata": {},
   "outputs": [],
   "source": [
    "# model = Sequential()\n",
    "# sample_shape = (30, 120, 120, 3)\n",
    "# model = Sequential()\n",
    "# model.add(Conv3D(32, kernel_size=(3, 3, 3), activation='relu', padding='same', input_shape=sample_shape))\n",
    "# model.add(MaxPooling3D(pool_size=(2, 2, 2), padding='same'))\n",
    "# model.add(Conv3D(64, kernel_size=(3, 3, 3), activation='relu', padding='same'))\n",
    "# model.add(MaxPooling3D(pool_size=(2, 2, 2), padding='same'))\n",
    "# model.add(Conv3D(128, kernel_size=(3, 3, 3), activation='relu', padding='same'))\n",
    "# model.add(MaxPooling3D(pool_size=(2, 2, 2), padding='same'))\n",
    "# model.add(Conv3D(256, kernel_size=(3, 3, 3), activation='relu', padding='same'))\n",
    "# model.add(MaxPooling3D(pool_size=(2, 2, 2), padding='same'))\n",
    "# model.add(Flatten())\n",
    "# model.add(Dense(128, activation='relu'))\n",
    "# model.add(Dense(128, activation='relu'))\n",
    "# model.add(Dense(no_classes, activation='softmax'))\n",
    "\n",
    "# model.summary()\n"
   ]
  },
  {
   "cell_type": "code",
   "execution_count": 92,
   "metadata": {},
   "outputs": [],
   "source": [
    "# model.compile(optimizer='adam',\n",
    "#               loss=tf.keras.losses.CategoricalCrossentropy(),\n",
    "#               metrics=['categorical_accuracy'])"
   ]
  },
  {
   "cell_type": "code",
   "execution_count": 93,
   "metadata": {},
   "outputs": [],
   "source": [
    "#history = train_model(model, train_generator, val_generator, num_train_sequences, num_val_sequences,32,40)"
   ]
  },
  {
   "cell_type": "markdown",
   "metadata": {},
   "source": [
    "Source path =  /datasets/Project_data/train/ ; batch size = 32\n",
    "Epoch 1/40\n",
    "21/21 [==============================] - ETA: 0s - loss: 1.8117 - categorical_accuracy: 0.1961Source path =  /datasets/Project_data/val/ ; batch size = 32\n",
    "\n",
    "Epoch 00001: val_loss improved from inf to 1.60447, saving model to /models/model_init_2025-04-0114_23_50.572126/model-00001-1.81173-0.19608-1.60447-0.18000.h5\n",
    "21/21 [==============================] - 62s 3s/step - loss: 1.8117 - categorical_accuracy: 0.1961 - val_loss: 1.6045 - val_categorical_accuracy: 0.1800 - lr: 0.0010\n",
    "Epoch 2/40\n",
    "21/21 [==============================] - ETA: 0s - loss: 1.6067 - categorical_accuracy: 0.2172\n",
    "Epoch 00002: val_loss did not improve from 1.60447\n",
    "21/21 [==============================] - 61s 3s/step - loss: 1.6067 - categorical_accuracy: 0.2172 - val_loss: 1.6091 - val_categorical_accuracy: 0.2100 - lr: 0.0010\n",
    "Epoch 3/40\n",
    "21/21 [==============================] - ETA: 0s - loss: 1.5947 - categorical_accuracy: 0.2443\n",
    "Epoch 00003: val_loss did not improve from 1.60447\n",
    "21/21 [==============================] - 59s 3s/step - loss: 1.5947 - categorical_accuracy: 0.2443 - val_loss: 1.6597 - val_categorical_accuracy: 0.2000 - lr: 0.0010\n",
    "Epoch 4/40\n",
    "21/21 [==============================] - ETA: 0s - loss: 1.5720 - categorical_accuracy: 0.2670\n",
    "Epoch 00004: val_loss improved from 1.60447 to 1.49836, saving model to /models/model_init_2025-04-0114_23_50.572126/model-00004-1.57198-0.26697-1.49836-0.36000.h5\n",
    "21/21 [==============================] - 57s 3s/step - loss: 1.5720 - categorical_accuracy: 0.2670 - val_loss: 1.4984 - val_categorical_accuracy: 0.3600 - lr: 0.0010\n",
    "Epoch 5/40\n",
    "21/21 [==============================] - ETA: 0s - loss: 1.5244 - categorical_accuracy: 0.2926\n",
    "Epoch 00005: val_loss did not improve from 1.49836\n",
    "21/21 [==============================] - 59s 3s/step - loss: 1.5244 - categorical_accuracy: 0.2926 - val_loss: 1.5533 - val_categorical_accuracy: 0.2700 - lr: 0.0010\n",
    "Epoch 6/40\n",
    "21/21 [==============================] - ETA: 0s - loss: 1.4447 - categorical_accuracy: 0.3348\n",
    "Epoch 00006: val_loss improved from 1.49836 to 1.38713, saving model to /models/model_init_2025-04-0114_23_50.572126/model-00006-1.44467-0.33484-1.38713-0.33000.h5\n",
    "21/21 [==============================] - 59s 3s/step - loss: 1.4447 - categorical_accuracy: 0.3348 - val_loss: 1.3871 - val_categorical_accuracy: 0.3300 - lr: 0.0010\n",
    "Epoch 7/40\n",
    "21/21 [==============================] - ETA: 0s - loss: 1.3888 - categorical_accuracy: 0.3529\n",
    "Epoch 00007: val_loss improved from 1.38713 to 1.36220, saving model to /models/model_init_2025-04-0114_23_50.572126/model-00007-1.38882-0.35294-1.36220-0.39000.h5\n",
    "21/21 [==============================] - 59s 3s/step - loss: 1.3888 - categorical_accuracy: 0.3529 - val_loss: 1.3622 - val_categorical_accuracy: 0.3900 - lr: 0.0010\n",
    "Epoch 8/40\n",
    "21/21 [==============================] - ETA: 0s - loss: 1.3911 - categorical_accuracy: 0.3695\n",
    "Epoch 00008: val_loss improved from 1.36220 to 1.29092, saving model to /models/model_init_2025-04-0114_23_50.572126/model-00008-1.39107-0.36953-1.29092-0.46000.h5\n",
    "21/21 [==============================] - 56s 3s/step - loss: 1.3911 - categorical_accuracy: 0.3695 - val_loss: 1.2909 - val_categorical_accuracy: 0.4600 - lr: 0.0010\n",
    "Epoch 9/40\n",
    "21/21 [==============================] - ETA: 0s - loss: 1.2739 - categorical_accuracy: 0.4118\n",
    "Epoch 00009: val_loss improved from 1.29092 to 1.20215, saving model to /models/model_init_2025-04-0114_23_50.572126/model-00009-1.27386-0.41176-1.20215-0.43000.h5\n",
    "21/21 [==============================] - 58s 3s/step - loss: 1.2739 - categorical_accuracy: 0.4118 - val_loss: 1.2021 - val_categorical_accuracy: 0.4300 - lr: 0.0010\n",
    "Epoch 10/40\n",
    "21/21 [==============================] - ETA: 0s - loss: 1.2407 - categorical_accuracy: 0.4148\n",
    "Epoch 00010: val_loss did not improve from 1.20215\n",
    "21/21 [==============================] - 58s 3s/step - loss: 1.2407 - categorical_accuracy: 0.4148 - val_loss: 1.4665 - val_categorical_accuracy: 0.2900 - lr: 0.0010\n",
    "Epoch 11/40\n",
    "21/21 [==============================] - ETA: 0s - loss: 1.2166 - categorical_accuracy: 0.4314\n",
    "Epoch 00011: val_loss improved from 1.20215 to 1.12595, saving model to /models/model_init_2025-04-0114_23_50.572126/model-00011-1.21661-0.43137-1.12595-0.53000.h5\n",
    "21/21 [==============================] - 59s 3s/step - loss: 1.2166 - categorical_accuracy: 0.4314 - val_loss: 1.1260 - val_categorical_accuracy: 0.5300 - lr: 0.0010\n",
    "Epoch 12/40\n",
    "21/21 [==============================] - ETA: 0s - loss: 1.1767 - categorical_accuracy: 0.4691\n",
    "Epoch 00012: val_loss did not improve from 1.12595\n",
    "21/21 [==============================] - 56s 3s/step - loss: 1.1767 - categorical_accuracy: 0.4691 - val_loss: 1.1789 - val_categorical_accuracy: 0.4900 - lr: 0.0010\n",
    "Epoch 13/40\n",
    "21/21 [==============================] - ETA: 0s - loss: 1.1939 - categorical_accuracy: 0.4268\n",
    "Epoch 00013: val_loss did not improve from 1.12595\n",
    "21/21 [==============================] - 58s 3s/step - loss: 1.1939 - categorical_accuracy: 0.4268 - val_loss: 1.1638 - val_categorical_accuracy: 0.5300 - lr: 0.0010\n",
    "Epoch 14/40\n",
    "21/21 [==============================] - ETA: 0s - loss: 1.1730 - categorical_accuracy: 0.5023\n",
    "Epoch 00014: val_loss improved from 1.12595 to 1.12261, saving model to /models/model_init_2025-04-0114_23_50.572126/model-00014-1.17304-0.50226-1.12261-0.46000.h5\n",
    "21/21 [==============================] - 59s 3s/step - loss: 1.1730 - categorical_accuracy: 0.5023 - val_loss: 1.1226 - val_categorical_accuracy: 0.4600 - lr: 0.0010\n",
    "Epoch 15/40\n",
    "21/21 [==============================] - ETA: 0s - loss: 1.1315 - categorical_accuracy: 0.5083\n",
    "Epoch 00015: val_loss did not improve from 1.12261\n",
    "21/21 [==============================] - 59s 3s/step - loss: 1.1315 - categorical_accuracy: 0.5083 - val_loss: 1.1424 - val_categorical_accuracy: 0.5200 - lr: 0.0010\n",
    "Epoch 16/40\n",
    "21/21 [==============================] - ETA: 0s - loss: 1.0856 - categorical_accuracy: 0.5249\n",
    "Epoch 00016: val_loss improved from 1.12261 to 1.05000, saving model to /models/model_init_2025-04-0114_23_50.572126/model-00016-1.08561-0.52489-1.05000-0.56000.h5\n",
    "21/21 [==============================] - 57s 3s/step - loss: 1.0856 - categorical_accuracy: 0.5249 - val_loss: 1.0500 - val_categorical_accuracy: 0.5600 - lr: 0.0010\n",
    "Epoch 17/40\n",
    "21/21 [==============================] - ETA: 0s - loss: 1.0228 - categorical_accuracy: 0.5807\n",
    "Epoch 00017: val_loss did not improve from 1.05000\n",
    "21/21 [==============================] - 58s 3s/step - loss: 1.0228 - categorical_accuracy: 0.5807 - val_loss: 1.0910 - val_categorical_accuracy: 0.6000 - lr: 0.0010\n",
    "Epoch 18/40\n",
    "21/21 [==============================] - ETA: 0s - loss: 1.0959 - categorical_accuracy: 0.5294\n",
    "Epoch 00018: val_loss did not improve from 1.05000\n",
    "21/21 [==============================] - 59s 3s/step - loss: 1.0959 - categorical_accuracy: 0.5294 - val_loss: 1.0643 - val_categorical_accuracy: 0.5800 - lr: 0.0010\n",
    "Epoch 19/40\n",
    "21/21 [==============================] - ETA: 0s - loss: 0.9370 - categorical_accuracy: 0.5913\n",
    "Epoch 00019: val_loss did not improve from 1.05000\n",
    "\n",
    "Epoch 00019: ReduceLROnPlateau reducing learning rate to 0.00010000000474974513.\n",
    "21/21 [==============================] - 59s 3s/step - loss: 0.9370 - categorical_accuracy: 0.5913 - val_loss: 1.1944 - val_categorical_accuracy: 0.5800 - lr: 0.0010\n",
    "Epoch 20/40\n",
    "21/21 [==============================] - ETA: 0s - loss: 0.8594 - categorical_accuracy: 0.6546\n",
    "Epoch 00020: val_loss improved from 1.05000 to 0.98740, saving model to /models/model_init_2025-04-0114_23_50.572126/model-00020-0.85940-0.65460-0.98740-0.65000.h5\n",
    "21/21 [==============================] - 57s 3s/step - loss: 0.8594 - categorical_accuracy: 0.6546 - val_loss: 0.9874 - val_categorical_accuracy: 0.6500 - lr: 1.0000e-04\n",
    "Epoch 21/40\n",
    "21/21 [==============================] - ETA: 0s - loss: 0.8279 - categorical_accuracy: 0.6606\n",
    "Epoch 00021: val_loss did not improve from 0.98740\n",
    "21/21 [==============================] - 58s 3s/step - loss: 0.8279 - categorical_accuracy: 0.6606 - val_loss: 1.0327 - val_categorical_accuracy: 0.6400 - lr: 1.0000e-04\n",
    "Epoch 22/40\n",
    "21/21 [==============================] - ETA: 0s - loss: 0.8104 - categorical_accuracy: 0.6682\n",
    "Epoch 00022: val_loss did not improve from 0.98740\n",
    "21/21 [==============================] - 58s 3s/step - loss: 0.8104 - categorical_accuracy: 0.6682 - val_loss: 1.1006 - val_categorical_accuracy: 0.6100 - lr: 1.0000e-04\n",
    "Epoch 23/40\n",
    "21/21 [==============================] - ETA: 0s - loss: 0.8055 - categorical_accuracy: 0.6712\n",
    "Epoch 00023: val_loss improved from 0.98740 to 0.87473, saving model to /models/model_init_2025-04-0114_23_50.572126/model-00023-0.80550-0.67119-0.87473-0.67000.h5\n",
    "21/21 [==============================] - 60s 3s/step - loss: 0.8055 - categorical_accuracy: 0.6712 - val_loss: 0.8747 - val_categorical_accuracy: 0.6700 - lr: 1.0000e-04\n",
    "Epoch 24/40\n",
    "21/21 [==============================] - ETA: 0s - loss: 0.7638 - categorical_accuracy: 0.6908\n",
    "Epoch 00024: val_loss did not improve from 0.87473\n",
    "21/21 [==============================] - 58s 3s/step - loss: 0.7638 - categorical_accuracy: 0.6908 - val_loss: 0.9609 - val_categorical_accuracy: 0.6300 - lr: 1.0000e-04\n",
    "Epoch 25/40\n",
    "21/21 [==============================] - ETA: 0s - loss: 0.7416 - categorical_accuracy: 0.7014\n",
    "Epoch 00025: val_loss did not improve from 0.87473\n",
    "21/21 [==============================] - 59s 3s/step - loss: 0.7416 - categorical_accuracy: 0.7014 - val_loss: 0.9977 - val_categorical_accuracy: 0.6100 - lr: 1.0000e-04\n",
    "Epoch 26/40\n",
    "21/21 [==============================] - ETA: 0s - loss: 0.7512 - categorical_accuracy: 0.6817\n",
    "Epoch 00026: val_loss did not improve from 0.87473\n",
    "\n",
    "Epoch 00026: ReduceLROnPlateau reducing learning rate to 0.0001.\n",
    "21/21 [==============================] - 59s 3s/step - loss: 0.7512 - categorical_accuracy: 0.6817 - val_loss: 0.9696 - val_categorical_accuracy: 0.6900 - lr: 1.0000e-04\n",
    "Epoch 27/40\n",
    "21/21 [==============================] - ETA: 0s - loss: 0.7265 - categorical_accuracy: 0.7119\n",
    "Epoch 00027: val_loss did not improve from 0.87473\n",
    "21/21 [==============================] - 59s 3s/step - loss: 0.7265 - categorical_accuracy: 0.7119 - val_loss: 0.9869 - val_categorical_accuracy: 0.6700 - lr: 1.0000e-04\n",
    "Epoch 28/40\n",
    "21/21 [==============================] - ETA: 0s - loss: 0.7272 - categorical_accuracy: 0.7089\n",
    "Epoch 00028: val_loss did not improve from 0.87473\n",
    "21/21 [==============================] - 56s 3s/step - loss: 0.7272 - categorical_accuracy: 0.7089 - val_loss: 0.9710 - val_categorical_accuracy: 0.6600 - lr: 1.0000e-04\n",
    "Epoch 29/40\n",
    "21/21 [==============================] - ETA: 0s - loss: 0.7154 - categorical_accuracy: 0.7119\n",
    "Epoch 00029: val_loss did not improve from 0.87473\n",
    "21/21 [==============================] - 58s 3s/step - loss: 0.7154 - categorical_accuracy: 0.7119 - val_loss: 1.0278 - val_categorical_accuracy: 0.6700 - lr: 1.0000e-04\n",
    "Epoch 30/40\n",
    "21/21 [==============================] - ETA: 0s - loss: 0.7050 - categorical_accuracy: 0.7240\n",
    "Epoch 00030: val_loss did not improve from 0.87473\n",
    "21/21 [==============================] - 58s 3s/step - loss: 0.7050 - categorical_accuracy: 0.7240 - val_loss: 0.9856 - val_categorical_accuracy: 0.6800 - lr: 1.0000e-04\n",
    "Epoch 31/40\n",
    "21/21 [==============================] - ETA: 0s - loss: 0.6951 - categorical_accuracy: 0.7179\n",
    "Epoch 00031: val_loss did not improve from 0.87473\n",
    "21/21 [==============================] - 59s 3s/step - loss: 0.6951 - categorical_accuracy: 0.7179 - val_loss: 0.9897 - val_categorical_accuracy: 0.6300 - lr: 1.0000e-04\n",
    "Epoch 32/40\n",
    "21/21 [==============================] - ETA: 0s - loss: 0.7055 - categorical_accuracy: 0.7104\n",
    "Epoch 00032: val_loss did not improve from 0.87473\n",
    "21/21 [==============================] - 57s 3s/step - loss: 0.7055 - categorical_accuracy: 0.7104 - val_loss: 0.8909 - val_categorical_accuracy: 0.6900 - lr: 1.0000e-04\n",
    "Epoch 33/40\n",
    "21/21 [==============================] - ETA: 0s - loss: 0.6965 - categorical_accuracy: 0.7285\n",
    "Epoch 00033: val_loss did not improve from 0.87473\n",
    "21/21 [==============================] - 58s 3s/step - loss: 0.6965 - categorical_accuracy: 0.7285 - val_loss: 0.9758 - val_categorical_accuracy: 0.6600 - lr: 1.0000e-04\n",
    "Epoch 34/40\n",
    "21/21 [==============================] - ETA: 0s - loss: 0.6686 - categorical_accuracy: 0.7285\n",
    "Epoch 00034: val_loss did not improve from 0.87473\n",
    "21/21 [==============================] - 59s 3s/step - loss: 0.6686 - categorical_accuracy: 0.7285 - val_loss: 0.8818 - val_categorical_accuracy: 0.7000 - lr: 1.0000e-04\n",
    "Epoch 35/40\n",
    "21/21 [==============================] - ETA: 0s - loss: 0.6676 - categorical_accuracy: 0.7179\n",
    "Epoch 00035: val_loss did not improve from 0.87473\n",
    "21/21 [==============================] - 58s 3s/step - loss: 0.6676 - categorical_accuracy: 0.7179 - val_loss: 1.0930 - val_categorical_accuracy: 0.6100 - lr: 1.0000e-04\n",
    "Epoch 36/40\n",
    "21/21 [==============================] - ETA: 0s - loss: 0.6569 - categorical_accuracy: 0.7526\n",
    "Epoch 00036: val_loss improved from 0.87473 to 0.85698, saving model to /models/model_init_2025-04-0114_23_50.572126/model-00036-0.65691-0.75264-0.85698-0.69000.h5\n",
    "21/21 [==============================] - 56s 3s/step - loss: 0.6569 - categorical_accuracy: 0.7526 - val_loss: 0.8570 - val_categorical_accuracy: 0.6900 - lr: 1.0000e-04\n",
    "Epoch 37/40\n",
    "21/21 [==============================] - ETA: 0s - loss: 0.6582 - categorical_accuracy: 0.7119\n",
    "Epoch 00037: val_loss did not improve from 0.85698\n",
    "21/21 [==============================] - 59s 3s/step - loss: 0.6582 - categorical_accuracy: 0.7119 - val_loss: 0.9600 - val_categorical_accuracy: 0.6600 - lr: 1.0000e-04\n",
    "Epoch 38/40\n",
    "21/21 [==============================] - ETA: 0s - loss: 0.6467 - categorical_accuracy: 0.7345\n",
    "Epoch 00038: val_loss did not improve from 0.85698\n",
    "21/21 [==============================] - 59s 3s/step - loss: 0.6467 - categorical_accuracy: 0.7345 - val_loss: 0.9152 - val_categorical_accuracy: 0.7100 - lr: 1.0000e-04\n",
    "Epoch 39/40\n",
    "21/21 [==============================] - ETA: 0s - loss: 0.6188 - categorical_accuracy: 0.7481\n",
    "Epoch 00039: val_loss did not improve from 0.85698\n",
    "21/21 [==============================] - 59s 3s/step - loss: 0.6188 - categorical_accuracy: 0.7481 - val_loss: 0.8993 - val_categorical_accuracy: 0.6500 - lr: 1.0000e-04\n",
    "Epoch 40/40\n",
    "21/21 [==============================] - ETA: 0s - loss: 0.6323 - categorical_accuracy: 0.7360\n",
    "Epoch 00040: val_loss did not improve from 0.85698\n",
    "21/21 [==============================] - 59s 3s/step - loss: 0.6323 - categorical_accuracy: 0.7360 - val_loss: 1.0859 - val_categorical_accuracy: 0.6000 - lr: 1.0000e-04"
   ]
  },
  {
   "cell_type": "code",
   "execution_count": 94,
   "metadata": {},
   "outputs": [],
   "source": [
    "#plot_loss_accuracy(history)"
   ]
  },
  {
   "cell_type": "markdown",
   "metadata": {},
   "source": [
    "### Experiment 3 Observations\n",
    "val and train accuracy are same as previous experiment."
   ]
  },
  {
   "cell_type": "markdown",
   "metadata": {},
   "source": [
    "### Experiment 3 Conclusion\n",
    "We need to improve the accuracy; passing more images did not help"
   ]
  },
  {
   "cell_type": "markdown",
   "metadata": {},
   "source": [
    "### Experiment 4 Adding more layers to the model\n",
    "- frames per video: 20\n",
    "- frame (image) size: 120 * 120\n",
    "- batch size: 64\n",
    "- epochs: 30"
   ]
  },
  {
   "cell_type": "code",
   "execution_count": 61,
   "metadata": {},
   "outputs": [],
   "source": [
    "train_generator = generator(train_data_dir, train_folder_list)\n",
    "val_generator = generator(val_data_dir, val_folder_list)"
   ]
  },
  {
   "cell_type": "code",
   "execution_count": 96,
   "metadata": {},
   "outputs": [
    {
     "name": "stdout",
     "output_type": "stream",
     "text": [
      "Model: \"sequential_17\"\n",
      "_________________________________________________________________\n",
      " Layer (type)                Output Shape              Param #   \n",
      "=================================================================\n",
      " conv3d_36 (Conv3D)          (None, 20, 120, 120, 32)  2624      \n",
      "                                                                 \n",
      " max_pooling3d_36 (MaxPoolin  (None, 10, 60, 60, 32)   0         \n",
      " g3D)                                                            \n",
      "                                                                 \n",
      " conv3d_37 (Conv3D)          (None, 10, 60, 60, 64)    55360     \n",
      "                                                                 \n",
      " max_pooling3d_37 (MaxPoolin  (None, 5, 30, 30, 64)    0         \n",
      " g3D)                                                            \n",
      "                                                                 \n",
      " conv3d_38 (Conv3D)          (None, 5, 30, 30, 128)    221312    \n",
      "                                                                 \n",
      " max_pooling3d_38 (MaxPoolin  (None, 3, 15, 15, 128)   0         \n",
      " g3D)                                                            \n",
      "                                                                 \n",
      " conv3d_39 (Conv3D)          (None, 3, 15, 15, 256)    884992    \n",
      "                                                                 \n",
      " max_pooling3d_39 (MaxPoolin  (None, 2, 8, 8, 256)     0         \n",
      " g3D)                                                            \n",
      "                                                                 \n",
      " flatten_9 (Flatten)         (None, 32768)             0         \n",
      "                                                                 \n",
      " dense_27 (Dense)            (None, 128)               4194432   \n",
      "                                                                 \n",
      " dense_28 (Dense)            (None, 128)               16512     \n",
      "                                                                 \n",
      " dense_29 (Dense)            (None, 5)                 645       \n",
      "                                                                 \n",
      "=================================================================\n",
      "Total params: 5,375,877\n",
      "Trainable params: 5,375,877\n",
      "Non-trainable params: 0\n",
      "_________________________________________________________________\n"
     ]
    }
   ],
   "source": [
    "model = Sequential()\n",
    "sample_shape = (20, 120, 120, 3)\n",
    "model.add(Conv3D(32, kernel_size=(3, 3, 3), activation='relu', padding='same', input_shape=sample_shape))\n",
    "model.add(MaxPooling3D(pool_size=(2, 2, 2), padding='same'))\n",
    "model.add(Conv3D(64, kernel_size=(3, 3, 3), activation='relu', padding='same'))\n",
    "model.add(MaxPooling3D(pool_size=(2, 2, 2), padding='same'))\n",
    "model.add(Conv3D(128, kernel_size=(3, 3, 3), activation='relu', padding='same'))\n",
    "model.add(MaxPooling3D(pool_size=(2, 2, 2), padding='same'))\n",
    "model.add(Conv3D(256, kernel_size=(3, 3, 3), activation='relu', padding='same'))\n",
    "model.add(MaxPooling3D(pool_size=(2, 2, 2), padding='same'))\n",
    "model.add(Flatten())\n",
    "model.add(Dense(128, activation='relu'))\n",
    "model.add(Dense(128, activation='relu'))\n",
    "model.add(Dense(no_classes, activation='softmax'))\n",
    "\n",
    "model.summary()"
   ]
  },
  {
   "cell_type": "code",
   "execution_count": 97,
   "metadata": {},
   "outputs": [],
   "source": [
    "model.compile(optimizer='adam',\n",
    "              loss=tf.keras.losses.CategoricalCrossentropy(),\n",
    "              metrics=['categorical_accuracy'])"
   ]
  },
  {
   "cell_type": "code",
   "execution_count": 98,
   "metadata": {},
   "outputs": [
    {
     "name": "stdout",
     "output_type": "stream",
     "text": [
      "Source path =  /datasets/Project_data/train/ ; batch size = 64\n",
      "Epoch 1/50\n",
      "11/11 [==============================] - ETA: 0s - loss: 1.6686 - categorical_accuracy: 0.2006Source path =  /datasets/Project_data/val/ ; batch size = 64\n",
      "\n",
      "Epoch 00001: val_loss improved from inf to 1.59680, saving model to /models/model_init_2025-04-0115_08_22.402613/model-00001-1.66862-0.20060-1.59680-0.23000.h5\n",
      "11/11 [==============================] - 40s 4s/step - loss: 1.6686 - categorical_accuracy: 0.2006 - val_loss: 1.5968 - val_categorical_accuracy: 0.2300 - lr: 0.0010\n",
      "Epoch 2/50\n",
      "11/11 [==============================] - ETA: 0s - loss: 1.5997 - categorical_accuracy: 0.1976\n",
      "Epoch 00002: val_loss improved from 1.59680 to 1.55567, saving model to /models/model_init_2025-04-0115_08_22.402613/model-00002-1.59970-0.19759-1.55567-0.24000.h5\n",
      "11/11 [==============================] - 37s 4s/step - loss: 1.5997 - categorical_accuracy: 0.1976 - val_loss: 1.5557 - val_categorical_accuracy: 0.2400 - lr: 0.0010\n",
      "Epoch 3/50\n",
      "11/11 [==============================] - ETA: 0s - loss: 1.5482 - categorical_accuracy: 0.2685\n",
      "Epoch 00003: val_loss did not improve from 1.55567\n",
      "11/11 [==============================] - 39s 4s/step - loss: 1.5482 - categorical_accuracy: 0.2685 - val_loss: 1.5954 - val_categorical_accuracy: 0.3000 - lr: 0.0010\n",
      "Epoch 4/50\n",
      "11/11 [==============================] - ETA: 0s - loss: 1.5169 - categorical_accuracy: 0.3213\n",
      "Epoch 00004: val_loss improved from 1.55567 to 1.53408, saving model to /models/model_init_2025-04-0115_08_22.402613/model-00004-1.51686-0.32127-1.53408-0.33000.h5\n",
      "11/11 [==============================] - 37s 4s/step - loss: 1.5169 - categorical_accuracy: 0.3213 - val_loss: 1.5341 - val_categorical_accuracy: 0.3300 - lr: 0.0010\n",
      "Epoch 5/50\n",
      "11/11 [==============================] - ETA: 0s - loss: 1.4278 - categorical_accuracy: 0.3499\n",
      "Epoch 00005: val_loss improved from 1.53408 to 1.33274, saving model to /models/model_init_2025-04-0115_08_22.402613/model-00005-1.42779-0.34992-1.33274-0.40000.h5\n",
      "11/11 [==============================] - 39s 4s/step - loss: 1.4278 - categorical_accuracy: 0.3499 - val_loss: 1.3327 - val_categorical_accuracy: 0.4000 - lr: 0.0010\n",
      "Epoch 6/50\n",
      "11/11 [==============================] - ETA: 0s - loss: 1.3439 - categorical_accuracy: 0.4118\n",
      "Epoch 00006: val_loss improved from 1.33274 to 1.27853, saving model to /models/model_init_2025-04-0115_08_22.402613/model-00006-1.34394-0.41176-1.27853-0.39000.h5\n",
      "11/11 [==============================] - 38s 4s/step - loss: 1.3439 - categorical_accuracy: 0.4118 - val_loss: 1.2785 - val_categorical_accuracy: 0.3900 - lr: 0.0010\n",
      "Epoch 7/50\n",
      "11/11 [==============================] - ETA: 0s - loss: 1.3316 - categorical_accuracy: 0.3952\n",
      "Epoch 00007: val_loss did not improve from 1.27853\n",
      "11/11 [==============================] - 38s 4s/step - loss: 1.3316 - categorical_accuracy: 0.3952 - val_loss: 1.2990 - val_categorical_accuracy: 0.4200 - lr: 0.0010\n",
      "Epoch 8/50\n",
      "11/11 [==============================] - ETA: 0s - loss: 1.3008 - categorical_accuracy: 0.4178\n",
      "Epoch 00008: val_loss did not improve from 1.27853\n",
      "11/11 [==============================] - 37s 4s/step - loss: 1.3008 - categorical_accuracy: 0.4178 - val_loss: 1.3242 - val_categorical_accuracy: 0.4100 - lr: 0.0010\n",
      "Epoch 9/50\n",
      "11/11 [==============================] - ETA: 0s - loss: 1.2813 - categorical_accuracy: 0.4419\n",
      "Epoch 00009: val_loss improved from 1.27853 to 1.23150, saving model to /models/model_init_2025-04-0115_08_22.402613/model-00009-1.28126-0.44193-1.23150-0.46000.h5\n",
      "11/11 [==============================] - 40s 4s/step - loss: 1.2813 - categorical_accuracy: 0.4419 - val_loss: 1.2315 - val_categorical_accuracy: 0.4600 - lr: 0.0010\n",
      "Epoch 10/50\n",
      "11/11 [==============================] - ETA: 0s - loss: 1.2673 - categorical_accuracy: 0.4495\n",
      "Epoch 00010: val_loss improved from 1.23150 to 1.16651, saving model to /models/model_init_2025-04-0115_08_22.402613/model-00010-1.26735-0.44947-1.16651-0.49000.h5\n",
      "11/11 [==============================] - 37s 4s/step - loss: 1.2673 - categorical_accuracy: 0.4495 - val_loss: 1.1665 - val_categorical_accuracy: 0.4900 - lr: 0.0010\n",
      "Epoch 11/50\n",
      "11/11 [==============================] - ETA: 0s - loss: 1.2309 - categorical_accuracy: 0.4676\n",
      "Epoch 00011: val_loss did not improve from 1.16651\n",
      "11/11 [==============================] - 39s 4s/step - loss: 1.2309 - categorical_accuracy: 0.4676 - val_loss: 1.2067 - val_categorical_accuracy: 0.4700 - lr: 0.0010\n",
      "Epoch 12/50\n",
      "11/11 [==============================] - ETA: 0s - loss: 1.2005 - categorical_accuracy: 0.4615\n",
      "Epoch 00012: val_loss improved from 1.16651 to 1.08117, saving model to /models/model_init_2025-04-0115_08_22.402613/model-00012-1.20046-0.46154-1.08117-0.57000.h5\n",
      "11/11 [==============================] - 37s 4s/step - loss: 1.2005 - categorical_accuracy: 0.4615 - val_loss: 1.0812 - val_categorical_accuracy: 0.5700 - lr: 0.0010\n",
      "Epoch 13/50\n",
      "11/11 [==============================] - ETA: 0s - loss: 1.1912 - categorical_accuracy: 0.4570\n",
      "Epoch 00013: val_loss did not improve from 1.08117\n",
      "11/11 [==============================] - 47s 5s/step - loss: 1.1912 - categorical_accuracy: 0.4570 - val_loss: 1.1977 - val_categorical_accuracy: 0.4800 - lr: 0.0010\n",
      "Epoch 14/50\n",
      "11/11 [==============================] - ETA: 0s - loss: 1.1672 - categorical_accuracy: 0.4736\n",
      "Epoch 00014: val_loss did not improve from 1.08117\n",
      "11/11 [==============================] - 38s 4s/step - loss: 1.1672 - categorical_accuracy: 0.4736 - val_loss: 1.0898 - val_categorical_accuracy: 0.5000 - lr: 0.0010\n",
      "Epoch 15/50\n",
      "11/11 [==============================] - ETA: 0s - loss: 1.1783 - categorical_accuracy: 0.4796\n",
      "Epoch 00015: val_loss did not improve from 1.08117\n",
      "\n",
      "Epoch 00015: ReduceLROnPlateau reducing learning rate to 0.00010000000474974513.\n",
      "11/11 [==============================] - 39s 4s/step - loss: 1.1783 - categorical_accuracy: 0.4796 - val_loss: 1.5754 - val_categorical_accuracy: 0.2900 - lr: 0.0010\n",
      "Epoch 16/50\n",
      "11/11 [==============================] - ETA: 0s - loss: 1.2646 - categorical_accuracy: 0.4585\n",
      "Epoch 00016: val_loss did not improve from 1.08117\n",
      "11/11 [==============================] - 37s 4s/step - loss: 1.2646 - categorical_accuracy: 0.4585 - val_loss: 1.1174 - val_categorical_accuracy: 0.5300 - lr: 1.0000e-04\n",
      "Epoch 17/50\n",
      "11/11 [==============================] - ETA: 0s - loss: 1.0997 - categorical_accuracy: 0.5400\n",
      "Epoch 00017: val_loss improved from 1.08117 to 1.06120, saving model to /models/model_init_2025-04-0115_08_22.402613/model-00017-1.09973-0.53997-1.06120-0.54000.h5\n",
      "11/11 [==============================] - 39s 4s/step - loss: 1.0997 - categorical_accuracy: 0.5400 - val_loss: 1.0612 - val_categorical_accuracy: 0.5400 - lr: 1.0000e-04\n",
      "Epoch 18/50\n",
      "11/11 [==============================] - ETA: 0s - loss: 1.0662 - categorical_accuracy: 0.5400\n",
      "Epoch 00018: val_loss improved from 1.06120 to 1.03109, saving model to /models/model_init_2025-04-0115_08_22.402613/model-00018-1.06622-0.53997-1.03109-0.54000.h5\n",
      "11/11 [==============================] - 37s 4s/step - loss: 1.0662 - categorical_accuracy: 0.5400 - val_loss: 1.0311 - val_categorical_accuracy: 0.5400 - lr: 1.0000e-04\n",
      "Epoch 19/50\n",
      "11/11 [==============================] - ETA: 0s - loss: 1.0334 - categorical_accuracy: 0.5581\n",
      "Epoch 00019: val_loss improved from 1.03109 to 0.99190, saving model to /models/model_init_2025-04-0115_08_22.402613/model-00019-1.03343-0.55807-0.99190-0.54000.h5\n",
      "11/11 [==============================] - 38s 4s/step - loss: 1.0334 - categorical_accuracy: 0.5581 - val_loss: 0.9919 - val_categorical_accuracy: 0.5400 - lr: 1.0000e-04\n",
      "Epoch 20/50\n",
      "11/11 [==============================] - ETA: 0s - loss: 1.0310 - categorical_accuracy: 0.5626\n",
      "Epoch 00020: val_loss did not improve from 0.99190\n",
      "11/11 [==============================] - 37s 4s/step - loss: 1.0310 - categorical_accuracy: 0.5626 - val_loss: 1.0423 - val_categorical_accuracy: 0.5500 - lr: 1.0000e-04\n",
      "Epoch 21/50\n",
      "11/11 [==============================] - ETA: 0s - loss: 1.0237 - categorical_accuracy: 0.5611\n",
      "Epoch 00021: val_loss did not improve from 0.99190\n",
      "11/11 [==============================] - 39s 4s/step - loss: 1.0237 - categorical_accuracy: 0.5611 - val_loss: 1.0424 - val_categorical_accuracy: 0.5200 - lr: 1.0000e-04\n",
      "Epoch 22/50\n",
      "11/11 [==============================] - ETA: 0s - loss: 1.0063 - categorical_accuracy: 0.5551\n",
      "Epoch 00022: val_loss did not improve from 0.99190\n",
      "\n",
      "Epoch 00022: ReduceLROnPlateau reducing learning rate to 0.0001.\n",
      "11/11 [==============================] - 37s 4s/step - loss: 1.0063 - categorical_accuracy: 0.5551 - val_loss: 1.0291 - val_categorical_accuracy: 0.5900 - lr: 1.0000e-04\n",
      "Epoch 23/50\n",
      "11/11 [==============================] - ETA: 0s - loss: 0.9823 - categorical_accuracy: 0.5792\n",
      "Epoch 00023: val_loss improved from 0.99190 to 0.98725, saving model to /models/model_init_2025-04-0115_08_22.402613/model-00023-0.98228-0.57919-0.98725-0.58000.h5\n",
      "11/11 [==============================] - 39s 4s/step - loss: 0.9823 - categorical_accuracy: 0.5792 - val_loss: 0.9872 - val_categorical_accuracy: 0.5800 - lr: 1.0000e-04\n",
      "Epoch 24/50\n",
      "11/11 [==============================] - ETA: 0s - loss: 0.9723 - categorical_accuracy: 0.5822\n",
      "Epoch 00024: val_loss did not improve from 0.98725\n",
      "11/11 [==============================] - 39s 4s/step - loss: 0.9723 - categorical_accuracy: 0.5822 - val_loss: 1.0754 - val_categorical_accuracy: 0.5200 - lr: 1.0000e-04\n",
      "Epoch 25/50\n",
      "11/11 [==============================] - ETA: 0s - loss: 0.9692 - categorical_accuracy: 0.5973\n",
      "Epoch 00025: val_loss did not improve from 0.98725\n",
      "11/11 [==============================] - 40s 4s/step - loss: 0.9692 - categorical_accuracy: 0.5973 - val_loss: 1.0129 - val_categorical_accuracy: 0.5800 - lr: 1.0000e-04\n",
      "Epoch 26/50\n",
      "11/11 [==============================] - ETA: 0s - loss: 0.9658 - categorical_accuracy: 0.5807\n",
      "Epoch 00026: val_loss improved from 0.98725 to 0.98680, saving model to /models/model_init_2025-04-0115_08_22.402613/model-00026-0.96579-0.58069-0.98680-0.57000.h5\n",
      "11/11 [==============================] - 39s 4s/step - loss: 0.9658 - categorical_accuracy: 0.5807 - val_loss: 0.9868 - val_categorical_accuracy: 0.5700 - lr: 1.0000e-04\n",
      "Epoch 27/50\n",
      "11/11 [==============================] - ETA: 0s - loss: 0.9769 - categorical_accuracy: 0.5762\n",
      "Epoch 00027: val_loss did not improve from 0.98680\n",
      "11/11 [==============================] - 39s 4s/step - loss: 0.9769 - categorical_accuracy: 0.5762 - val_loss: 1.0065 - val_categorical_accuracy: 0.5900 - lr: 1.0000e-04\n",
      "Epoch 28/50\n",
      "11/11 [==============================] - ETA: 0s - loss: 0.9493 - categorical_accuracy: 0.5897\n",
      "Epoch 00028: val_loss did not improve from 0.98680\n",
      "11/11 [==============================] - 38s 4s/step - loss: 0.9493 - categorical_accuracy: 0.5897 - val_loss: 0.9949 - val_categorical_accuracy: 0.5700 - lr: 1.0000e-04\n",
      "Epoch 29/50\n",
      "11/11 [==============================] - ETA: 0s - loss: 0.9385 - categorical_accuracy: 0.6003\n",
      "Epoch 00029: val_loss improved from 0.98680 to 0.95069, saving model to /models/model_init_2025-04-0115_08_22.402613/model-00029-0.93850-0.60030-0.95069-0.61000.h5\n",
      "11/11 [==============================] - 40s 4s/step - loss: 0.9385 - categorical_accuracy: 0.6003 - val_loss: 0.9507 - val_categorical_accuracy: 0.6100 - lr: 1.0000e-04\n",
      "Epoch 30/50\n",
      "11/11 [==============================] - ETA: 0s - loss: 0.9540 - categorical_accuracy: 0.6018\n",
      "Epoch 00030: val_loss did not improve from 0.95069\n",
      "11/11 [==============================] - 40s 4s/step - loss: 0.9540 - categorical_accuracy: 0.6018 - val_loss: 0.9740 - val_categorical_accuracy: 0.5900 - lr: 1.0000e-04\n",
      "Epoch 31/50\n",
      "11/11 [==============================] - ETA: 0s - loss: 0.9325 - categorical_accuracy: 0.6063\n",
      "Epoch 00031: val_loss did not improve from 0.95069\n",
      "11/11 [==============================] - 39s 4s/step - loss: 0.9325 - categorical_accuracy: 0.6063 - val_loss: 0.9887 - val_categorical_accuracy: 0.6000 - lr: 1.0000e-04\n",
      "Epoch 32/50\n",
      "11/11 [==============================] - ETA: 0s - loss: 0.9330 - categorical_accuracy: 0.5928\n",
      "Epoch 00032: val_loss improved from 0.95069 to 0.94541, saving model to /models/model_init_2025-04-0115_08_22.402613/model-00032-0.93304-0.59276-0.94541-0.59000.h5\n",
      "11/11 [==============================] - 39s 4s/step - loss: 0.9330 - categorical_accuracy: 0.5928 - val_loss: 0.9454 - val_categorical_accuracy: 0.5900 - lr: 1.0000e-04\n",
      "Epoch 33/50\n",
      "11/11 [==============================] - ETA: 0s - loss: 0.9084 - categorical_accuracy: 0.6154\n",
      "Epoch 00033: val_loss did not improve from 0.94541\n",
      "11/11 [==============================] - 39s 4s/step - loss: 0.9084 - categorical_accuracy: 0.6154 - val_loss: 0.9898 - val_categorical_accuracy: 0.6000 - lr: 1.0000e-04\n",
      "Epoch 34/50\n",
      "11/11 [==============================] - ETA: 0s - loss: 0.9175 - categorical_accuracy: 0.5867\n",
      "Epoch 00034: val_loss did not improve from 0.94541\n",
      "11/11 [==============================] - 39s 4s/step - loss: 0.9175 - categorical_accuracy: 0.5867 - val_loss: 0.9518 - val_categorical_accuracy: 0.6500 - lr: 1.0000e-04\n",
      "Epoch 35/50\n",
      "11/11 [==============================] - ETA: 0s - loss: 0.8968 - categorical_accuracy: 0.6139\n",
      "Epoch 00035: val_loss improved from 0.94541 to 0.94228, saving model to /models/model_init_2025-04-0115_08_22.402613/model-00035-0.89680-0.61388-0.94228-0.60000.h5\n",
      "11/11 [==============================] - 39s 4s/step - loss: 0.8968 - categorical_accuracy: 0.6139 - val_loss: 0.9423 - val_categorical_accuracy: 0.6000 - lr: 1.0000e-04\n",
      "Epoch 36/50\n",
      "11/11 [==============================] - ETA: 0s - loss: 0.9170 - categorical_accuracy: 0.6003\n",
      "Epoch 00036: val_loss did not improve from 0.94228\n",
      "11/11 [==============================] - 37s 4s/step - loss: 0.9170 - categorical_accuracy: 0.6003 - val_loss: 1.0035 - val_categorical_accuracy: 0.5500 - lr: 1.0000e-04\n",
      "Epoch 37/50\n",
      "11/11 [==============================] - ETA: 0s - loss: 0.8774 - categorical_accuracy: 0.6184\n",
      "Epoch 00037: val_loss improved from 0.94228 to 0.93843, saving model to /models/model_init_2025-04-0115_08_22.402613/model-00037-0.87735-0.61840-0.93843-0.61000.h5\n",
      "11/11 [==============================] - 39s 4s/step - loss: 0.8774 - categorical_accuracy: 0.6184 - val_loss: 0.9384 - val_categorical_accuracy: 0.6100 - lr: 1.0000e-04\n",
      "Epoch 38/50\n",
      "11/11 [==============================] - ETA: 0s - loss: 0.8910 - categorical_accuracy: 0.6109\n",
      "Epoch 00038: val_loss did not improve from 0.93843\n",
      "11/11 [==============================] - 37s 4s/step - loss: 0.8910 - categorical_accuracy: 0.6109 - val_loss: 0.9864 - val_categorical_accuracy: 0.5900 - lr: 1.0000e-04\n",
      "Epoch 39/50\n",
      "11/11 [==============================] - ETA: 0s - loss: 0.8578 - categorical_accuracy: 0.6335\n",
      "Epoch 00039: val_loss improved from 0.93843 to 0.89732, saving model to /models/model_init_2025-04-0115_08_22.402613/model-00039-0.85776-0.63348-0.89732-0.61000.h5\n",
      "11/11 [==============================] - 39s 4s/step - loss: 0.8578 - categorical_accuracy: 0.6335 - val_loss: 0.8973 - val_categorical_accuracy: 0.6100 - lr: 1.0000e-04\n",
      "Epoch 40/50\n",
      "11/11 [==============================] - ETA: 0s - loss: 0.8534 - categorical_accuracy: 0.6471\n",
      "Epoch 00040: val_loss improved from 0.89732 to 0.89308, saving model to /models/model_init_2025-04-0115_08_22.402613/model-00040-0.85344-0.64706-0.89308-0.61000.h5\n",
      "11/11 [==============================] - 37s 4s/step - loss: 0.8534 - categorical_accuracy: 0.6471 - val_loss: 0.8931 - val_categorical_accuracy: 0.6100 - lr: 1.0000e-04\n",
      "Epoch 41/50\n",
      "11/11 [==============================] - ETA: 0s - loss: 0.8658 - categorical_accuracy: 0.6184\n",
      "Epoch 00041: val_loss did not improve from 0.89308\n",
      "11/11 [==============================] - 39s 4s/step - loss: 0.8658 - categorical_accuracy: 0.6184 - val_loss: 0.9583 - val_categorical_accuracy: 0.6200 - lr: 1.0000e-04\n",
      "Epoch 42/50\n",
      "11/11 [==============================] - ETA: 0s - loss: 0.8587 - categorical_accuracy: 0.6486\n",
      "Epoch 00042: val_loss improved from 0.89308 to 0.85126, saving model to /models/model_init_2025-04-0115_08_22.402613/model-00042-0.85870-0.64857-0.85126-0.62000.h5\n",
      "11/11 [==============================] - 38s 4s/step - loss: 0.8587 - categorical_accuracy: 0.6486 - val_loss: 0.8513 - val_categorical_accuracy: 0.6200 - lr: 1.0000e-04\n",
      "Epoch 43/50\n",
      "11/11 [==============================] - ETA: 0s - loss: 0.8081 - categorical_accuracy: 0.6621\n",
      "Epoch 00043: val_loss did not improve from 0.85126\n",
      "11/11 [==============================] - 39s 4s/step - loss: 0.8081 - categorical_accuracy: 0.6621 - val_loss: 0.8979 - val_categorical_accuracy: 0.6300 - lr: 1.0000e-04\n",
      "Epoch 44/50\n",
      "11/11 [==============================] - ETA: 0s - loss: 0.8035 - categorical_accuracy: 0.6229\n",
      "Epoch 00044: val_loss did not improve from 0.85126\n",
      "11/11 [==============================] - 38s 4s/step - loss: 0.8035 - categorical_accuracy: 0.6229 - val_loss: 0.9970 - val_categorical_accuracy: 0.6200 - lr: 1.0000e-04\n",
      "Epoch 45/50\n",
      "11/11 [==============================] - ETA: 0s - loss: 0.8043 - categorical_accuracy: 0.6606\n",
      "Epoch 00045: val_loss did not improve from 0.85126\n",
      "11/11 [==============================] - 39s 4s/step - loss: 0.8043 - categorical_accuracy: 0.6606 - val_loss: 0.8951 - val_categorical_accuracy: 0.6200 - lr: 1.0000e-04\n",
      "Epoch 46/50\n",
      "11/11 [==============================] - ETA: 0s - loss: 0.8081 - categorical_accuracy: 0.6546\n",
      "Epoch 00046: val_loss improved from 0.85126 to 0.77256, saving model to /models/model_init_2025-04-0115_08_22.402613/model-00046-0.80809-0.65460-0.77256-0.67000.h5\n",
      "11/11 [==============================] - 37s 4s/step - loss: 0.8081 - categorical_accuracy: 0.6546 - val_loss: 0.7726 - val_categorical_accuracy: 0.6700 - lr: 1.0000e-04\n",
      "Epoch 47/50\n",
      "11/11 [==============================] - ETA: 0s - loss: 0.7928 - categorical_accuracy: 0.6787\n",
      "Epoch 00047: val_loss did not improve from 0.77256\n",
      "11/11 [==============================] - 39s 4s/step - loss: 0.7928 - categorical_accuracy: 0.6787 - val_loss: 0.8900 - val_categorical_accuracy: 0.6300 - lr: 1.0000e-04\n",
      "Epoch 48/50\n",
      "11/11 [==============================] - ETA: 0s - loss: 0.7924 - categorical_accuracy: 0.6576\n",
      "Epoch 00048: val_loss did not improve from 0.77256\n",
      "11/11 [==============================] - 38s 4s/step - loss: 0.7924 - categorical_accuracy: 0.6576 - val_loss: 0.9637 - val_categorical_accuracy: 0.5700 - lr: 1.0000e-04\n",
      "Epoch 49/50\n",
      "11/11 [==============================] - ETA: 0s - loss: 0.7388 - categorical_accuracy: 0.6893\n",
      "Epoch 00049: val_loss did not improve from 0.77256\n",
      "11/11 [==============================] - 39s 4s/step - loss: 0.7388 - categorical_accuracy: 0.6893 - val_loss: 0.8821 - val_categorical_accuracy: 0.6100 - lr: 1.0000e-04\n",
      "Epoch 50/50\n",
      "11/11 [==============================] - ETA: 0s - loss: 0.7612 - categorical_accuracy: 0.6742\n",
      "Epoch 00050: val_loss improved from 0.77256 to 0.66245, saving model to /models/model_init_2025-04-0115_08_22.402613/model-00050-0.76117-0.67421-0.66245-0.73000.h5\n",
      "11/11 [==============================] - 38s 4s/step - loss: 0.7612 - categorical_accuracy: 0.6742 - val_loss: 0.6625 - val_categorical_accuracy: 0.7300 - lr: 1.0000e-04\n"
     ]
    }
   ],
   "source": [
    "history = train_model(model, train_generator, val_generator, num_train_sequences, num_val_sequences, num_epochs=50)"
   ]
  },
  {
   "cell_type": "code",
   "execution_count": 73,
   "metadata": {},
   "outputs": [
    {
     "name": "stdout",
     "output_type": "stream",
     "text": [
      "dict_keys(['loss', 'categorical_accuracy', 'val_loss', 'val_categorical_accuracy', 'lr'])\n"
     ]
    },
    {
     "data": {
      "image/png": "[encoded data removed]",
      "text/plain": [
       "<Figure size 432x288 with 1 Axes>"
      ]
     },
     "metadata": {
      "needs_background": "light"
     },
     "output_type": "display_data"
    },
    {
     "data": {
      "image/png": "[encoded data removed]",
      "text/plain": [
       "<Figure size 432x288 with 1 Axes>"
      ]
     },
     "metadata": {
      "needs_background": "light"
     },
     "output_type": "display_data"
    }
   ],
   "source": [
    "plot_loss_accuracy(history)"
   ]
  },
  {
   "cell_type": "markdown",
   "metadata": {},
   "source": [
    "### Experiment 4 Observations\n",
    "val and train accuracy has improved\n",
    "val loss is still high"
   ]
  },
  {
   "cell_type": "markdown",
   "metadata": {},
   "source": [
    "### Experiment 4 Conclusion\n",
    "We need to improve the accuracy; passing more images did not help"
   ]
  },
  {
   "cell_type": "markdown",
   "metadata": {},
   "source": [
    "### Experiment 5 Conv3D with Average Pooling Layer and dropout"
   ]
  },
  {
   "cell_type": "code",
   "execution_count": 75,
   "metadata": {},
   "outputs": [
    {
     "name": "stdout",
     "output_type": "stream",
     "text": [
      "Model: \"sequential_39\"\n",
      "_________________________________________________________________\n",
      " Layer (type)                Output Shape              Param #   \n",
      "=================================================================\n",
      " conv3d_63 (Conv3D)          (None, 18, 118, 118, 32)  2624      \n",
      "                                                                 \n",
      " average_pooling3d (AverageP  (None, 9, 59, 59, 32)    0         \n",
      " ooling3D)                                                       \n",
      "                                                                 \n",
      " conv3d_64 (Conv3D)          (None, 7, 57, 57, 64)     55360     \n",
      "                                                                 \n",
      " average_pooling3d_1 (Averag  (None, 7, 29, 29, 64)    0         \n",
      " ePooling3D)                                                     \n",
      "                                                                 \n",
      " conv3d_65 (Conv3D)          (None, 5, 27, 27, 128)    221312    \n",
      "                                                                 \n",
      " average_pooling3d_2 (Averag  (None, 5, 14, 14, 128)   0         \n",
      " ePooling3D)                                                     \n",
      "                                                                 \n",
      " conv3d_66 (Conv3D)          (None, 3, 12, 12, 256)    884992    \n",
      "                                                                 \n",
      " average_pooling3d_3 (Averag  (None, 3, 6, 6, 256)     0         \n",
      " ePooling3D)                                                     \n",
      "                                                                 \n",
      " flatten_15 (Flatten)        (None, 27648)             0         \n",
      "                                                                 \n",
      " dense_43 (Dense)            (None, 256)               7078144   \n",
      "                                                                 \n",
      " dropout (Dropout)           (None, 256)               0         \n",
      "                                                                 \n",
      " dense_44 (Dense)            (None, 128)               32896     \n",
      "                                                                 \n",
      " dense_45 (Dense)            (None, 5)                 645       \n",
      "                                                                 \n",
      "=================================================================\n",
      "Total params: 8,275,973\n",
      "Trainable params: 8,275,973\n",
      "Non-trainable params: 0\n",
      "_________________________________________________________________\n"
     ]
    }
   ],
   "source": [
    "from keras.layers import AveragePooling3D \n",
    "model = Sequential()\n",
    "sample_shape = (20, 120, 120, 3)\n",
    "no_classes = 5\n",
    "model = Sequential()\n",
    "model.add(Conv3D(32, kernel_size=(3, 3, 3), activation='relu', kernel_initializer='he_uniform', input_shape=sample_shape))\n",
    "model.add(AveragePooling3D(pool_size=(2, 2, 2), padding='same'))\n",
    "model.add(Conv3D(64, kernel_size=(3, 3, 3), activation='relu', kernel_initializer='he_uniform'))\n",
    "model.add(AveragePooling3D(pool_size=(1, 2, 2), padding='same'))\n",
    "model.add(Conv3D(128, kernel_size=(3, 3, 3), activation='relu', kernel_initializer='he_uniform'))\n",
    "model.add(AveragePooling3D(pool_size=(1, 2, 2), padding='same'))\n",
    "model.add(Conv3D(256, kernel_size=(3, 3, 3), activation='relu', kernel_initializer='he_uniform'))\n",
    "model.add(AveragePooling3D(pool_size=(1, 2, 2), padding='same'))\n",
    "model.add(Flatten())\n",
    "model.add(Dense(256, activation='relu', kernel_initializer='he_uniform'))\n",
    "model.add(Dropout(0.25))\n",
    "model.add(Dense(128, activation='relu', kernel_initializer='he_uniform'))\n",
    "model.add(Dense(no_classes, activation='softmax'))\n",
    "\n",
    "model.summary()"
   ]
  },
  {
   "cell_type": "code",
   "execution_count": 76,
   "metadata": {},
   "outputs": [],
   "source": [
    "model.compile(optimizer='adam',\n",
    "              loss=tf.keras.losses.CategoricalCrossentropy(),\n",
    "              metrics=['categorical_accuracy'])"
   ]
  },
  {
   "cell_type": "code",
   "execution_count": 77,
   "metadata": {},
   "outputs": [
    {
     "name": "stdout",
     "output_type": "stream",
     "text": [
      "Epoch 1/30\n",
      "7/7 [==============================] - ETA: 0s - loss: 2.2552 - categorical_accuracy: 0.2398\n",
      "Epoch 00001: val_loss improved from inf to 1.60865, saving model to /models/model_init_2025-03-3117_20_52.510737/model-00001-2.25523-0.23982-1.60865-0.18000.h5\n",
      "7/7 [==============================] - 29s 5s/step - loss: 2.2552 - categorical_accuracy: 0.2398 - val_loss: 1.6086 - val_categorical_accuracy: 0.1800 - lr: 0.0010\n",
      "Epoch 2/30\n",
      "7/7 [==============================] - ETA: 0s - loss: 1.6056 - categorical_accuracy: 0.2021\n",
      "Epoch 00002: val_loss improved from 1.60865 to 1.57590, saving model to /models/model_init_2025-03-3117_20_52.510737/model-00002-1.60555-0.20211-1.57590-0.24000.h5\n",
      "7/7 [==============================] - 29s 5s/step - loss: 1.6056 - categorical_accuracy: 0.2021 - val_loss: 1.5759 - val_categorical_accuracy: 0.2400 - lr: 0.0010\n",
      "Epoch 3/30\n",
      "7/7 [==============================] - ETA: 0s - loss: 1.5498 - categorical_accuracy: 0.2715\n",
      "Epoch 00003: val_loss improved from 1.57590 to 1.45589, saving model to /models/model_init_2025-03-3117_20_52.510737/model-00003-1.54983-0.27149-1.45589-0.44000.h5\n",
      "7/7 [==============================] - 29s 5s/step - loss: 1.5498 - categorical_accuracy: 0.2715 - val_loss: 1.4559 - val_categorical_accuracy: 0.4400 - lr: 0.0010\n",
      "Epoch 4/30\n",
      "7/7 [==============================] - ETA: 0s - loss: 1.5115 - categorical_accuracy: 0.3213\n",
      "Epoch 00004: val_loss did not improve from 1.45589\n",
      "7/7 [==============================] - 29s 5s/step - loss: 1.5115 - categorical_accuracy: 0.3213 - val_loss: 1.6149 - val_categorical_accuracy: 0.1900 - lr: 0.0010\n",
      "Epoch 5/30\n",
      "7/7 [==============================] - ETA: 0s - loss: 1.5641 - categorical_accuracy: 0.2594\n",
      "Epoch 00005: val_loss improved from 1.45589 to 1.42941, saving model to /models/model_init_2025-03-3117_20_52.510737/model-00005-1.56409-0.25943-1.42941-0.35000.h5\n",
      "7/7 [==============================] - 29s 5s/step - loss: 1.5641 - categorical_accuracy: 0.2594 - val_loss: 1.4294 - val_categorical_accuracy: 0.3500 - lr: 0.0010\n",
      "Epoch 6/30\n",
      "7/7 [==============================] - ETA: 0s - loss: 1.4466 - categorical_accuracy: 0.3695\n",
      "Epoch 00006: val_loss improved from 1.42941 to 1.38158, saving model to /models/model_init_2025-03-3117_20_52.510737/model-00006-1.44658-0.36953-1.38158-0.38000.h5\n",
      "7/7 [==============================] - 29s 5s/step - loss: 1.4466 - categorical_accuracy: 0.3695 - val_loss: 1.3816 - val_categorical_accuracy: 0.3800 - lr: 0.0010\n",
      "Epoch 7/30\n",
      "7/7 [==============================] - ETA: 0s - loss: 1.4094 - categorical_accuracy: 0.3725\n",
      "Epoch 00007: val_loss did not improve from 1.38158\n",
      "7/7 [==============================] - 29s 5s/step - loss: 1.4094 - categorical_accuracy: 0.3725 - val_loss: 1.3836 - val_categorical_accuracy: 0.4600 - lr: 0.0010\n",
      "Epoch 8/30\n",
      "7/7 [==============================] - ETA: 0s - loss: 1.3633 - categorical_accuracy: 0.4103\n",
      "Epoch 00008: val_loss improved from 1.38158 to 1.17483, saving model to /models/model_init_2025-03-3117_20_52.510737/model-00008-1.36332-0.41026-1.17483-0.52000.h5\n",
      "7/7 [==============================] - 29s 5s/step - loss: 1.3633 - categorical_accuracy: 0.4103 - val_loss: 1.1748 - val_categorical_accuracy: 0.5200 - lr: 0.0010\n",
      "Epoch 9/30\n",
      "7/7 [==============================] - ETA: 0s - loss: 1.3157 - categorical_accuracy: 0.4238\n",
      "Epoch 00009: val_loss did not improve from 1.17483\n",
      "7/7 [==============================] - 31s 5s/step - loss: 1.3157 - categorical_accuracy: 0.4238 - val_loss: 1.1898 - val_categorical_accuracy: 0.5400 - lr: 0.0010\n",
      "Epoch 10/30\n",
      "7/7 [==============================] - ETA: 0s - loss: 1.3049 - categorical_accuracy: 0.4374\n",
      "Epoch 00010: val_loss did not improve from 1.17483\n",
      "7/7 [==============================] - 30s 5s/step - loss: 1.3049 - categorical_accuracy: 0.4374 - val_loss: 1.1852 - val_categorical_accuracy: 0.5400 - lr: 0.0010\n",
      "Epoch 11/30\n",
      "7/7 [==============================] - ETA: 0s - loss: 1.2290 - categorical_accuracy: 0.4842\n",
      "Epoch 00011: val_loss did not improve from 1.17483\n",
      "\n",
      "Epoch 00011: ReduceLROnPlateau reducing learning rate to 0.00010000000474974513.\n",
      "7/7 [==============================] - 29s 5s/step - loss: 1.2290 - categorical_accuracy: 0.4842 - val_loss: 1.2189 - val_categorical_accuracy: 0.5500 - lr: 0.0010\n",
      "Epoch 12/30\n",
      "7/7 [==============================] - ETA: 0s - loss: 1.1743 - categorical_accuracy: 0.5173\n",
      "Epoch 00012: val_loss improved from 1.17483 to 1.12685, saving model to /models/model_init_2025-03-3117_20_52.510737/model-00012-1.17434-0.51735-1.12685-0.52000.h5\n",
      "7/7 [==============================] - 28s 5s/step - loss: 1.1743 - categorical_accuracy: 0.5173 - val_loss: 1.1268 - val_categorical_accuracy: 0.5200 - lr: 1.0000e-04\n",
      "Epoch 13/30\n",
      "7/7 [==============================] - ETA: 0s - loss: 1.1680 - categorical_accuracy: 0.5204\n",
      "Epoch 00013: val_loss did not improve from 1.12685\n",
      "7/7 [==============================] - 29s 5s/step - loss: 1.1680 - categorical_accuracy: 0.5204 - val_loss: 1.1273 - val_categorical_accuracy: 0.5200 - lr: 1.0000e-04\n",
      "Epoch 14/30\n",
      "7/7 [==============================] - ETA: 0s - loss: 1.0852 - categorical_accuracy: 0.5747\n",
      "Epoch 00014: val_loss did not improve from 1.12685\n",
      "7/7 [==============================] - 30s 5s/step - loss: 1.0852 - categorical_accuracy: 0.5747 - val_loss: 1.1422 - val_categorical_accuracy: 0.5500 - lr: 1.0000e-04\n",
      "Epoch 15/30\n",
      "7/7 [==============================] - ETA: 0s - loss: 1.1169 - categorical_accuracy: 0.5400\n",
      "Epoch 00015: val_loss improved from 1.12685 to 1.11620, saving model to /models/model_init_2025-03-3117_20_52.510737/model-00015-1.11690-0.53997-1.11620-0.59000.h5\n",
      "7/7 [==============================] - 29s 5s/step - loss: 1.1169 - categorical_accuracy: 0.5400 - val_loss: 1.1162 - val_categorical_accuracy: 0.5900 - lr: 1.0000e-04\n",
      "Epoch 16/30\n",
      "7/7 [==============================] - ETA: 0s - loss: 1.1011 - categorical_accuracy: 0.5339\n",
      "Epoch 00016: val_loss did not improve from 1.11620\n",
      "7/7 [==============================] - 30s 5s/step - loss: 1.1011 - categorical_accuracy: 0.5339 - val_loss: 1.1522 - val_categorical_accuracy: 0.5200 - lr: 1.0000e-04\n",
      "Epoch 17/30\n",
      "7/7 [==============================] - ETA: 0s - loss: 1.1230 - categorical_accuracy: 0.5128\n",
      "Epoch 00017: val_loss did not improve from 1.11620\n",
      "7/7 [==============================] - 28s 5s/step - loss: 1.1230 - categorical_accuracy: 0.5128 - val_loss: 1.1617 - val_categorical_accuracy: 0.5300 - lr: 1.0000e-04\n",
      "Epoch 18/30\n",
      "7/7 [==============================] - ETA: 0s - loss: 1.0905 - categorical_accuracy: 0.5641\n",
      "Epoch 00018: val_loss did not improve from 1.11620\n",
      "\n",
      "Epoch 00018: ReduceLROnPlateau reducing learning rate to 0.0001.\n",
      "7/7 [==============================] - 28s 5s/step - loss: 1.0905 - categorical_accuracy: 0.5641 - val_loss: 1.1302 - val_categorical_accuracy: 0.5500 - lr: 1.0000e-04\n",
      "Epoch 19/30\n",
      "7/7 [==============================] - ETA: 0s - loss: 1.0567 - categorical_accuracy: 0.5596\n",
      "Epoch 00019: val_loss improved from 1.11620 to 1.10508, saving model to /models/model_init_2025-03-3117_20_52.510737/model-00019-1.05672-0.55958-1.10508-0.54000.h5\n",
      "7/7 [==============================] - 29s 5s/step - loss: 1.0567 - categorical_accuracy: 0.5596 - val_loss: 1.1051 - val_categorical_accuracy: 0.5400 - lr: 1.0000e-04\n",
      "Epoch 20/30\n",
      "7/7 [==============================] - ETA: 0s - loss: 1.0190 - categorical_accuracy: 0.5581\n",
      "Epoch 00020: val_loss improved from 1.10508 to 1.07316, saving model to /models/model_init_2025-03-3117_20_52.510737/model-00020-1.01905-0.55807-1.07316-0.59000.h5\n",
      "7/7 [==============================] - 29s 5s/step - loss: 1.0190 - categorical_accuracy: 0.5581 - val_loss: 1.0732 - val_categorical_accuracy: 0.5900 - lr: 1.0000e-04\n",
      "Epoch 21/30\n",
      "7/7 [==============================] - ETA: 0s - loss: 1.0343 - categorical_accuracy: 0.5656\n",
      "Epoch 00021: val_loss did not improve from 1.07316\n",
      "7/7 [==============================] - 29s 5s/step - loss: 1.0343 - categorical_accuracy: 0.5656 - val_loss: 1.0948 - val_categorical_accuracy: 0.5500 - lr: 1.0000e-04\n",
      "Epoch 22/30\n",
      "7/7 [==============================] - ETA: 0s - loss: 1.0272 - categorical_accuracy: 0.5852\n",
      "Epoch 00022: val_loss did not improve from 1.07316\n",
      "7/7 [==============================] - 29s 5s/step - loss: 1.0272 - categorical_accuracy: 0.5852 - val_loss: 1.0747 - val_categorical_accuracy: 0.5500 - lr: 1.0000e-04\n",
      "Epoch 23/30\n",
      "7/7 [==============================] - ETA: 0s - loss: 1.0453 - categorical_accuracy: 0.5520\n",
      "Epoch 00023: val_loss did not improve from 1.07316\n",
      "7/7 [==============================] - 28s 5s/step - loss: 1.0453 - categorical_accuracy: 0.5520 - val_loss: 1.1260 - val_categorical_accuracy: 0.5700 - lr: 1.0000e-04\n",
      "Epoch 24/30\n",
      "7/7 [==============================] - ETA: 0s - loss: 1.0339 - categorical_accuracy: 0.5807\n",
      "Epoch 00024: val_loss did not improve from 1.07316\n",
      "7/7 [==============================] - 29s 5s/step - loss: 1.0339 - categorical_accuracy: 0.5807 - val_loss: 1.0820 - val_categorical_accuracy: 0.5800 - lr: 1.0000e-04\n",
      "Epoch 25/30\n",
      "7/7 [==============================] - ETA: 0s - loss: 0.9905 - categorical_accuracy: 0.5852\n",
      "Epoch 00025: val_loss did not improve from 1.07316\n",
      "7/7 [==============================] - 29s 5s/step - loss: 0.9905 - categorical_accuracy: 0.5852 - val_loss: 1.1020 - val_categorical_accuracy: 0.5900 - lr: 1.0000e-04\n",
      "Epoch 26/30\n",
      "7/7 [==============================] - ETA: 0s - loss: 0.9839 - categorical_accuracy: 0.6109\n",
      "Epoch 00026: val_loss did not improve from 1.07316\n",
      "7/7 [==============================] - 29s 5s/step - loss: 0.9839 - categorical_accuracy: 0.6109 - val_loss: 1.0978 - val_categorical_accuracy: 0.5700 - lr: 1.0000e-04\n",
      "Epoch 27/30\n",
      "7/7 [==============================] - ETA: 0s - loss: 0.9981 - categorical_accuracy: 0.5837\n",
      "Epoch 00027: val_loss did not improve from 1.07316\n",
      "7/7 [==============================] - 29s 5s/step - loss: 0.9981 - categorical_accuracy: 0.5837 - val_loss: 1.0941 - val_categorical_accuracy: 0.5700 - lr: 1.0000e-04\n",
      "Epoch 28/30\n",
      "7/7 [==============================] - ETA: 0s - loss: 0.9822 - categorical_accuracy: 0.6018\n",
      "Epoch 00028: val_loss did not improve from 1.07316\n",
      "7/7 [==============================] - 28s 5s/step - loss: 0.9822 - categorical_accuracy: 0.6018 - val_loss: 1.0906 - val_categorical_accuracy: 0.5600 - lr: 1.0000e-04\n",
      "Epoch 29/30\n",
      "7/7 [==============================] - ETA: 0s - loss: 0.9406 - categorical_accuracy: 0.6259\n",
      "Epoch 00029: val_loss did not improve from 1.07316\n",
      "7/7 [==============================] - 29s 5s/step - loss: 0.9406 - categorical_accuracy: 0.6259 - val_loss: 1.1088 - val_categorical_accuracy: 0.6300 - lr: 1.0000e-04\n",
      "Epoch 30/30\n",
      "7/7 [==============================] - ETA: 0s - loss: 0.9633 - categorical_accuracy: 0.6048\n",
      "Epoch 00030: val_loss did not improve from 1.07316\n",
      "7/7 [==============================] - 29s 5s/step - loss: 0.9633 - categorical_accuracy: 0.6048 - val_loss: 1.1333 - val_categorical_accuracy: 0.6000 - lr: 1.0000e-04\n"
     ]
    }
   ],
   "source": [
    "history = train_model(model, train_generator, val_generator, num_train_sequences, num_val_sequences, num_epochs=30)"
   ]
  },
  {
   "cell_type": "code",
   "execution_count": 78,
   "metadata": {},
   "outputs": [
    {
     "name": "stdout",
     "output_type": "stream",
     "text": [
      "dict_keys(['loss', 'categorical_accuracy', 'val_loss', 'val_categorical_accuracy', 'lr'])\n"
     ]
    },
    {
     "data": {
      "image/png": "[encoded data removed]",
      "text/plain": [
       "<Figure size 432x288 with 1 Axes>"
      ]
     },
     "metadata": {
      "needs_background": "light"
     },
     "output_type": "display_data"
    },
    {
     "data": {
      "image/png": "[encoded data removed]",
      "text/plain": [
       "<Figure size 432x288 with 1 Axes>"
      ]
     },
     "metadata": {
      "needs_background": "light"
     },
     "output_type": "display_data"
    }
   ],
   "source": [
    "plot_loss_accuracy(history)"
   ]
  },
  {
   "cell_type": "markdown",
   "metadata": {},
   "source": [
    "### Experiment 5 Observations\n",
    "val and train loss followed same trend\n",
    "val and traing accuracy are almost same"
   ]
  },
  {
   "cell_type": "markdown",
   "metadata": {},
   "source": [
    "### Experiment 5 Conclusion\n",
    "AveragePoolingLayer did not help much"
   ]
  },
  {
   "cell_type": "markdown",
   "metadata": {},
   "source": [
    "### Experiment 6 Conv3d with same padding\n",
    "- frames per video: 20\n",
    "- frame (image) size: 120 * 120\n",
    "- batch size: 32\n",
    "- epochs: 30"
   ]
  },
  {
   "cell_type": "code",
   "execution_count": 87,
   "metadata": {},
   "outputs": [],
   "source": [
    "train_generator = generator(train_data_dir, train_folder_list, batch_size=32)\n",
    "val_generator = generator(val_data_dir, val_folder_list, batch_size=32)"
   ]
  },
  {
   "cell_type": "code",
   "execution_count": 88,
   "metadata": {},
   "outputs": [
    {
     "name": "stdout",
     "output_type": "stream",
     "text": [
      "Model: \"sequential_53\"\n",
      "_________________________________________________________________\n",
      " Layer (type)                Output Shape              Param #   \n",
      "=================================================================\n",
      " conv3d_91 (Conv3D)          (None, 20, 120, 120, 32)  2624      \n",
      "                                                                 \n",
      " max_pooling3d_80 (MaxPoolin  (None, 10, 60, 60, 32)   0         \n",
      " g3D)                                                            \n",
      "                                                                 \n",
      " conv3d_92 (Conv3D)          (None, 10, 60, 60, 64)    55360     \n",
      "                                                                 \n",
      " max_pooling3d_81 (MaxPoolin  (None, 5, 30, 30, 64)    0         \n",
      " g3D)                                                            \n",
      "                                                                 \n",
      " conv3d_93 (Conv3D)          (None, 5, 30, 30, 128)    221312    \n",
      "                                                                 \n",
      " max_pooling3d_82 (MaxPoolin  (None, 3, 15, 15, 128)   0         \n",
      " g3D)                                                            \n",
      "                                                                 \n",
      " conv3d_94 (Conv3D)          (None, 3, 15, 15, 256)    884992    \n",
      "                                                                 \n",
      " max_pooling3d_83 (MaxPoolin  (None, 2, 8, 8, 256)     0         \n",
      " g3D)                                                            \n",
      "                                                                 \n",
      " flatten_22 (Flatten)        (None, 32768)             0         \n",
      "                                                                 \n",
      " dense_64 (Dense)            (None, 256)               8388864   \n",
      "                                                                 \n",
      " dropout_7 (Dropout)         (None, 256)               0         \n",
      "                                                                 \n",
      " dense_65 (Dense)            (None, 128)               32896     \n",
      "                                                                 \n",
      " dense_66 (Dense)            (None, 5)                 645       \n",
      "                                                                 \n",
      "=================================================================\n",
      "Total params: 9,586,693\n",
      "Trainable params: 9,586,693\n",
      "Non-trainable params: 0\n",
      "_________________________________________________________________\n"
     ]
    }
   ],
   "source": [
    "from keras.layers import AveragePooling3D \n",
    "model = Sequential()\n",
    "sample_shape = (20, 120, 120, 3)\n",
    "no_classes = 5\n",
    "model = Sequential()\n",
    "model.add(Conv3D(32, kernel_size=(3, 3, 3), activation='relu', padding='same', kernel_initializer='he_uniform', input_shape=sample_shape))\n",
    "model.add(MaxPooling3D(pool_size=(2, 2, 2), padding='same'))\n",
    "model.add(Conv3D(64, kernel_size=(3, 3, 3), activation='relu', padding='same', kernel_initializer='he_uniform'))\n",
    "model.add(MaxPooling3D(pool_size=(2, 2, 2), padding='same'))\n",
    "model.add(Conv3D(128, kernel_size=(3, 3, 3), activation='relu', padding='same', kernel_initializer='he_uniform'))\n",
    "model.add(MaxPooling3D(pool_size=(2, 2, 2), padding='same'))\n",
    "model.add(Conv3D(256, kernel_size=(3, 3, 3), activation='relu', padding='same', kernel_initializer='he_uniform'))\n",
    "model.add(MaxPooling3D(pool_size=(2, 2, 2), padding='same'))\n",
    "model.add(Flatten())\n",
    "model.add(Dense(256, activation='relu', kernel_initializer='he_uniform'))\n",
    "model.add(Dropout(0.25))\n",
    "model.add(Dense(128, activation='relu', kernel_initializer='he_uniform'))\n",
    "model.add(Dense(no_classes, activation='softmax'))\n",
    "\n",
    "model.summary()"
   ]
  },
  {
   "cell_type": "code",
   "execution_count": 89,
   "metadata": {},
   "outputs": [],
   "source": [
    "model.compile(optimizer='adam',\n",
    "              loss=tf.keras.losses.CategoricalCrossentropy(),\n",
    "              metrics=['categorical_accuracy'])"
   ]
  },
  {
   "cell_type": "code",
   "execution_count": 90,
   "metadata": {},
   "outputs": [
    {
     "name": "stdout",
     "output_type": "stream",
     "text": [
      "Source path =  /datasets/Project_data/train/ ; batch size = 32\n",
      "Epoch 1/30\n",
      "21/21 [==============================] - ETA: 0s - loss: 2.8380 - categorical_accuracy: 0.2323Source path =  /datasets/Project_data/val/ ; batch size = 32\n",
      "\n",
      "Epoch 00001: val_loss improved from inf to 1.61376, saving model to /models/model_init_2025-03-3117_43_58.340072/model-00001-2.83800-0.23228-1.61376-0.23000.h5\n",
      "21/21 [==============================] - 30s 1s/step - loss: 2.8380 - categorical_accuracy: 0.2323 - val_loss: 1.6138 - val_categorical_accuracy: 0.2300 - lr: 0.0010\n",
      "Epoch 2/30\n",
      "21/21 [==============================] - ETA: 0s - loss: 1.6079 - categorical_accuracy: 0.2247\n",
      "Epoch 00002: val_loss improved from 1.61376 to 1.59368, saving model to /models/model_init_2025-03-3117_43_58.340072/model-00002-1.60788-0.22474-1.59368-0.21000.h5\n",
      "21/21 [==============================] - 29s 1s/step - loss: 1.6079 - categorical_accuracy: 0.2247 - val_loss: 1.5937 - val_categorical_accuracy: 0.2100 - lr: 0.0010\n",
      "Epoch 3/30\n",
      "21/21 [==============================] - ETA: 0s - loss: 1.6062 - categorical_accuracy: 0.1946\n",
      "Epoch 00003: val_loss improved from 1.59368 to 1.58736, saving model to /models/model_init_2025-03-3117_43_58.340072/model-00003-1.60616-0.19457-1.58736-0.24000.h5\n",
      "21/21 [==============================] - 28s 1s/step - loss: 1.6062 - categorical_accuracy: 0.1946 - val_loss: 1.5874 - val_categorical_accuracy: 0.2400 - lr: 0.0010\n",
      "Epoch 4/30\n",
      "21/21 [==============================] - ETA: 0s - loss: 1.5928 - categorical_accuracy: 0.2353\n",
      "Epoch 00004: val_loss improved from 1.58736 to 1.56567, saving model to /models/model_init_2025-03-3117_43_58.340072/model-00004-1.59283-0.23529-1.56567-0.26000.h5\n",
      "21/21 [==============================] - 28s 1s/step - loss: 1.5928 - categorical_accuracy: 0.2353 - val_loss: 1.5657 - val_categorical_accuracy: 0.2600 - lr: 0.0010\n",
      "Epoch 5/30\n",
      "21/21 [==============================] - ETA: 0s - loss: 1.5779 - categorical_accuracy: 0.2549\n",
      "Epoch 00005: val_loss improved from 1.56567 to 1.54847, saving model to /models/model_init_2025-03-3117_43_58.340072/model-00005-1.57786-0.25490-1.54847-0.43000.h5\n",
      "21/21 [==============================] - 29s 1s/step - loss: 1.5779 - categorical_accuracy: 0.2549 - val_loss: 1.5485 - val_categorical_accuracy: 0.4300 - lr: 0.0010\n",
      "Epoch 6/30\n",
      "21/21 [==============================] - ETA: 0s - loss: 1.5193 - categorical_accuracy: 0.3363\n",
      "Epoch 00006: val_loss improved from 1.54847 to 1.39587, saving model to /models/model_init_2025-03-3117_43_58.340072/model-00006-1.51932-0.33635-1.39587-0.37000.h5\n",
      "21/21 [==============================] - 28s 1s/step - loss: 1.5193 - categorical_accuracy: 0.3363 - val_loss: 1.3959 - val_categorical_accuracy: 0.3700 - lr: 0.0010\n",
      "Epoch 7/30\n",
      "21/21 [==============================] - ETA: 0s - loss: 1.4543 - categorical_accuracy: 0.3258\n",
      "Epoch 00007: val_loss improved from 1.39587 to 1.38349, saving model to /models/model_init_2025-03-3117_43_58.340072/model-00007-1.45428-0.32579-1.38349-0.42000.h5\n",
      "21/21 [==============================] - 29s 1s/step - loss: 1.4543 - categorical_accuracy: 0.3258 - val_loss: 1.3835 - val_categorical_accuracy: 0.4200 - lr: 0.0010\n",
      "Epoch 8/30\n",
      "21/21 [==============================] - ETA: 0s - loss: 1.4106 - categorical_accuracy: 0.3544\n",
      "Epoch 00008: val_loss did not improve from 1.38349\n",
      "21/21 [==============================] - 27s 1s/step - loss: 1.4106 - categorical_accuracy: 0.3544 - val_loss: 1.4141 - val_categorical_accuracy: 0.4100 - lr: 0.0010\n",
      "Epoch 9/30\n",
      "21/21 [==============================] - ETA: 0s - loss: 1.3560 - categorical_accuracy: 0.4057\n",
      "Epoch 00009: val_loss improved from 1.38349 to 1.28103, saving model to /models/model_init_2025-03-3117_43_58.340072/model-00009-1.35604-0.40573-1.28103-0.44000.h5\n",
      "21/21 [==============================] - 29s 1s/step - loss: 1.3560 - categorical_accuracy: 0.4057 - val_loss: 1.2810 - val_categorical_accuracy: 0.4400 - lr: 0.0010\n",
      "Epoch 10/30\n",
      "21/21 [==============================] - ETA: 0s - loss: 1.3299 - categorical_accuracy: 0.4087\n",
      "Epoch 00010: val_loss did not improve from 1.28103\n",
      "21/21 [==============================] - 28s 1s/step - loss: 1.3299 - categorical_accuracy: 0.4087 - val_loss: 1.3393 - val_categorical_accuracy: 0.4600 - lr: 0.0010\n",
      "Epoch 11/30\n",
      "21/21 [==============================] - ETA: 0s - loss: 1.2603 - categorical_accuracy: 0.4615\n",
      "Epoch 00011: val_loss improved from 1.28103 to 1.21387, saving model to /models/model_init_2025-03-3117_43_58.340072/model-00011-1.26027-0.46154-1.21387-0.51000.h5\n",
      "21/21 [==============================] - 29s 1s/step - loss: 1.2603 - categorical_accuracy: 0.4615 - val_loss: 1.2139 - val_categorical_accuracy: 0.5100 - lr: 0.0010\n",
      "Epoch 12/30\n",
      "21/21 [==============================] - ETA: 0s - loss: 1.2756 - categorical_accuracy: 0.4495\n",
      "Epoch 00012: val_loss did not improve from 1.21387\n",
      "21/21 [==============================] - 28s 1s/step - loss: 1.2756 - categorical_accuracy: 0.4495 - val_loss: 1.2282 - val_categorical_accuracy: 0.4600 - lr: 0.0010\n",
      "Epoch 13/30\n",
      "21/21 [==============================] - ETA: 0s - loss: 1.1896 - categorical_accuracy: 0.5038\n",
      "Epoch 00013: val_loss improved from 1.21387 to 1.15688, saving model to /models/model_init_2025-03-3117_43_58.340072/model-00013-1.18955-0.50377-1.15688-0.55000.h5\n",
      "21/21 [==============================] - 29s 1s/step - loss: 1.1896 - categorical_accuracy: 0.5038 - val_loss: 1.1569 - val_categorical_accuracy: 0.5500 - lr: 0.0010\n",
      "Epoch 14/30\n",
      "21/21 [==============================] - ETA: 0s - loss: 1.1628 - categorical_accuracy: 0.4977\n",
      "Epoch 00014: val_loss improved from 1.15688 to 1.09127, saving model to /models/model_init_2025-03-3117_43_58.340072/model-00014-1.16282-0.49774-1.09127-0.58000.h5\n",
      "21/21 [==============================] - 29s 1s/step - loss: 1.1628 - categorical_accuracy: 0.4977 - val_loss: 1.0913 - val_categorical_accuracy: 0.5800 - lr: 0.0010\n",
      "Epoch 15/30\n",
      "21/21 [==============================] - ETA: 0s - loss: 1.1358 - categorical_accuracy: 0.5083\n",
      "Epoch 00015: val_loss did not improve from 1.09127\n",
      "21/21 [==============================] - 28s 1s/step - loss: 1.1358 - categorical_accuracy: 0.5083 - val_loss: 1.1308 - val_categorical_accuracy: 0.5200 - lr: 0.0010\n",
      "Epoch 16/30\n",
      "21/21 [==============================] - ETA: 0s - loss: 1.0176 - categorical_accuracy: 0.5973\n",
      "Epoch 00016: val_loss did not improve from 1.09127\n",
      "21/21 [==============================] - 28s 1s/step - loss: 1.0176 - categorical_accuracy: 0.5973 - val_loss: 1.0993 - val_categorical_accuracy: 0.5400 - lr: 0.0010\n",
      "Epoch 17/30\n",
      "21/21 [==============================] - ETA: 0s - loss: 1.0275 - categorical_accuracy: 0.5792\n",
      "Epoch 00017: val_loss did not improve from 1.09127\n",
      "\n",
      "Epoch 00017: ReduceLROnPlateau reducing learning rate to 0.00010000000474974513.\n",
      "21/21 [==============================] - 29s 1s/step - loss: 1.0275 - categorical_accuracy: 0.5792 - val_loss: 1.2640 - val_categorical_accuracy: 0.5300 - lr: 0.0010\n",
      "Epoch 18/30\n",
      "21/21 [==============================] - ETA: 0s - loss: 0.9072 - categorical_accuracy: 0.6290\n",
      "Epoch 00018: val_loss improved from 1.09127 to 0.99455, saving model to /models/model_init_2025-03-3117_43_58.340072/model-00018-0.90717-0.62896-0.99455-0.62000.h5\n",
      "21/21 [==============================] - 29s 1s/step - loss: 0.9072 - categorical_accuracy: 0.6290 - val_loss: 0.9946 - val_categorical_accuracy: 0.6200 - lr: 1.0000e-04\n",
      "Epoch 19/30\n",
      "21/21 [==============================] - ETA: 0s - loss: 0.8610 - categorical_accuracy: 0.6667\n",
      "Epoch 00019: val_loss did not improve from 0.99455\n",
      "21/21 [==============================] - 28s 1s/step - loss: 0.8610 - categorical_accuracy: 0.6667 - val_loss: 1.0963 - val_categorical_accuracy: 0.6000 - lr: 1.0000e-04\n",
      "Epoch 20/30\n",
      "21/21 [==============================] - ETA: 0s - loss: 0.8075 - categorical_accuracy: 0.6802\n",
      "Epoch 00020: val_loss did not improve from 0.99455\n",
      "21/21 [==============================] - 28s 1s/step - loss: 0.8075 - categorical_accuracy: 0.6802 - val_loss: 1.1390 - val_categorical_accuracy: 0.6200 - lr: 1.0000e-04\n",
      "Epoch 21/30\n",
      "21/21 [==============================] - ETA: 0s - loss: 0.7683 - categorical_accuracy: 0.6968\n",
      "Epoch 00021: val_loss did not improve from 0.99455\n",
      "\n",
      "Epoch 00021: ReduceLROnPlateau reducing learning rate to 0.0001.\n",
      "21/21 [==============================] - 29s 1s/step - loss: 0.7683 - categorical_accuracy: 0.6968 - val_loss: 1.0425 - val_categorical_accuracy: 0.6300 - lr: 1.0000e-04\n",
      "Epoch 22/30\n",
      "21/21 [==============================] - ETA: 0s - loss: 0.7821 - categorical_accuracy: 0.6908\n",
      "Epoch 00022: val_loss did not improve from 0.99455\n",
      "21/21 [==============================] - 29s 1s/step - loss: 0.7821 - categorical_accuracy: 0.6908 - val_loss: 1.0113 - val_categorical_accuracy: 0.6800 - lr: 1.0000e-04\n",
      "Epoch 23/30\n",
      "21/21 [==============================] - ETA: 0s - loss: 0.7633 - categorical_accuracy: 0.6968\n",
      "Epoch 00023: val_loss did not improve from 0.99455\n",
      "21/21 [==============================] - 28s 1s/step - loss: 0.7633 - categorical_accuracy: 0.6968 - val_loss: 1.1724 - val_categorical_accuracy: 0.5500 - lr: 1.0000e-04\n",
      "Epoch 24/30\n",
      "21/21 [==============================] - ETA: 0s - loss: 0.7327 - categorical_accuracy: 0.7195\n",
      "Epoch 00024: val_loss improved from 0.99455 to 0.99301, saving model to /models/model_init_2025-03-3117_43_58.340072/model-00024-0.73269-0.71946-0.99301-0.64000.h5\n",
      "21/21 [==============================] - 27s 1s/step - loss: 0.7327 - categorical_accuracy: 0.7195 - val_loss: 0.9930 - val_categorical_accuracy: 0.6400 - lr: 1.0000e-04\n",
      "Epoch 25/30\n",
      "21/21 [==============================] - ETA: 0s - loss: 0.7283 - categorical_accuracy: 0.7240\n",
      "Epoch 00025: val_loss did not improve from 0.99301\n",
      "21/21 [==============================] - 29s 1s/step - loss: 0.7283 - categorical_accuracy: 0.7240 - val_loss: 1.1825 - val_categorical_accuracy: 0.6100 - lr: 1.0000e-04\n",
      "Epoch 26/30\n",
      "21/21 [==============================] - ETA: 0s - loss: 0.6857 - categorical_accuracy: 0.7406\n",
      "Epoch 00026: val_loss did not improve from 0.99301\n",
      "21/21 [==============================] - 28s 1s/step - loss: 0.6857 - categorical_accuracy: 0.7406 - val_loss: 1.1426 - val_categorical_accuracy: 0.6000 - lr: 1.0000e-04\n",
      "Epoch 27/30\n",
      "21/21 [==============================] - ETA: 0s - loss: 0.7096 - categorical_accuracy: 0.7360\n",
      "Epoch 00027: val_loss did not improve from 0.99301\n",
      "21/21 [==============================] - 28s 1s/step - loss: 0.7096 - categorical_accuracy: 0.7360 - val_loss: 1.1764 - val_categorical_accuracy: 0.6000 - lr: 1.0000e-04\n",
      "Epoch 28/30\n",
      "21/21 [==============================] - ETA: 0s - loss: 0.6883 - categorical_accuracy: 0.7360\n",
      "Epoch 00028: val_loss did not improve from 0.99301\n",
      "21/21 [==============================] - 27s 1s/step - loss: 0.6883 - categorical_accuracy: 0.7360 - val_loss: 1.0754 - val_categorical_accuracy: 0.5900 - lr: 1.0000e-04\n",
      "Epoch 29/30\n",
      "21/21 [==============================] - ETA: 0s - loss: 0.6638 - categorical_accuracy: 0.7360\n",
      "Epoch 00029: val_loss did not improve from 0.99301\n",
      "21/21 [==============================] - 28s 1s/step - loss: 0.6638 - categorical_accuracy: 0.7360 - val_loss: 1.0988 - val_categorical_accuracy: 0.6200 - lr: 1.0000e-04\n",
      "Epoch 30/30\n",
      "21/21 [==============================] - ETA: 0s - loss: 0.6482 - categorical_accuracy: 0.7632\n",
      "Epoch 00030: val_loss improved from 0.99301 to 0.93966, saving model to /models/model_init_2025-03-3117_43_58.340072/model-00030-0.64820-0.76320-0.93966-0.62000.h5\n",
      "21/21 [==============================] - 28s 1s/step - loss: 0.6482 - categorical_accuracy: 0.7632 - val_loss: 0.9397 - val_categorical_accuracy: 0.6200 - lr: 1.0000e-04\n"
     ]
    }
   ],
   "source": [
    "history = train_model(model, train_generator, val_generator, num_train_sequences, num_val_sequences, batch_size=32, num_epochs=30)"
   ]
  },
  {
   "cell_type": "code",
   "execution_count": 91,
   "metadata": {},
   "outputs": [
    {
     "name": "stdout",
     "output_type": "stream",
     "text": [
      "dict_keys(['loss', 'categorical_accuracy', 'val_loss', 'val_categorical_accuracy', 'lr'])\n"
     ]
    },
    {
     "data": {
      "image/png": "[encoded data removed]",
      "text/plain": [
       "<Figure size 432x288 with 1 Axes>"
      ]
     },
     "metadata": {
      "needs_background": "light"
     },
     "output_type": "display_data"
    },
    {
     "data": {
      "image/png": "[encoded data removed]",
      "text/plain": [
       "<Figure size 432x288 with 1 Axes>"
      ]
     },
     "metadata": {
      "needs_background": "light"
     },
     "output_type": "display_data"
    }
   ],
   "source": [
    "plot_loss_accuracy(history)"
   ]
  },
  {
   "cell_type": "markdown",
   "metadata": {},
   "source": [
    "### Experiment 6 Observation\n",
    "Train accuracy has been improved\n",
    "val loss is stil high"
   ]
  },
  {
   "cell_type": "markdown",
   "metadata": {},
   "source": [
    "### Experiment 6 Conclusion\n",
    "Adding BatchNormalization in next experiment to stabilize the model"
   ]
  },
  {
   "cell_type": "markdown",
   "metadata": {},
   "source": [
    "### Experiment 7 Conv3d with BatchNormalization\n",
    "- frames per video: 20\n",
    "- frame (image) size: 120 * 120\n",
    "- batch size: 32\n",
    "- epochs: 50"
   ]
  },
  {
   "cell_type": "code",
   "execution_count": 92,
   "metadata": {},
   "outputs": [
    {
     "name": "stdout",
     "output_type": "stream",
     "text": [
      "Model: \"sequential_55\"\n",
      "_________________________________________________________________\n",
      " Layer (type)                Output Shape              Param #   \n",
      "=================================================================\n",
      " conv3d_95 (Conv3D)          (None, 20, 120, 120, 32)  2624      \n",
      "                                                                 \n",
      " batch_normalization (BatchN  (None, 20, 120, 120, 32)  128      \n",
      " ormalization)                                                   \n",
      "                                                                 \n",
      " max_pooling3d_84 (MaxPoolin  (None, 10, 60, 60, 32)   0         \n",
      " g3D)                                                            \n",
      "                                                                 \n",
      " conv3d_96 (Conv3D)          (None, 10, 60, 60, 64)    55360     \n",
      "                                                                 \n",
      " batch_normalization_1 (Batc  (None, 10, 60, 60, 64)   256       \n",
      " hNormalization)                                                 \n",
      "                                                                 \n",
      " max_pooling3d_85 (MaxPoolin  (None, 5, 30, 30, 64)    0         \n",
      " g3D)                                                            \n",
      "                                                                 \n",
      " conv3d_97 (Conv3D)          (None, 5, 30, 30, 128)    221312    \n",
      "                                                                 \n",
      " batch_normalization_2 (Batc  (None, 5, 30, 30, 128)   512       \n",
      " hNormalization)                                                 \n",
      "                                                                 \n",
      " max_pooling3d_86 (MaxPoolin  (None, 3, 15, 15, 128)   0         \n",
      " g3D)                                                            \n",
      "                                                                 \n",
      " conv3d_98 (Conv3D)          (None, 3, 15, 15, 256)    884992    \n",
      "                                                                 \n",
      " batch_normalization_3 (Batc  (None, 3, 15, 15, 256)   1024      \n",
      " hNormalization)                                                 \n",
      "                                                                 \n",
      " max_pooling3d_87 (MaxPoolin  (None, 2, 8, 8, 256)     0         \n",
      " g3D)                                                            \n",
      "                                                                 \n",
      " flatten_23 (Flatten)        (None, 32768)             0         \n",
      "                                                                 \n",
      " dense_67 (Dense)            (None, 128)               4194432   \n",
      "                                                                 \n",
      " dropout_8 (Dropout)         (None, 128)               0         \n",
      "                                                                 \n",
      " dense_68 (Dense)            (None, 128)               16512     \n",
      "                                                                 \n",
      " dense_69 (Dense)            (None, 5)                 645       \n",
      "                                                                 \n",
      "=================================================================\n",
      "Total params: 5,377,797\n",
      "Trainable params: 5,376,837\n",
      "Non-trainable params: 960\n",
      "_________________________________________________________________\n"
     ]
    }
   ],
   "source": [
    "from keras.layers import BatchNormalization \n",
    "model = Sequential()\n",
    "sample_shape = (20, 120, 120, 3)\n",
    "no_classes = 5\n",
    "model = Sequential()\n",
    "model.add(Conv3D(32, kernel_size=(3, 3, 3), activation='relu', padding='same', kernel_initializer='he_uniform', input_shape=sample_shape))\n",
    "model.add(BatchNormalization())\n",
    "model.add(MaxPooling3D(pool_size=(2, 2, 2), padding='same'))\n",
    "model.add(Conv3D(64, kernel_size=(3, 3, 3), activation='relu', padding='same', kernel_initializer='he_uniform'))\n",
    "model.add(BatchNormalization())\n",
    "model.add(MaxPooling3D(pool_size=(2, 2, 2), padding='same'))\n",
    "model.add(Conv3D(128, kernel_size=(3, 3, 3), activation='relu', padding='same', kernel_initializer='he_uniform'))\n",
    "model.add(BatchNormalization())\n",
    "model.add(MaxPooling3D(pool_size=(2, 2, 2), padding='same'))\n",
    "model.add(Conv3D(256, kernel_size=(3, 3, 3), activation='relu', padding='same', kernel_initializer='he_uniform'))\n",
    "model.add(BatchNormalization())\n",
    "model.add(MaxPooling3D(pool_size=(2, 2, 2), padding='same'))\n",
    "model.add(Flatten())\n",
    "model.add(Dense(128, activation='relu', kernel_initializer='he_uniform'))\n",
    "model.add(Dropout(0.25))\n",
    "model.add(Dense(128, activation='relu', kernel_initializer='he_uniform'))\n",
    "model.add(Dense(no_classes, activation='softmax'))\n",
    "\n",
    "model.summary()"
   ]
  },
  {
   "cell_type": "code",
   "execution_count": 93,
   "metadata": {},
   "outputs": [],
   "source": [
    "model.compile(optimizer='adam',\n",
    "              loss=tf.keras.losses.CategoricalCrossentropy(),\n",
    "              metrics=['categorical_accuracy'])"
   ]
  },
  {
   "cell_type": "code",
   "execution_count": 94,
   "metadata": {},
   "outputs": [
    {
     "name": "stdout",
     "output_type": "stream",
     "text": [
      "Epoch 1/50\n",
      "21/21 [==============================] - ETA: 0s - loss: 8.9843 - categorical_accuracy: 0.3228\n",
      "Epoch 00001: val_loss improved from inf to 182.02045, saving model to /models/model_init_2025-03-3118_02_27.659471/model-00001-8.98427-0.32278-182.02045-0.31000.h5\n",
      "21/21 [==============================] - 29s 1s/step - loss: 8.9843 - categorical_accuracy: 0.3228 - val_loss: 182.0204 - val_categorical_accuracy: 0.3100 - lr: 0.0010\n",
      "Epoch 2/50\n",
      "21/21 [==============================] - ETA: 0s - loss: 2.7747 - categorical_accuracy: 0.3122\n",
      "Epoch 00002: val_loss improved from 182.02045 to 11.18874, saving model to /models/model_init_2025-03-3118_02_27.659471/model-00002-2.77473-0.31222-11.18874-0.19000.h5\n",
      "21/21 [==============================] - 28s 1s/step - loss: 2.7747 - categorical_accuracy: 0.3122 - val_loss: 11.1887 - val_categorical_accuracy: 0.1900 - lr: 0.0010\n",
      "Epoch 3/50\n",
      "21/21 [==============================] - ETA: 0s - loss: 1.7383 - categorical_accuracy: 0.2971\n",
      "Epoch 00003: val_loss improved from 11.18874 to 4.95470, saving model to /models/model_init_2025-03-3118_02_27.659471/model-00003-1.73833-0.29713-4.95470-0.21000.h5\n",
      "21/21 [==============================] - 29s 1s/step - loss: 1.7383 - categorical_accuracy: 0.2971 - val_loss: 4.9547 - val_categorical_accuracy: 0.2100 - lr: 0.0010\n",
      "Epoch 4/50\n",
      "21/21 [==============================] - ETA: 0s - loss: 1.4331 - categorical_accuracy: 0.3288\n",
      "Epoch 00004: val_loss improved from 4.95470 to 3.34744, saving model to /models/model_init_2025-03-3118_02_27.659471/model-00004-1.43307-0.32881-3.34744-0.37000.h5\n",
      "21/21 [==============================] - 28s 1s/step - loss: 1.4331 - categorical_accuracy: 0.3288 - val_loss: 3.3474 - val_categorical_accuracy: 0.3700 - lr: 0.0010\n",
      "Epoch 5/50\n",
      "21/21 [==============================] - ETA: 0s - loss: 1.3326 - categorical_accuracy: 0.4072\n",
      "Epoch 00005: val_loss did not improve from 3.34744\n",
      "21/21 [==============================] - 30s 1s/step - loss: 1.3326 - categorical_accuracy: 0.4072 - val_loss: 4.1690 - val_categorical_accuracy: 0.2400 - lr: 0.0010\n",
      "Epoch 6/50\n",
      "21/21 [==============================] - ETA: 0s - loss: 1.3093 - categorical_accuracy: 0.4012\n",
      "Epoch 00006: val_loss improved from 3.34744 to 2.78474, saving model to /models/model_init_2025-03-3118_02_27.659471/model-00006-1.30927-0.40121-2.78474-0.26000.h5\n",
      "21/21 [==============================] - 27s 1s/step - loss: 1.3093 - categorical_accuracy: 0.4012 - val_loss: 2.7847 - val_categorical_accuracy: 0.2600 - lr: 0.0010\n",
      "Epoch 7/50\n",
      "21/21 [==============================] - ETA: 0s - loss: 1.3182 - categorical_accuracy: 0.3424\n",
      "Epoch 00007: val_loss improved from 2.78474 to 2.57519, saving model to /models/model_init_2025-03-3118_02_27.659471/model-00007-1.31816-0.34238-2.57519-0.33000.h5\n",
      "21/21 [==============================] - 28s 1s/step - loss: 1.3182 - categorical_accuracy: 0.3424 - val_loss: 2.5752 - val_categorical_accuracy: 0.3300 - lr: 0.0010\n",
      "Epoch 8/50\n",
      "21/21 [==============================] - ETA: 0s - loss: 1.2748 - categorical_accuracy: 0.3891\n",
      "Epoch 00008: val_loss improved from 2.57519 to 2.23674, saving model to /models/model_init_2025-03-3118_02_27.659471/model-00008-1.27478-0.38914-2.23674-0.35000.h5\n",
      "21/21 [==============================] - 28s 1s/step - loss: 1.2748 - categorical_accuracy: 0.3891 - val_loss: 2.2367 - val_categorical_accuracy: 0.3500 - lr: 0.0010\n",
      "Epoch 9/50\n",
      "21/21 [==============================] - ETA: 0s - loss: 1.2257 - categorical_accuracy: 0.4163\n",
      "Epoch 00009: val_loss did not improve from 2.23674\n",
      "21/21 [==============================] - 29s 1s/step - loss: 1.2257 - categorical_accuracy: 0.4163 - val_loss: 2.8574 - val_categorical_accuracy: 0.2600 - lr: 0.0010\n",
      "Epoch 10/50\n",
      "21/21 [==============================] - ETA: 0s - loss: 1.2621 - categorical_accuracy: 0.4133\n",
      "Epoch 00010: val_loss did not improve from 2.23674\n",
      "21/21 [==============================] - 26s 1s/step - loss: 1.2621 - categorical_accuracy: 0.4133 - val_loss: 2.8785 - val_categorical_accuracy: 0.2100 - lr: 0.0010\n",
      "Epoch 11/50\n",
      "21/21 [==============================] - ETA: 0s - loss: 1.2790 - categorical_accuracy: 0.4012\n",
      "Epoch 00011: val_loss did not improve from 2.23674\n",
      "\n",
      "Epoch 00011: ReduceLROnPlateau reducing learning rate to 0.00010000000474974513.\n",
      "21/21 [==============================] - 28s 1s/step - loss: 1.2790 - categorical_accuracy: 0.4012 - val_loss: 2.4389 - val_categorical_accuracy: 0.1800 - lr: 0.0010\n",
      "Epoch 12/50\n",
      "21/21 [==============================] - ETA: 0s - loss: 1.2088 - categorical_accuracy: 0.4133\n",
      "Epoch 00012: val_loss did not improve from 2.23674\n",
      "21/21 [==============================] - 31s 2s/step - loss: 1.2088 - categorical_accuracy: 0.4133 - val_loss: 2.6336 - val_categorical_accuracy: 0.2100 - lr: 1.0000e-04\n",
      "Epoch 13/50\n",
      "21/21 [==============================] - ETA: 0s - loss: 1.2225 - categorical_accuracy: 0.3906\n",
      "Epoch 00013: val_loss did not improve from 2.23674\n",
      "21/21 [==============================] - 29s 1s/step - loss: 1.2225 - categorical_accuracy: 0.3906 - val_loss: 2.4306 - val_categorical_accuracy: 0.2200 - lr: 1.0000e-04\n",
      "Epoch 14/50\n",
      "21/21 [==============================] - ETA: 0s - loss: 1.1651 - categorical_accuracy: 0.4434\n",
      "Epoch 00014: val_loss did not improve from 2.23674\n",
      "\n",
      "Epoch 00014: ReduceLROnPlateau reducing learning rate to 0.0001.\n",
      "21/21 [==============================] - 27s 1s/step - loss: 1.1651 - categorical_accuracy: 0.4434 - val_loss: 2.3416 - val_categorical_accuracy: 0.2200 - lr: 1.0000e-04\n",
      "Epoch 15/50\n",
      "21/21 [==============================] - ETA: 0s - loss: 1.1627 - categorical_accuracy: 0.4329\n",
      "Epoch 00015: val_loss did not improve from 2.23674\n",
      "21/21 [==============================] - 30s 1s/step - loss: 1.1627 - categorical_accuracy: 0.4329 - val_loss: 2.2526 - val_categorical_accuracy: 0.2000 - lr: 1.0000e-04\n",
      "Epoch 16/50\n",
      "21/21 [==============================] - ETA: 0s - loss: 1.1368 - categorical_accuracy: 0.4736\n",
      "Epoch 00016: val_loss improved from 2.23674 to 1.95524, saving model to /models/model_init_2025-03-3118_02_27.659471/model-00016-1.13681-0.47360-1.95524-0.34000.h5\n",
      "21/21 [==============================] - 30s 1s/step - loss: 1.1368 - categorical_accuracy: 0.4736 - val_loss: 1.9552 - val_categorical_accuracy: 0.3400 - lr: 1.0000e-04\n",
      "Epoch 17/50\n",
      "21/21 [==============================] - ETA: 0s - loss: 1.1180 - categorical_accuracy: 0.4691\n",
      "Epoch 00017: val_loss improved from 1.95524 to 1.88668, saving model to /models/model_init_2025-03-3118_02_27.659471/model-00017-1.11802-0.46908-1.88668-0.30000.h5\n",
      "21/21 [==============================] - 30s 1s/step - loss: 1.1180 - categorical_accuracy: 0.4691 - val_loss: 1.8867 - val_categorical_accuracy: 0.3000 - lr: 1.0000e-04\n",
      "Epoch 18/50\n",
      "21/21 [==============================] - ETA: 0s - loss: 1.1370 - categorical_accuracy: 0.4480\n",
      "Epoch 00018: val_loss improved from 1.88668 to 1.83567, saving model to /models/model_init_2025-03-3118_02_27.659471/model-00018-1.13699-0.44796-1.83567-0.31000.h5\n",
      "21/21 [==============================] - 28s 1s/step - loss: 1.1370 - categorical_accuracy: 0.4480 - val_loss: 1.8357 - val_categorical_accuracy: 0.3100 - lr: 1.0000e-04\n",
      "Epoch 19/50\n",
      "21/21 [==============================] - ETA: 0s - loss: 1.1144 - categorical_accuracy: 0.4736\n",
      "Epoch 00019: val_loss improved from 1.83567 to 1.81039, saving model to /models/model_init_2025-03-3118_02_27.659471/model-00019-1.11439-0.47360-1.81039-0.41000.h5\n",
      "21/21 [==============================] - 29s 1s/step - loss: 1.1144 - categorical_accuracy: 0.4736 - val_loss: 1.8104 - val_categorical_accuracy: 0.4100 - lr: 1.0000e-04\n",
      "Epoch 20/50\n",
      "21/21 [==============================] - ETA: 0s - loss: 1.0875 - categorical_accuracy: 0.4570\n",
      "Epoch 00020: val_loss did not improve from 1.81039\n",
      "21/21 [==============================] - 29s 1s/step - loss: 1.0875 - categorical_accuracy: 0.4570 - val_loss: 1.8479 - val_categorical_accuracy: 0.3300 - lr: 1.0000e-04\n",
      "Epoch 21/50\n",
      "21/21 [==============================] - ETA: 0s - loss: 1.0604 - categorical_accuracy: 0.5023\n",
      "Epoch 00021: val_loss improved from 1.81039 to 1.68966, saving model to /models/model_init_2025-03-3118_02_27.659471/model-00021-1.06042-0.50226-1.68966-0.39000.h5\n",
      "21/21 [==============================] - 30s 1s/step - loss: 1.0604 - categorical_accuracy: 0.5023 - val_loss: 1.6897 - val_categorical_accuracy: 0.3900 - lr: 1.0000e-04\n",
      "Epoch 22/50\n",
      "21/21 [==============================] - ETA: 0s - loss: 1.0531 - categorical_accuracy: 0.5068\n",
      "Epoch 00022: val_loss improved from 1.68966 to 1.54327, saving model to /models/model_init_2025-03-3118_02_27.659471/model-00022-1.05308-0.50679-1.54327-0.48000.h5\n",
      "21/21 [==============================] - 29s 1s/step - loss: 1.0531 - categorical_accuracy: 0.5068 - val_loss: 1.5433 - val_categorical_accuracy: 0.4800 - lr: 1.0000e-04\n",
      "Epoch 23/50\n",
      "21/21 [==============================] - ETA: 0s - loss: 1.0804 - categorical_accuracy: 0.5098\n",
      "Epoch 00023: val_loss did not improve from 1.54327\n",
      "21/21 [==============================] - 29s 1s/step - loss: 1.0804 - categorical_accuracy: 0.5098 - val_loss: 1.5462 - val_categorical_accuracy: 0.4100 - lr: 1.0000e-04\n",
      "Epoch 24/50\n",
      "21/21 [==============================] - ETA: 0s - loss: 1.0715 - categorical_accuracy: 0.4827\n",
      "Epoch 00024: val_loss improved from 1.54327 to 1.24266, saving model to /models/model_init_2025-03-3118_02_27.659471/model-00024-1.07152-0.48265-1.24266-0.46000.h5\n",
      "21/21 [==============================] - 30s 1s/step - loss: 1.0715 - categorical_accuracy: 0.4827 - val_loss: 1.2427 - val_categorical_accuracy: 0.4600 - lr: 1.0000e-04\n",
      "Epoch 25/50\n",
      "21/21 [==============================] - ETA: 0s - loss: 1.0796 - categorical_accuracy: 0.4842\n",
      "Epoch 00025: val_loss did not improve from 1.24266\n",
      "21/21 [==============================] - 30s 1s/step - loss: 1.0796 - categorical_accuracy: 0.4842 - val_loss: 1.5786 - val_categorical_accuracy: 0.4600 - lr: 1.0000e-04\n",
      "Epoch 26/50\n",
      "21/21 [==============================] - ETA: 0s - loss: 1.0655 - categorical_accuracy: 0.4992\n",
      "Epoch 00026: val_loss did not improve from 1.24266\n",
      "21/21 [==============================] - 28s 1s/step - loss: 1.0655 - categorical_accuracy: 0.4992 - val_loss: 1.4614 - val_categorical_accuracy: 0.4700 - lr: 1.0000e-04\n",
      "Epoch 27/50\n",
      "21/21 [==============================] - ETA: 0s - loss: 1.0367 - categorical_accuracy: 0.5294\n",
      "Epoch 00027: val_loss did not improve from 1.24266\n",
      "21/21 [==============================] - 29s 1s/step - loss: 1.0367 - categorical_accuracy: 0.5294 - val_loss: 1.3245 - val_categorical_accuracy: 0.5000 - lr: 1.0000e-04\n",
      "Epoch 28/50\n",
      "21/21 [==============================] - ETA: 0s - loss: 1.0879 - categorical_accuracy: 0.4887\n",
      "Epoch 00028: val_loss did not improve from 1.24266\n",
      "21/21 [==============================] - 30s 2s/step - loss: 1.0879 - categorical_accuracy: 0.4887 - val_loss: 1.3624 - val_categorical_accuracy: 0.4700 - lr: 1.0000e-04\n",
      "Epoch 29/50\n",
      "21/21 [==============================] - ETA: 0s - loss: 1.0418 - categorical_accuracy: 0.5189\n",
      "Epoch 00029: val_loss did not improve from 1.24266\n",
      "21/21 [==============================] - 29s 1s/step - loss: 1.0418 - categorical_accuracy: 0.5189 - val_loss: 1.3962 - val_categorical_accuracy: 0.5100 - lr: 1.0000e-04\n",
      "Epoch 30/50\n",
      "21/21 [==============================] - ETA: 0s - loss: 1.0049 - categorical_accuracy: 0.5400\n",
      "Epoch 00030: val_loss did not improve from 1.24266\n",
      "21/21 [==============================] - 29s 1s/step - loss: 1.0049 - categorical_accuracy: 0.5400 - val_loss: 1.3221 - val_categorical_accuracy: 0.5300 - lr: 1.0000e-04\n",
      "Epoch 31/50\n",
      "21/21 [==============================] - ETA: 0s - loss: 1.0205 - categorical_accuracy: 0.5505\n",
      "Epoch 00031: val_loss did not improve from 1.24266\n",
      "21/21 [==============================] - 30s 1s/step - loss: 1.0205 - categorical_accuracy: 0.5505 - val_loss: 1.3281 - val_categorical_accuracy: 0.4600 - lr: 1.0000e-04\n",
      "Epoch 32/50\n",
      "21/21 [==============================] - ETA: 0s - loss: 0.9972 - categorical_accuracy: 0.5204\n",
      "Epoch 00032: val_loss improved from 1.24266 to 1.12867, saving model to /models/model_init_2025-03-3118_02_27.659471/model-00032-0.99716-0.52036-1.12867-0.59000.h5\n",
      "21/21 [==============================] - 30s 1s/step - loss: 0.9972 - categorical_accuracy: 0.5204 - val_loss: 1.1287 - val_categorical_accuracy: 0.5900 - lr: 1.0000e-04\n",
      "Epoch 33/50\n",
      "21/21 [==============================] - ETA: 0s - loss: 1.0510 - categorical_accuracy: 0.5354\n",
      "Epoch 00033: val_loss did not improve from 1.12867\n",
      "21/21 [==============================] - 29s 1s/step - loss: 1.0510 - categorical_accuracy: 0.5354 - val_loss: 1.2662 - val_categorical_accuracy: 0.5000 - lr: 1.0000e-04\n",
      "Epoch 34/50\n",
      "21/21 [==============================] - ETA: 0s - loss: 1.0344 - categorical_accuracy: 0.5279\n",
      "Epoch 00034: val_loss did not improve from 1.12867\n",
      "21/21 [==============================] - 28s 1s/step - loss: 1.0344 - categorical_accuracy: 0.5279 - val_loss: 1.1890 - val_categorical_accuracy: 0.6000 - lr: 1.0000e-04\n",
      "Epoch 35/50\n",
      "21/21 [==============================] - ETA: 0s - loss: 1.0071 - categorical_accuracy: 0.5173\n",
      "Epoch 00035: val_loss did not improve from 1.12867\n",
      "21/21 [==============================] - 30s 1s/step - loss: 1.0071 - categorical_accuracy: 0.5173 - val_loss: 1.1760 - val_categorical_accuracy: 0.5800 - lr: 1.0000e-04\n",
      "Epoch 36/50\n",
      "21/21 [==============================] - ETA: 0s - loss: 0.9530 - categorical_accuracy: 0.5596\n",
      "Epoch 00036: val_loss improved from 1.12867 to 1.07367, saving model to /models/model_init_2025-03-3118_02_27.659471/model-00036-0.95296-0.55958-1.07367-0.65000.h5\n",
      "21/21 [==============================] - 30s 1s/step - loss: 0.9530 - categorical_accuracy: 0.5596 - val_loss: 1.0737 - val_categorical_accuracy: 0.6500 - lr: 1.0000e-04\n",
      "Epoch 37/50\n",
      "21/21 [==============================] - ETA: 0s - loss: 0.9699 - categorical_accuracy: 0.5520\n",
      "Epoch 00037: val_loss improved from 1.07367 to 1.04383, saving model to /models/model_init_2025-03-3118_02_27.659471/model-00037-0.96992-0.55204-1.04383-0.64000.h5\n",
      "21/21 [==============================] - 30s 1s/step - loss: 0.9699 - categorical_accuracy: 0.5520 - val_loss: 1.0438 - val_categorical_accuracy: 0.6400 - lr: 1.0000e-04\n",
      "Epoch 38/50\n",
      "21/21 [==============================] - ETA: 0s - loss: 0.9497 - categorical_accuracy: 0.5551\n",
      "Epoch 00038: val_loss did not improve from 1.04383\n",
      "21/21 [==============================] - 29s 1s/step - loss: 0.9497 - categorical_accuracy: 0.5551 - val_loss: 1.0653 - val_categorical_accuracy: 0.6500 - lr: 1.0000e-04\n",
      "Epoch 39/50\n",
      "21/21 [==============================] - ETA: 0s - loss: 0.9638 - categorical_accuracy: 0.5566\n",
      "Epoch 00039: val_loss did not improve from 1.04383\n",
      "21/21 [==============================] - 29s 1s/step - loss: 0.9638 - categorical_accuracy: 0.5566 - val_loss: 1.1510 - val_categorical_accuracy: 0.5600 - lr: 1.0000e-04\n",
      "Epoch 40/50\n",
      "21/21 [==============================] - ETA: 0s - loss: 1.0136 - categorical_accuracy: 0.5566\n",
      "Epoch 00040: val_loss did not improve from 1.04383\n",
      "21/21 [==============================] - 29s 1s/step - loss: 1.0136 - categorical_accuracy: 0.5566 - val_loss: 1.1734 - val_categorical_accuracy: 0.5900 - lr: 1.0000e-04\n",
      "Epoch 41/50\n",
      "21/21 [==============================] - ETA: 0s - loss: 0.9986 - categorical_accuracy: 0.5173\n",
      "Epoch 00041: val_loss improved from 1.04383 to 1.02640, saving model to /models/model_init_2025-03-3118_02_27.659471/model-00041-0.99865-0.51735-1.02640-0.66000.h5\n",
      "21/21 [==============================] - 30s 1s/step - loss: 0.9986 - categorical_accuracy: 0.5173 - val_loss: 1.0264 - val_categorical_accuracy: 0.6600 - lr: 1.0000e-04\n",
      "Epoch 42/50\n",
      "21/21 [==============================] - ETA: 0s - loss: 0.9507 - categorical_accuracy: 0.5354\n",
      "Epoch 00042: val_loss did not improve from 1.02640\n",
      "21/21 [==============================] - 29s 1s/step - loss: 0.9507 - categorical_accuracy: 0.5354 - val_loss: 1.1081 - val_categorical_accuracy: 0.5800 - lr: 1.0000e-04\n",
      "Epoch 43/50\n",
      "21/21 [==============================] - ETA: 0s - loss: 0.9369 - categorical_accuracy: 0.5913\n",
      "Epoch 00043: val_loss did not improve from 1.02640\n",
      "21/21 [==============================] - 29s 1s/step - loss: 0.9369 - categorical_accuracy: 0.5913 - val_loss: 1.0923 - val_categorical_accuracy: 0.6000 - lr: 1.0000e-04\n",
      "Epoch 44/50\n",
      "21/21 [==============================] - ETA: 0s - loss: 0.9504 - categorical_accuracy: 0.5822\n",
      "Epoch 00044: val_loss did not improve from 1.02640\n",
      "21/21 [==============================] - 30s 1s/step - loss: 0.9504 - categorical_accuracy: 0.5822 - val_loss: 1.2610 - val_categorical_accuracy: 0.5500 - lr: 1.0000e-04\n",
      "Epoch 45/50\n",
      "21/21 [==============================] - ETA: 0s - loss: 0.8955 - categorical_accuracy: 0.5852\n",
      "Epoch 00045: val_loss did not improve from 1.02640\n",
      "21/21 [==============================] - 30s 2s/step - loss: 0.8955 - categorical_accuracy: 0.5852 - val_loss: 1.1475 - val_categorical_accuracy: 0.5400 - lr: 1.0000e-04\n",
      "Epoch 46/50\n",
      "21/21 [==============================] - ETA: 0s - loss: 0.9165 - categorical_accuracy: 0.5988\n",
      "Epoch 00046: val_loss did not improve from 1.02640\n",
      "21/21 [==============================] - 28s 1s/step - loss: 0.9165 - categorical_accuracy: 0.5988 - val_loss: 1.2154 - val_categorical_accuracy: 0.5900 - lr: 1.0000e-04\n",
      "Epoch 47/50\n",
      "21/21 [==============================] - ETA: 0s - loss: 0.9294 - categorical_accuracy: 0.5792\n",
      "Epoch 00047: val_loss did not improve from 1.02640\n",
      "21/21 [==============================] - 29s 1s/step - loss: 0.9294 - categorical_accuracy: 0.5792 - val_loss: 1.1658 - val_categorical_accuracy: 0.5700 - lr: 1.0000e-04\n",
      "Epoch 48/50\n",
      "21/21 [==============================] - ETA: 0s - loss: 0.9429 - categorical_accuracy: 0.5535\n",
      "Epoch 00048: val_loss did not improve from 1.02640\n",
      "21/21 [==============================] - 30s 1s/step - loss: 0.9429 - categorical_accuracy: 0.5535 - val_loss: 1.1573 - val_categorical_accuracy: 0.6000 - lr: 1.0000e-04\n",
      "Epoch 49/50\n",
      "21/21 [==============================] - ETA: 0s - loss: 0.9157 - categorical_accuracy: 0.5897\n",
      "Epoch 00049: val_loss did not improve from 1.02640\n",
      "21/21 [==============================] - 30s 1s/step - loss: 0.9157 - categorical_accuracy: 0.5897 - val_loss: 1.1885 - val_categorical_accuracy: 0.5600 - lr: 1.0000e-04\n",
      "Epoch 50/50\n",
      "21/21 [==============================] - ETA: 0s - loss: 0.9328 - categorical_accuracy: 0.5777\n",
      "Epoch 00050: val_loss did not improve from 1.02640\n",
      "21/21 [==============================] - 28s 1s/step - loss: 0.9328 - categorical_accuracy: 0.5777 - val_loss: 1.0482 - val_categorical_accuracy: 0.6800 - lr: 1.0000e-04\n"
     ]
    }
   ],
   "source": [
    "history = train_model(model, train_generator, val_generator, num_train_sequences, num_val_sequences, batch_size=32, num_epochs=50)"
   ]
  },
  {
   "cell_type": "code",
   "execution_count": 99,
   "metadata": {},
   "outputs": [
    {
     "name": "stdout",
     "output_type": "stream",
     "text": [
      "dict_keys(['loss', 'categorical_accuracy', 'val_loss', 'val_categorical_accuracy', 'lr'])\n"
     ]
    },
    {
     "data": {
      "image/png": "[encoded data removed]",
      "text/plain": [
       "<Figure size 432x288 with 1 Axes>"
      ]
     },
     "metadata": {
      "needs_background": "light"
     },
     "output_type": "display_data"
    },
    {
     "data": {
      "image/png": "[encoded data removed]",
      "text/plain": [
       "<Figure size 432x288 with 1 Axes>"
      ]
     },
     "metadata": {
      "needs_background": "light"
     },
     "output_type": "display_data"
    }
   ],
   "source": [
    "plot_loss_accuracy(history)"
   ]
  },
  {
   "cell_type": "markdown",
   "metadata": {},
   "source": [
    "### Experiment 7 Observation"
   ]
  },
  {
   "cell_type": "markdown",
   "metadata": {},
   "source": [
    "### Experiment 7 Conclusion"
   ]
  },
  {
   "cell_type": "markdown",
   "metadata": {},
   "source": [
    "### Experiemt 8 CNN Transfer Learning (Resnet50) + GRU"
   ]
  },
  {
   "cell_type": "code",
   "execution_count": 96,
   "metadata": {},
   "outputs": [
    {
     "name": "stdout",
     "output_type": "stream",
     "text": [
      "Model: \"sequential_57\"\n",
      "_________________________________________________________________\n",
      " Layer (type)                Output Shape              Param #   \n",
      "=================================================================\n",
      " conv3d_99 (Conv3D)          (None, 20, 120, 120, 32)  2624      \n",
      "                                                                 \n",
      " max_pooling3d_88 (MaxPoolin  (None, 10, 60, 60, 32)   0         \n",
      " g3D)                                                            \n",
      "                                                                 \n",
      " dropout_9 (Dropout)         (None, 10, 60, 60, 32)    0         \n",
      "                                                                 \n",
      " conv3d_100 (Conv3D)         (None, 10, 60, 60, 64)    55360     \n",
      "                                                                 \n",
      " max_pooling3d_89 (MaxPoolin  (None, 5, 30, 30, 64)    0         \n",
      " g3D)                                                            \n",
      "                                                                 \n",
      " dropout_10 (Dropout)        (None, 5, 30, 30, 64)     0         \n",
      "                                                                 \n",
      " conv3d_101 (Conv3D)         (None, 5, 30, 30, 128)    221312    \n",
      "                                                                 \n",
      " max_pooling3d_90 (MaxPoolin  (None, 3, 15, 15, 128)   0         \n",
      " g3D)                                                            \n",
      "                                                                 \n",
      " dropout_11 (Dropout)        (None, 3, 15, 15, 128)    0         \n",
      "                                                                 \n",
      " conv3d_102 (Conv3D)         (None, 3, 15, 15, 256)    884992    \n",
      "                                                                 \n",
      " max_pooling3d_91 (MaxPoolin  (None, 2, 8, 8, 256)     0         \n",
      " g3D)                                                            \n",
      "                                                                 \n",
      " dropout_12 (Dropout)        (None, 2, 8, 8, 256)      0         \n",
      "                                                                 \n",
      " flatten_24 (Flatten)        (None, 32768)             0         \n",
      "                                                                 \n",
      " dense_70 (Dense)            (None, 256)               8388864   \n",
      "                                                                 \n",
      " dense_71 (Dense)            (None, 128)               32896     \n",
      "                                                                 \n",
      " dense_72 (Dense)            (None, 5)                 645       \n",
      "                                                                 \n",
      "=================================================================\n",
      "Total params: 9,586,693\n",
      "Trainable params: 9,586,693\n",
      "Non-trainable params: 0\n",
      "_________________________________________________________________\n"
     ]
    }
   ],
   "source": [
    "from keras.layers import BatchNormalization \n",
    "model = Sequential()\n",
    "sample_shape = (20, 120, 120, 3)\n",
    "no_classes = 5\n",
    "model = Sequential()\n",
    "model.add(Conv3D(32, kernel_size=(3, 3, 3), activation='relu', padding='same', kernel_initializer='he_uniform', input_shape=sample_shape))\n",
    "model.add(MaxPooling3D(pool_size=(2, 2, 2), padding='same'))\n",
    "model.add(Dropout(0.25))\n",
    "model.add(Conv3D(64, kernel_size=(3, 3, 3), activation='relu', padding='same', kernel_initializer='he_uniform'))\n",
    "model.add(MaxPooling3D(pool_size=(2, 2, 2), padding='same'))\n",
    "model.add(Dropout(0.25))\n",
    "model.add(Conv3D(128, kernel_size=(3, 3, 3), activation='relu', padding='same', kernel_initializer='he_uniform'))\n",
    "model.add(MaxPooling3D(pool_size=(2, 2, 2), padding='same'))\n",
    "model.add(Dropout(0.25))\n",
    "model.add(Conv3D(256, kernel_size=(3, 3, 3), activation='relu', padding='same', kernel_initializer='he_uniform'))\n",
    "model.add(MaxPooling3D(pool_size=(2, 2, 2), padding='same'))\n",
    "model.add(Dropout(0.25))\n",
    "model.add(Flatten())\n",
    "model.add(Dense(256, activation='relu', kernel_initializer='he_uniform'))\n",
    "model.add(Dense(128, activation='relu', kernel_initializer='he_uniform'))\n",
    "model.add(Dense(no_classes, activation='softmax'))\n",
    "\n",
    "model.summary()"
   ]
  },
  {
   "cell_type": "code",
   "execution_count": 97,
   "metadata": {},
   "outputs": [],
   "source": [
    "model.compile(optimizer='adam',\n",
    "              loss=tf.keras.losses.CategoricalCrossentropy(),\n",
    "              metrics=['categorical_accuracy'])"
   ]
  },
  {
   "cell_type": "code",
   "execution_count": 98,
   "metadata": {},
   "outputs": [
    {
     "name": "stdout",
     "output_type": "stream",
     "text": [
      "Epoch 1/30\n",
      "21/21 [==============================] - ETA: 0s - loss: 9.4983 - categorical_accuracy: 0.1780\n",
      "Epoch 00001: val_loss improved from inf to 1.59469, saving model to /models/model_init_2025-03-3118_28_33.408407/model-00001-9.49825-0.17798-1.59469-0.23000.h5\n",
      "21/21 [==============================] - 30s 1s/step - loss: 9.4983 - categorical_accuracy: 0.1780 - val_loss: 1.5947 - val_categorical_accuracy: 0.2300 - lr: 0.0010\n",
      "Epoch 2/30\n",
      "21/21 [==============================] - ETA: 0s - loss: 1.6108 - categorical_accuracy: 0.2006\n",
      "Epoch 00002: val_loss did not improve from 1.59469\n",
      "21/21 [==============================] - 29s 1s/step - loss: 1.6108 - categorical_accuracy: 0.2006 - val_loss: 1.6061 - val_categorical_accuracy: 0.1700 - lr: 0.0010\n",
      "Epoch 3/30\n",
      "21/21 [==============================] - ETA: 0s - loss: 1.6023 - categorical_accuracy: 0.2202\n",
      "Epoch 00003: val_loss did not improve from 1.59469\n",
      "21/21 [==============================] - 29s 1s/step - loss: 1.6023 - categorical_accuracy: 0.2202 - val_loss: 1.6070 - val_categorical_accuracy: 0.2400 - lr: 0.0010\n",
      "Epoch 4/30\n",
      "21/21 [==============================] - ETA: 0s - loss: 1.5879 - categorical_accuracy: 0.2443\n",
      "Epoch 00004: val_loss improved from 1.59469 to 1.58082, saving model to /models/model_init_2025-03-3118_28_33.408407/model-00004-1.58786-0.24434-1.58082-0.22000.h5\n",
      "21/21 [==============================] - 29s 1s/step - loss: 1.5879 - categorical_accuracy: 0.2443 - val_loss: 1.5808 - val_categorical_accuracy: 0.2200 - lr: 0.0010\n",
      "Epoch 5/30\n",
      "21/21 [==============================] - ETA: 0s - loss: 1.5443 - categorical_accuracy: 0.2640\n",
      "Epoch 00005: val_loss did not improve from 1.58082\n",
      "21/21 [==============================] - 29s 1s/step - loss: 1.5443 - categorical_accuracy: 0.2640 - val_loss: 1.6001 - val_categorical_accuracy: 0.2800 - lr: 0.0010\n",
      "Epoch 6/30\n",
      "21/21 [==============================] - ETA: 0s - loss: 1.4615 - categorical_accuracy: 0.3605\n",
      "Epoch 00006: val_loss improved from 1.58082 to 1.47806, saving model to /models/model_init_2025-03-3118_28_33.408407/model-00006-1.46151-0.36048-1.47806-0.40000.h5\n",
      "21/21 [==============================] - 30s 1s/step - loss: 1.4615 - categorical_accuracy: 0.3605 - val_loss: 1.4781 - val_categorical_accuracy: 0.4000 - lr: 0.0010\n",
      "Epoch 7/30\n",
      "21/21 [==============================] - ETA: 0s - loss: 1.4289 - categorical_accuracy: 0.3695\n",
      "Epoch 00007: val_loss improved from 1.47806 to 1.44123, saving model to /models/model_init_2025-03-3118_28_33.408407/model-00007-1.42895-0.36953-1.44123-0.39000.h5\n",
      "21/21 [==============================] - 29s 1s/step - loss: 1.4289 - categorical_accuracy: 0.3695 - val_loss: 1.4412 - val_categorical_accuracy: 0.3900 - lr: 0.0010\n",
      "Epoch 8/30\n",
      "21/21 [==============================] - ETA: 0s - loss: 1.3924 - categorical_accuracy: 0.4087\n",
      "Epoch 00008: val_loss did not improve from 1.44123\n",
      "21/21 [==============================] - 26s 1s/step - loss: 1.3924 - categorical_accuracy: 0.4087 - val_loss: 1.5438 - val_categorical_accuracy: 0.2600 - lr: 0.0010\n",
      "Epoch 9/30\n",
      "21/21 [==============================] - ETA: 0s - loss: 1.4137 - categorical_accuracy: 0.3605\n",
      "Epoch 00009: val_loss did not improve from 1.44123\n",
      "21/21 [==============================] - 28s 1s/step - loss: 1.4137 - categorical_accuracy: 0.3605 - val_loss: 1.6509 - val_categorical_accuracy: 0.2900 - lr: 0.0010\n",
      "Epoch 10/30\n",
      "21/21 [==============================] - ETA: 0s - loss: 1.4444 - categorical_accuracy: 0.3861\n",
      "Epoch 00010: val_loss improved from 1.44123 to 1.36787, saving model to /models/model_init_2025-03-3118_28_33.408407/model-00010-1.44439-0.38612-1.36787-0.32000.h5\n",
      "21/21 [==============================] - 29s 1s/step - loss: 1.4444 - categorical_accuracy: 0.3861 - val_loss: 1.3679 - val_categorical_accuracy: 0.3200 - lr: 0.0010\n",
      "Epoch 11/30\n",
      "21/21 [==============================] - ETA: 0s - loss: 1.3525 - categorical_accuracy: 0.4178\n",
      "Epoch 00011: val_loss did not improve from 1.36787\n",
      "21/21 [==============================] - 28s 1s/step - loss: 1.3525 - categorical_accuracy: 0.4178 - val_loss: 1.3903 - val_categorical_accuracy: 0.4500 - lr: 0.0010\n",
      "Epoch 12/30\n",
      "21/21 [==============================] - ETA: 0s - loss: 1.2905 - categorical_accuracy: 0.4404\n",
      "Epoch 00012: val_loss improved from 1.36787 to 1.30794, saving model to /models/model_init_2025-03-3118_28_33.408407/model-00012-1.29053-0.44042-1.30794-0.49000.h5\n",
      "21/21 [==============================] - 27s 1s/step - loss: 1.2905 - categorical_accuracy: 0.4404 - val_loss: 1.3079 - val_categorical_accuracy: 0.4900 - lr: 0.0010\n",
      "Epoch 13/30\n",
      "21/21 [==============================] - ETA: 0s - loss: 1.2653 - categorical_accuracy: 0.4480\n",
      "Epoch 00013: val_loss did not improve from 1.30794\n",
      "21/21 [==============================] - 28s 1s/step - loss: 1.2653 - categorical_accuracy: 0.4480 - val_loss: 1.3579 - val_categorical_accuracy: 0.3700 - lr: 0.0010\n",
      "Epoch 14/30\n",
      "21/21 [==============================] - ETA: 0s - loss: 1.3048 - categorical_accuracy: 0.4510\n",
      "Epoch 00014: val_loss improved from 1.30794 to 1.19052, saving model to /models/model_init_2025-03-3118_28_33.408407/model-00014-1.30482-0.45098-1.19052-0.51000.h5\n",
      "21/21 [==============================] - 28s 1s/step - loss: 1.3048 - categorical_accuracy: 0.4510 - val_loss: 1.1905 - val_categorical_accuracy: 0.5100 - lr: 0.0010\n",
      "Epoch 15/30\n",
      "21/21 [==============================] - ETA: 0s - loss: 1.2407 - categorical_accuracy: 0.5053\n",
      "Epoch 00015: val_loss did not improve from 1.19052\n",
      "21/21 [==============================] - 28s 1s/step - loss: 1.2407 - categorical_accuracy: 0.5053 - val_loss: 1.4138 - val_categorical_accuracy: 0.3500 - lr: 0.0010\n",
      "Epoch 16/30\n",
      "21/21 [==============================] - ETA: 0s - loss: 1.1962 - categorical_accuracy: 0.4887\n",
      "Epoch 00016: val_loss did not improve from 1.19052\n",
      "21/21 [==============================] - 27s 1s/step - loss: 1.1962 - categorical_accuracy: 0.4887 - val_loss: 1.3072 - val_categorical_accuracy: 0.5100 - lr: 0.0010\n",
      "Epoch 17/30\n",
      "21/21 [==============================] - ETA: 0s - loss: 1.1955 - categorical_accuracy: 0.4902\n",
      "Epoch 00017: val_loss did not improve from 1.19052\n",
      "\n",
      "Epoch 00017: ReduceLROnPlateau reducing learning rate to 0.00010000000474974513.\n",
      "21/21 [==============================] - 28s 1s/step - loss: 1.1955 - categorical_accuracy: 0.4902 - val_loss: 1.2394 - val_categorical_accuracy: 0.5000 - lr: 0.0010\n",
      "Epoch 18/30\n",
      "21/21 [==============================] - ETA: 0s - loss: 1.1154 - categorical_accuracy: 0.5279\n",
      "Epoch 00018: val_loss did not improve from 1.19052\n",
      "21/21 [==============================] - 28s 1s/step - loss: 1.1154 - categorical_accuracy: 0.5279 - val_loss: 1.2359 - val_categorical_accuracy: 0.4800 - lr: 1.0000e-04\n",
      "Epoch 19/30\n",
      "21/21 [==============================] - ETA: 0s - loss: 1.0491 - categorical_accuracy: 0.5581\n",
      "Epoch 00019: val_loss did not improve from 1.19052\n",
      "21/21 [==============================] - 28s 1s/step - loss: 1.0491 - categorical_accuracy: 0.5581 - val_loss: 1.2588 - val_categorical_accuracy: 0.4800 - lr: 1.0000e-04\n",
      "Epoch 20/30\n",
      "21/21 [==============================] - ETA: 0s - loss: 1.0449 - categorical_accuracy: 0.5792\n",
      "Epoch 00020: val_loss did not improve from 1.19052\n",
      "\n",
      "Epoch 00020: ReduceLROnPlateau reducing learning rate to 0.0001.\n",
      "21/21 [==============================] - 27s 1s/step - loss: 1.0449 - categorical_accuracy: 0.5792 - val_loss: 1.2458 - val_categorical_accuracy: 0.5300 - lr: 1.0000e-04\n",
      "Epoch 21/30\n",
      "21/21 [==============================] - ETA: 0s - loss: 1.0336 - categorical_accuracy: 0.5822\n",
      "Epoch 00021: val_loss improved from 1.19052 to 1.14588, saving model to /models/model_init_2025-03-3118_28_33.408407/model-00021-1.03365-0.58220-1.14588-0.50000.h5\n",
      "21/21 [==============================] - 28s 1s/step - loss: 1.0336 - categorical_accuracy: 0.5822 - val_loss: 1.1459 - val_categorical_accuracy: 0.5000 - lr: 1.0000e-04\n",
      "Epoch 22/30\n",
      "21/21 [==============================] - ETA: 0s - loss: 1.0187 - categorical_accuracy: 0.6109\n",
      "Epoch 00022: val_loss did not improve from 1.14588\n",
      "21/21 [==============================] - 28s 1s/step - loss: 1.0187 - categorical_accuracy: 0.6109 - val_loss: 1.1485 - val_categorical_accuracy: 0.5300 - lr: 1.0000e-04\n",
      "Epoch 23/30\n",
      "21/21 [==============================] - ETA: 0s - loss: 1.0160 - categorical_accuracy: 0.5626\n",
      "Epoch 00023: val_loss improved from 1.14588 to 1.12541, saving model to /models/model_init_2025-03-3118_28_33.408407/model-00023-1.01598-0.56259-1.12541-0.53000.h5\n",
      "21/21 [==============================] - 28s 1s/step - loss: 1.0160 - categorical_accuracy: 0.5626 - val_loss: 1.1254 - val_categorical_accuracy: 0.5300 - lr: 1.0000e-04\n",
      "Epoch 24/30\n",
      "21/21 [==============================] - ETA: 0s - loss: 1.0134 - categorical_accuracy: 0.5837\n",
      "Epoch 00024: val_loss did not improve from 1.12541\n",
      "21/21 [==============================] - 27s 1s/step - loss: 1.0134 - categorical_accuracy: 0.5837 - val_loss: 1.2083 - val_categorical_accuracy: 0.4900 - lr: 1.0000e-04\n",
      "Epoch 25/30\n",
      "21/21 [==============================] - ETA: 0s - loss: 0.9757 - categorical_accuracy: 0.6003\n",
      "Epoch 00025: val_loss did not improve from 1.12541\n",
      "21/21 [==============================] - 28s 1s/step - loss: 0.9757 - categorical_accuracy: 0.6003 - val_loss: 1.1459 - val_categorical_accuracy: 0.5600 - lr: 1.0000e-04\n",
      "Epoch 26/30\n",
      "21/21 [==============================] - ETA: 0s - loss: 0.9736 - categorical_accuracy: 0.5973\n",
      "Epoch 00026: val_loss improved from 1.12541 to 1.10481, saving model to /models/model_init_2025-03-3118_28_33.408407/model-00026-0.97358-0.59729-1.10481-0.58000.h5\n",
      "21/21 [==============================] - 28s 1s/step - loss: 0.9736 - categorical_accuracy: 0.5973 - val_loss: 1.1048 - val_categorical_accuracy: 0.5800 - lr: 1.0000e-04\n",
      "Epoch 27/30\n",
      "21/21 [==============================] - ETA: 0s - loss: 0.9747 - categorical_accuracy: 0.5958\n",
      "Epoch 00027: val_loss improved from 1.10481 to 1.09654, saving model to /models/model_init_2025-03-3118_28_33.408407/model-00027-0.97474-0.59578-1.09654-0.56000.h5\n",
      "21/21 [==============================] - 28s 1s/step - loss: 0.9747 - categorical_accuracy: 0.5958 - val_loss: 1.0965 - val_categorical_accuracy: 0.5600 - lr: 1.0000e-04\n",
      "Epoch 28/30\n",
      "21/21 [==============================] - ETA: 0s - loss: 0.9350 - categorical_accuracy: 0.6259\n",
      "Epoch 00028: val_loss did not improve from 1.09654\n",
      "21/21 [==============================] - 27s 1s/step - loss: 0.9350 - categorical_accuracy: 0.6259 - val_loss: 1.1890 - val_categorical_accuracy: 0.4900 - lr: 1.0000e-04\n",
      "Epoch 29/30\n",
      "21/21 [==============================] - ETA: 0s - loss: 0.9477 - categorical_accuracy: 0.6154\n",
      "Epoch 00029: val_loss did not improve from 1.09654\n",
      "21/21 [==============================] - 28s 1s/step - loss: 0.9477 - categorical_accuracy: 0.6154 - val_loss: 1.1705 - val_categorical_accuracy: 0.5100 - lr: 1.0000e-04\n",
      "Epoch 30/30\n",
      "21/21 [==============================] - ETA: 0s - loss: 0.9419 - categorical_accuracy: 0.6199\n",
      "Epoch 00030: val_loss did not improve from 1.09654\n",
      "21/21 [==============================] - 29s 1s/step - loss: 0.9419 - categorical_accuracy: 0.6199 - val_loss: 1.1610 - val_categorical_accuracy: 0.5000 - lr: 1.0000e-04\n"
     ]
    }
   ],
   "source": [
    "history = train_model(model, train_generator, val_generator, num_train_sequences, num_val_sequences, batch_size=32, num_epochs=30)"
   ]
  },
  {
   "cell_type": "code",
   "execution_count": 99,
   "metadata": {},
   "outputs": [
    {
     "name": "stdout",
     "output_type": "stream",
     "text": [
      "dict_keys(['loss', 'categorical_accuracy', 'val_loss', 'val_categorical_accuracy', 'lr'])\n"
     ]
    },
    {
     "data": {
      "image/png": "[encoded data removed]",
      "text/plain": [
       "<Figure size 432x288 with 1 Axes>"
      ]
     },
     "metadata": {
      "needs_background": "light"
     },
     "output_type": "display_data"
    },
    {
     "data": {
      "image/png": "[encoded data removed]",
      "text/plain": [
       "<Figure size 432x288 with 1 Axes>"
      ]
     },
     "metadata": {
      "needs_background": "light"
     },
     "output_type": "display_data"
    }
   ],
   "source": [
    "plot_loss_accuracy(history)"
   ]
  },
  {
   "cell_type": "markdown",
   "metadata": {},
   "source": [
    "### Experiemt 8 Observations"
   ]
  },
  {
   "cell_type": "markdown",
   "metadata": {},
   "source": [
    "### Experiemt 9 CNN Transfer Learning (Resnet50) + GRU"
   ]
  },
  {
   "cell_type": "code",
   "execution_count": 100,
   "metadata": {},
   "outputs": [],
   "source": [
    "train_generator = generator(train_data_dir, train_folder_list, batch_size=32, img_size=(224,224))\n",
    "val_generator = generator(val_data_dir, val_folder_list, batch_size=32, img_size=(224,224))"
   ]
  },
  {
   "cell_type": "code",
   "execution_count": 104,
   "metadata": {},
   "outputs": [
    {
     "name": "stdout",
     "output_type": "stream",
     "text": [
      "Model: \"sequential_60\"\n",
      "_________________________________________________________________\n",
      " Layer (type)                Output Shape              Param #   \n",
      "=================================================================\n",
      " time_distributed_2 (TimeDis  (None, 20, 7, 7, 2048)   23587712  \n",
      " tributed)                                                       \n",
      "                                                                 \n",
      " reshape_2 (Reshape)         (None, 980, 2048)         0         \n",
      "                                                                 \n",
      " gru_1 (GRU)                 (None, 128)               836352    \n",
      "                                                                 \n",
      " dense_75 (Dense)            (None, 128)               16512     \n",
      "                                                                 \n",
      " dense_76 (Dense)            (None, 5)                 645       \n",
      "                                                                 \n",
      "=================================================================\n",
      "Total params: 24,441,221\n",
      "Trainable params: 853,509\n",
      "Non-trainable params: 23,587,712\n",
      "_________________________________________________________________\n"
     ]
    }
   ],
   "source": [
    "from keras.layers import GRU\n",
    "resnet_model = ResNet50(include_top=False)\n",
    "model = Sequential()\n",
    "model.add(TimeDistributed(resnet_model, input_shape=(20, 224, 224, 3))) \n",
    "model.add(Reshape((-1,2048)))\n",
    "model.add(GRU(128))\n",
    "model.add(Dense(128, activation='relu')) \n",
    "model.add(Dense(5, activation='softmax'))\n",
    "model.layers[0].trainable = False\n",
    "\n",
    "model.summary()"
   ]
  },
  {
   "cell_type": "code",
   "execution_count": 105,
   "metadata": {},
   "outputs": [],
   "source": [
    "model.compile(optimizer='adam',\n",
    "              loss=tf.keras.losses.CategoricalCrossentropy(),\n",
    "              metrics=['categorical_accuracy'])"
   ]
  },
  {
   "cell_type": "code",
   "execution_count": 106,
   "metadata": {},
   "outputs": [
    {
     "name": "stdout",
     "output_type": "stream",
     "text": [
      "Source path =  /datasets/Project_data/train/ ; batch size = 32\n",
      "Epoch 1/25\n",
      "21/21 [==============================] - ETA: 0s - loss: 1.6882 - categorical_accuracy: 0.2021Source path =  /datasets/Project_data/val/ ; batch size = 32\n",
      "\n",
      "Epoch 00001: val_loss improved from inf to 1.61473, saving model to /models/model_init_2025-03-3118_44_08.721973/model-00001-1.68817-0.20211-1.61473-0.20000.h5\n",
      "21/21 [==============================] - 54s 2s/step - loss: 1.6882 - categorical_accuracy: 0.2021 - val_loss: 1.6147 - val_categorical_accuracy: 0.2000 - lr: 0.0010\n",
      "Epoch 2/25\n",
      "21/21 [==============================] - ETA: 0s - loss: 1.5965 - categorical_accuracy: 0.2262\n",
      "Epoch 00002: val_loss improved from 1.61473 to 1.56651, saving model to /models/model_init_2025-03-3118_44_08.721973/model-00002-1.59646-0.22624-1.56651-0.28000.h5\n",
      "21/21 [==============================] - 48s 2s/step - loss: 1.5965 - categorical_accuracy: 0.2262 - val_loss: 1.5665 - val_categorical_accuracy: 0.2800 - lr: 0.0010\n",
      "Epoch 3/25\n",
      "21/21 [==============================] - ETA: 0s - loss: 1.5670 - categorical_accuracy: 0.2459\n",
      "Epoch 00003: val_loss improved from 1.56651 to 1.49486, saving model to /models/model_init_2025-03-3118_44_08.721973/model-00003-1.56695-0.24585-1.49486-0.33000.h5\n",
      "21/21 [==============================] - 49s 2s/step - loss: 1.5670 - categorical_accuracy: 0.2459 - val_loss: 1.4949 - val_categorical_accuracy: 0.3300 - lr: 0.0010\n",
      "Epoch 4/25\n",
      "21/21 [==============================] - ETA: 0s - loss: 1.5636 - categorical_accuracy: 0.2775\n",
      "Epoch 00004: val_loss did not improve from 1.49486\n",
      "21/21 [==============================] - 46s 2s/step - loss: 1.5636 - categorical_accuracy: 0.2775 - val_loss: 1.5060 - val_categorical_accuracy: 0.3100 - lr: 0.0010\n",
      "Epoch 5/25\n",
      "21/21 [==============================] - ETA: 0s - loss: 1.4474 - categorical_accuracy: 0.3363\n",
      "Epoch 00005: val_loss improved from 1.49486 to 1.40869, saving model to /models/model_init_2025-03-3118_44_08.721973/model-00005-1.44736-0.33635-1.40869-0.38000.h5\n",
      "21/21 [==============================] - 49s 2s/step - loss: 1.4474 - categorical_accuracy: 0.3363 - val_loss: 1.4087 - val_categorical_accuracy: 0.3800 - lr: 0.0010\n",
      "Epoch 6/25\n",
      "21/21 [==============================] - ETA: 0s - loss: 1.3999 - categorical_accuracy: 0.3409\n",
      "Epoch 00006: val_loss improved from 1.40869 to 1.33890, saving model to /models/model_init_2025-03-3118_44_08.721973/model-00006-1.39990-0.34087-1.33890-0.41000.h5\n",
      "21/21 [==============================] - 48s 2s/step - loss: 1.3999 - categorical_accuracy: 0.3409 - val_loss: 1.3389 - val_categorical_accuracy: 0.4100 - lr: 0.0010\n",
      "Epoch 7/25\n",
      "21/21 [==============================] - ETA: 0s - loss: 1.4179 - categorical_accuracy: 0.3650\n",
      "Epoch 00007: val_loss improved from 1.33890 to 1.32919, saving model to /models/model_init_2025-03-3118_44_08.721973/model-00007-1.41789-0.36501-1.32919-0.39000.h5\n",
      "21/21 [==============================] - 49s 2s/step - loss: 1.4179 - categorical_accuracy: 0.3650 - val_loss: 1.3292 - val_categorical_accuracy: 0.3900 - lr: 0.0010\n",
      "Epoch 8/25\n",
      "21/21 [==============================] - ETA: 0s - loss: 1.3967 - categorical_accuracy: 0.3922\n",
      "Epoch 00008: val_loss did not improve from 1.32919\n",
      "21/21 [==============================] - 47s 2s/step - loss: 1.3967 - categorical_accuracy: 0.3922 - val_loss: 1.3661 - val_categorical_accuracy: 0.4400 - lr: 0.0010\n",
      "Epoch 9/25\n",
      "21/21 [==============================] - ETA: 0s - loss: 1.3979 - categorical_accuracy: 0.3650\n",
      "Epoch 00009: val_loss did not improve from 1.32919\n",
      "21/21 [==============================] - 50s 2s/step - loss: 1.3979 - categorical_accuracy: 0.3650 - val_loss: 1.3606 - val_categorical_accuracy: 0.4200 - lr: 0.0010\n",
      "Epoch 10/25\n",
      "21/21 [==============================] - ETA: 0s - loss: 1.3609 - categorical_accuracy: 0.3786\n",
      "Epoch 00010: val_loss improved from 1.32919 to 1.27664, saving model to /models/model_init_2025-03-3118_44_08.721973/model-00010-1.36093-0.37858-1.27664-0.47000.h5\n",
      "21/21 [==============================] - 49s 2s/step - loss: 1.3609 - categorical_accuracy: 0.3786 - val_loss: 1.2766 - val_categorical_accuracy: 0.4700 - lr: 0.0010\n",
      "Epoch 11/25\n",
      "21/21 [==============================] - ETA: 0s - loss: 1.3224 - categorical_accuracy: 0.3861\n",
      "Epoch 00011: val_loss did not improve from 1.27664\n",
      "21/21 [==============================] - 49s 2s/step - loss: 1.3224 - categorical_accuracy: 0.3861 - val_loss: 1.3147 - val_categorical_accuracy: 0.4000 - lr: 0.0010\n",
      "Epoch 12/25\n",
      "21/21 [==============================] - ETA: 0s - loss: 1.3567 - categorical_accuracy: 0.4299\n",
      "Epoch 00012: val_loss did not improve from 1.27664\n",
      "21/21 [==============================] - 48s 2s/step - loss: 1.3567 - categorical_accuracy: 0.4299 - val_loss: 1.3880 - val_categorical_accuracy: 0.4100 - lr: 0.0010\n",
      "Epoch 13/25\n",
      "21/21 [==============================] - ETA: 0s - loss: 1.3286 - categorical_accuracy: 0.4389\n",
      "Epoch 00013: val_loss did not improve from 1.27664\n",
      "\n",
      "Epoch 00013: ReduceLROnPlateau reducing learning rate to 0.00010000000474974513.\n",
      "21/21 [==============================] - 49s 2s/step - loss: 1.3286 - categorical_accuracy: 0.4389 - val_loss: 1.3191 - val_categorical_accuracy: 0.4100 - lr: 0.0010\n",
      "Epoch 14/25\n",
      "21/21 [==============================] - ETA: 0s - loss: 1.2640 - categorical_accuracy: 0.4600\n",
      "Epoch 00014: val_loss did not improve from 1.27664\n",
      "21/21 [==============================] - 49s 2s/step - loss: 1.2640 - categorical_accuracy: 0.4600 - val_loss: 1.3430 - val_categorical_accuracy: 0.4500 - lr: 1.0000e-04\n",
      "Epoch 15/25\n",
      "21/21 [==============================] - ETA: 0s - loss: 1.2584 - categorical_accuracy: 0.4555\n",
      "Epoch 00015: val_loss did not improve from 1.27664\n",
      "21/21 [==============================] - 49s 2s/step - loss: 1.2584 - categorical_accuracy: 0.4555 - val_loss: 1.3172 - val_categorical_accuracy: 0.4600 - lr: 1.0000e-04\n",
      "Epoch 16/25\n",
      "21/21 [==============================] - ETA: 0s - loss: 1.2317 - categorical_accuracy: 0.4706\n",
      "Epoch 00016: val_loss did not improve from 1.27664\n",
      "\n",
      "Epoch 00016: ReduceLROnPlateau reducing learning rate to 0.0001.\n",
      "21/21 [==============================] - 47s 2s/step - loss: 1.2317 - categorical_accuracy: 0.4706 - val_loss: 1.2997 - val_categorical_accuracy: 0.4300 - lr: 1.0000e-04\n",
      "Epoch 17/25\n",
      "21/21 [==============================] - ETA: 0s - loss: 1.2550 - categorical_accuracy: 0.4615\n",
      "Epoch 00017: val_loss did not improve from 1.27664\n",
      "21/21 [==============================] - 49s 2s/step - loss: 1.2550 - categorical_accuracy: 0.4615 - val_loss: 1.3059 - val_categorical_accuracy: 0.4600 - lr: 1.0000e-04\n",
      "Epoch 18/25\n",
      "21/21 [==============================] - ETA: 0s - loss: 1.2348 - categorical_accuracy: 0.4736\n",
      "Epoch 00018: val_loss did not improve from 1.27664\n",
      "21/21 [==============================] - 50s 2s/step - loss: 1.2348 - categorical_accuracy: 0.4736 - val_loss: 1.3644 - val_categorical_accuracy: 0.4500 - lr: 1.0000e-04\n",
      "Epoch 19/25\n",
      "21/21 [==============================] - ETA: 0s - loss: 1.2247 - categorical_accuracy: 0.4751\n",
      "Epoch 00019: val_loss did not improve from 1.27664\n",
      "21/21 [==============================] - 51s 3s/step - loss: 1.2247 - categorical_accuracy: 0.4751 - val_loss: 1.3385 - val_categorical_accuracy: 0.4300 - lr: 1.0000e-04\n",
      "Epoch 20/25\n",
      "21/21 [==============================] - ETA: 0s - loss: 1.2346 - categorical_accuracy: 0.4902\n",
      "Epoch 00020: val_loss did not improve from 1.27664\n",
      "21/21 [==============================] - 48s 2s/step - loss: 1.2346 - categorical_accuracy: 0.4902 - val_loss: 1.3315 - val_categorical_accuracy: 0.4400 - lr: 1.0000e-04\n",
      "Epoch 21/25\n",
      "21/21 [==============================] - ETA: 0s - loss: 1.2380 - categorical_accuracy: 0.4736\n",
      "Epoch 00021: val_loss did not improve from 1.27664\n",
      "21/21 [==============================] - 50s 2s/step - loss: 1.2380 - categorical_accuracy: 0.4736 - val_loss: 1.3191 - val_categorical_accuracy: 0.4700 - lr: 1.0000e-04\n",
      "Epoch 22/25\n",
      "21/21 [==============================] - ETA: 0s - loss: 1.2316 - categorical_accuracy: 0.4796\n",
      "Epoch 00022: val_loss did not improve from 1.27664\n",
      "21/21 [==============================] - 50s 2s/step - loss: 1.2316 - categorical_accuracy: 0.4796 - val_loss: 1.3347 - val_categorical_accuracy: 0.4400 - lr: 1.0000e-04\n",
      "Epoch 23/25\n",
      "21/21 [==============================] - ETA: 0s - loss: 1.2324 - categorical_accuracy: 0.4947\n",
      "Epoch 00023: val_loss improved from 1.27664 to 1.22362, saving model to /models/model_init_2025-03-3118_44_08.721973/model-00023-1.23243-0.49472-1.22362-0.41000.h5\n",
      "21/21 [==============================] - 50s 2s/step - loss: 1.2324 - categorical_accuracy: 0.4947 - val_loss: 1.2236 - val_categorical_accuracy: 0.4100 - lr: 1.0000e-04\n",
      "Epoch 24/25\n",
      "21/21 [==============================] - ETA: 0s - loss: 1.2258 - categorical_accuracy: 0.4811\n",
      "Epoch 00024: val_loss did not improve from 1.22362\n",
      "21/21 [==============================] - 49s 2s/step - loss: 1.2258 - categorical_accuracy: 0.4811 - val_loss: 1.2858 - val_categorical_accuracy: 0.4600 - lr: 1.0000e-04\n",
      "Epoch 25/25\n",
      "21/21 [==============================] - ETA: 0s - loss: 1.2220 - categorical_accuracy: 0.4796\n",
      "Epoch 00025: val_loss did not improve from 1.22362\n",
      "21/21 [==============================] - 49s 2s/step - loss: 1.2220 - categorical_accuracy: 0.4796 - val_loss: 1.3121 - val_categorical_accuracy: 0.4700 - lr: 1.0000e-04\n"
     ]
    }
   ],
   "source": [
    "history = train_model(model, train_generator, val_generator, num_train_sequences, num_val_sequences, batch_size=32)"
   ]
  },
  {
   "cell_type": "code",
   "execution_count": 107,
   "metadata": {},
   "outputs": [
    {
     "name": "stdout",
     "output_type": "stream",
     "text": [
      "dict_keys(['loss', 'categorical_accuracy', 'val_loss', 'val_categorical_accuracy', 'lr'])\n"
     ]
    },
    {
     "data": {
      "image/png": "[encoded data removed]",
      "text/plain": [
       "<Figure size 432x288 with 1 Axes>"
      ]
     },
     "metadata": {
      "needs_background": "light"
     },
     "output_type": "display_data"
    },
    {
     "data": {
      "image/png": "[encoded data removed]",
      "text/plain": [
       "<Figure size 432x288 with 1 Axes>"
      ]
     },
     "metadata": {
      "needs_background": "light"
     },
     "output_type": "display_data"
    }
   ],
   "source": [
    "plot_loss_accuracy(history)"
   ]
  },
  {
   "cell_type": "markdown",
   "metadata": {},
   "source": [
    "### Experiemt 10 CNN Transfer Learning (Mobilenet) + GRU"
   ]
  },
  {
   "cell_type": "code",
   "execution_count": 118,
   "metadata": {},
   "outputs": [],
   "source": [
    "train_generator = generator(train_data_dir, train_folder_list, batch_size=10)\n",
    "val_generator = generator(val_data_dir, val_folder_list, batch_size=10)"
   ]
  },
  {
   "cell_type": "code",
   "execution_count": 132,
   "metadata": {},
   "outputs": [
    {
     "name": "stdout",
     "output_type": "stream",
     "text": [
      "WARNING:tensorflow:`input_shape` is undefined or non-square, or `rows` is not in [128, 160, 192, 224]. Weights for input shape (224, 224) will be loaded as the default.\n",
      "Model: \"sequential_74\"\n",
      "_________________________________________________________________\n",
      " Layer (type)                Output Shape              Param #   \n",
      "=================================================================\n",
      " time_distributed_37 (TimeDi  (None, 20, 7, 7, 1024)   3228864   \n",
      " stributed)                                                      \n",
      "                                                                 \n",
      " time_distributed_38 (TimeDi  (None, 20, 7, 7, 1024)   4096      \n",
      " stributed)                                                      \n",
      "                                                                 \n",
      " time_distributed_39 (TimeDi  (None, 20, 3, 3, 1024)   0         \n",
      " stributed)                                                      \n",
      "                                                                 \n",
      " time_distributed_40 (TimeDi  (None, 20, 9216)         0         \n",
      " stributed)                                                      \n",
      "                                                                 \n",
      " reshape_4 (Reshape)         (None, 180, 1024)         0         \n",
      "                                                                 \n",
      " gru_12 (GRU)                (None, 128)               443136    \n",
      "                                                                 \n",
      " dropout_27 (Dropout)        (None, 128)               0         \n",
      "                                                                 \n",
      " dense_91 (Dense)            (None, 128)               16512     \n",
      "                                                                 \n",
      " dropout_28 (Dropout)        (None, 128)               0         \n",
      "                                                                 \n",
      " dense_92 (Dense)            (None, 5)                 645       \n",
      "                                                                 \n",
      "=================================================================\n",
      "Total params: 3,693,253\n",
      "Trainable params: 462,341\n",
      "Non-trainable params: 3,230,912\n",
      "_________________________________________________________________\n"
     ]
    }
   ],
   "source": [
    "from tensorflow.keras.applications import MobileNet\n",
    "from keras.layers import  MaxPooling2D\n",
    "mobilenet_transfer = MobileNet(weights='imagenet', include_top=False)\n",
    "model = Sequential()\n",
    "model.add(TimeDistributed(mobilenet_transfer, input_shape=(20, 224, 224, 3)))\n",
    "model.add(TimeDistributed(BatchNormalization()))\n",
    "model.add(TimeDistributed(MaxPooling2D((2, 2))))\n",
    "model.add(TimeDistributed(Flatten()))\n",
    "model.add(Reshape((-1,1024)))\n",
    "model.add(GRU(128))\n",
    "model.add(Dropout(0.25))\n",
    "model.add(Dense(128, activation='relu'))\n",
    "model.add(Dropout(0.25))\n",
    "model.add(Dense(5, activation='softmax'))\n",
    "\n",
    "model.layers[0].trainable = False\n",
    "\n",
    "model.summary()"
   ]
  },
  {
   "cell_type": "code",
   "execution_count": 133,
   "metadata": {},
   "outputs": [],
   "source": [
    "model.compile(optimizer='adam',\n",
    "              loss=tf.keras.losses.CategoricalCrossentropy(),\n",
    "              metrics=['categorical_accuracy'])"
   ]
  },
  {
   "cell_type": "code",
   "execution_count": 134,
   "metadata": {},
   "outputs": [
    {
     "name": "stdout",
     "output_type": "stream",
     "text": [
      "Epoch 1/25\n"
     ]
    },
    {
     "ename": "InvalidArgumentError",
     "evalue": " Input to reshape is a tensor with 8640000 values, but the requested shape requires a multiple of 150528\n\t [[node sequential_74/time_distributed_37/Reshape\n (defined at /usr/local/lib/python3.8/dist-packages/keras/layers/wrappers.py:260)\n]] [Op:__inference_train_function_189057]\n\nErrors may have originated from an input operation.\nInput Source operations connected to node sequential_74/time_distributed_37/Reshape:\nIn[0] IteratorGetNext (defined at /usr/local/lib/python3.8/dist-packages/keras/engine/training.py:866)\t\nIn[1] sequential_74/time_distributed_37/Reshape/shape:\n\nOperation defined at: (most recent call last)\n>>>   File \"/usr/lib/python3.8/runpy.py\", line 194, in _run_module_as_main\n>>>     return _run_code(code, main_globals, None,\n>>> \n>>>   File \"/usr/lib/python3.8/runpy.py\", line 87, in _run_code\n>>>     exec(code, run_globals)\n>>> \n>>>   File \"/usr/local/lib/python3.8/dist-packages/ipykernel_launcher.py\", line 16, in <module>\n>>>     app.launch_new_instance()\n>>> \n>>>   File \"/usr/local/lib/python3.8/dist-packages/traitlets/config/application.py\", line 846, in launch_instance\n>>>     app.start()\n>>> \n>>>   File \"/usr/local/lib/python3.8/dist-packages/ipykernel/kernelapp.py\", line 677, in start\n>>>     self.io_loop.start()\n>>> \n>>>   File \"/usr/local/lib/python3.8/dist-packages/tornado/platform/asyncio.py\", line 199, in start\n>>>     self.asyncio_loop.run_forever()\n>>> \n>>>   File \"/usr/lib/python3.8/asyncio/base_events.py\", line 570, in run_forever\n>>>     self._run_once()\n>>> \n>>>   File \"/usr/lib/python3.8/asyncio/base_events.py\", line 1859, in _run_once\n>>>     handle._run()\n>>> \n>>>   File \"/usr/lib/python3.8/asyncio/events.py\", line 81, in _run\n>>>     self._context.run(self._callback, *self._args)\n>>> \n>>>   File \"/usr/local/lib/python3.8/dist-packages/ipykernel/kernelbase.py\", line 461, in dispatch_queue\n>>>     await self.process_one()\n>>> \n>>>   File \"/usr/local/lib/python3.8/dist-packages/ipykernel/kernelbase.py\", line 450, in process_one\n>>>     await dispatch(*args)\n>>> \n>>>   File \"/usr/local/lib/python3.8/dist-packages/ipykernel/kernelbase.py\", line 357, in dispatch_shell\n>>>     await result\n>>> \n>>>   File \"/usr/local/lib/python3.8/dist-packages/ipykernel/kernelbase.py\", line 652, in execute_request\n>>>     reply_content = await reply_content\n>>> \n>>>   File \"/usr/local/lib/python3.8/dist-packages/ipykernel/ipkernel.py\", line 359, in do_execute\n>>>     res = shell.run_cell(code, store_history=store_history, silent=silent)\n>>> \n>>>   File \"/usr/local/lib/python3.8/dist-packages/ipykernel/zmqshell.py\", line 532, in run_cell\n>>>     return super().run_cell(*args, **kwargs)\n>>> \n>>>   File \"/usr/local/lib/python3.8/dist-packages/IPython/core/interactiveshell.py\", line 2914, in run_cell\n>>>     result = self._run_cell(\n>>> \n>>>   File \"/usr/local/lib/python3.8/dist-packages/IPython/core/interactiveshell.py\", line 2960, in _run_cell\n>>>     return runner(coro)\n>>> \n>>>   File \"/usr/local/lib/python3.8/dist-packages/IPython/core/async_helpers.py\", line 78, in _pseudo_sync_runner\n>>>     coro.send(None)\n>>> \n>>>   File \"/usr/local/lib/python3.8/dist-packages/IPython/core/interactiveshell.py\", line 3185, in run_cell_async\n>>>     has_raised = await self.run_ast_nodes(code_ast.body, cell_name,\n>>> \n>>>   File \"/usr/local/lib/python3.8/dist-packages/IPython/core/interactiveshell.py\", line 3377, in run_ast_nodes\n>>>     if (await self.run_code(code, result,  async_=asy)):\n>>> \n>>>   File \"/usr/local/lib/python3.8/dist-packages/IPython/core/interactiveshell.py\", line 3457, in run_code\n>>>     exec(code_obj, self.user_global_ns, self.user_ns)\n>>> \n>>>   File \"/tmp/ipykernel_299/855125396.py\", line 1, in <module>\n>>>     history = train_model(model, train_generator, val_generator, num_train_sequences, num_val_sequences, batch_size=10)\n>>> \n>>>   File \"/tmp/ipykernel_299/1616618816.py\", line 28, in train_model\n>>>     history = model.fit(train_generator, steps_per_epoch=steps_per_epoch, epochs=num_epochs, verbose=1,\n>>> \n>>>   File \"/usr/local/lib/python3.8/dist-packages/keras/utils/traceback_utils.py\", line 64, in error_handler\n>>>     return fn(*args, **kwargs)\n>>> \n>>>   File \"/usr/local/lib/python3.8/dist-packages/keras/engine/training.py\", line 1216, in fit\n>>>     tmp_logs = self.train_function(iterator)\n>>> \n>>>   File \"/usr/local/lib/python3.8/dist-packages/keras/engine/training.py\", line 878, in train_function\n>>>     return step_function(self, iterator)\n>>> \n>>>   File \"/usr/local/lib/python3.8/dist-packages/keras/engine/training.py\", line 867, in step_function\n>>>     outputs = model.distribute_strategy.run(run_step, args=(data,))\n>>> \n>>>   File \"/usr/local/lib/python3.8/dist-packages/keras/engine/training.py\", line 860, in run_step\n>>>     outputs = model.train_step(data)\n>>> \n>>>   File \"/usr/local/lib/python3.8/dist-packages/keras/engine/training.py\", line 808, in train_step\n>>>     y_pred = self(x, training=True)\n>>> \n>>>   File \"/usr/local/lib/python3.8/dist-packages/keras/utils/traceback_utils.py\", line 64, in error_handler\n>>>     return fn(*args, **kwargs)\n>>> \n>>>   File \"/usr/local/lib/python3.8/dist-packages/keras/engine/base_layer.py\", line 1083, in __call__\n>>>     outputs = call_fn(inputs, *args, **kwargs)\n>>> \n>>>   File \"/usr/local/lib/python3.8/dist-packages/keras/utils/traceback_utils.py\", line 92, in error_handler\n>>>     return fn(*args, **kwargs)\n>>> \n>>>   File \"/usr/local/lib/python3.8/dist-packages/keras/engine/sequential.py\", line 373, in call\n>>>     return super(Sequential, self).call(inputs, training=training, mask=mask)\n>>> \n>>>   File \"/usr/local/lib/python3.8/dist-packages/keras/engine/functional.py\", line 451, in call\n>>>     return self._run_internal_graph(\n>>> \n>>>   File \"/usr/local/lib/python3.8/dist-packages/keras/engine/functional.py\", line 589, in _run_internal_graph\n>>>     outputs = node.layer(*args, **kwargs)\n>>> \n>>>   File \"/usr/local/lib/python3.8/dist-packages/keras/utils/traceback_utils.py\", line 64, in error_handler\n>>>     return fn(*args, **kwargs)\n>>> \n>>>   File \"/usr/local/lib/python3.8/dist-packages/keras/engine/base_layer.py\", line 1083, in __call__\n>>>     outputs = call_fn(inputs, *args, **kwargs)\n>>> \n>>>   File \"/usr/local/lib/python3.8/dist-packages/keras/utils/traceback_utils.py\", line 92, in error_handler\n>>>     return fn(*args, **kwargs)\n>>> \n>>>   File \"/usr/local/lib/python3.8/dist-packages/keras/layers/wrappers.py\", line 260, in call\n>>>     inputs = tf.__internal__.nest.map_structure_up_to(inputs, tf.reshape, inputs,\n>>> ",
     "output_type": "error",
     "traceback": [
      "\u001b[0;31m---------------------------------------------------------------------------\u001b[0m",
      "\u001b[0;31mInvalidArgumentError\u001b[0m                      Traceback (most recent call last)",
      "\u001b[0;32m/tmp/ipykernel_299/855125396.py\u001b[0m in \u001b[0;36m<module>\u001b[0;34m\u001b[0m\n\u001b[0;32m----> 1\u001b[0;31m \u001b[0mhistory\u001b[0m \u001b[0;34m=\u001b[0m \u001b[0mtrain_model\u001b[0m\u001b[0;34m(\u001b[0m\u001b[0mmodel\u001b[0m\u001b[0;34m,\u001b[0m \u001b[0mtrain_generator\u001b[0m\u001b[0;34m,\u001b[0m \u001b[0mval_generator\u001b[0m\u001b[0;34m,\u001b[0m \u001b[0mnum_train_sequences\u001b[0m\u001b[0;34m,\u001b[0m \u001b[0mnum_val_sequences\u001b[0m\u001b[0;34m,\u001b[0m \u001b[0mbatch_size\u001b[0m\u001b[0;34m=\u001b[0m\u001b[0;36m10\u001b[0m\u001b[0;34m)\u001b[0m\u001b[0;34m\u001b[0m\u001b[0;34m\u001b[0m\u001b[0m\n\u001b[0m",
      "\u001b[0;32m/tmp/ipykernel_299/1616618816.py\u001b[0m in \u001b[0;36mtrain_model\u001b[0;34m(model, train_generator, val_generator, num_train_sequences, num_val_sequences, batch_size, num_epochs)\u001b[0m\n\u001b[1;32m     26\u001b[0m         \u001b[0mvalidation_steps\u001b[0m \u001b[0;34m=\u001b[0m \u001b[0;34m(\u001b[0m\u001b[0mnum_val_sequences\u001b[0m\u001b[0;34m//\u001b[0m\u001b[0mbatch_size\u001b[0m\u001b[0;34m)\u001b[0m \u001b[0;34m+\u001b[0m \u001b[0;36m1\u001b[0m\u001b[0;34m\u001b[0m\u001b[0;34m\u001b[0m\u001b[0m\n\u001b[1;32m     27\u001b[0m \u001b[0;34m\u001b[0m\u001b[0m\n\u001b[0;32m---> 28\u001b[0;31m     history = model.fit(train_generator, steps_per_epoch=steps_per_epoch, epochs=num_epochs, verbose=1,\n\u001b[0m\u001b[1;32m     29\u001b[0m           \u001b[0mcallbacks\u001b[0m\u001b[0;34m=\u001b[0m\u001b[0mcallbacks_list\u001b[0m\u001b[0;34m,\u001b[0m \u001b[0mvalidation_data\u001b[0m\u001b[0;34m=\u001b[0m\u001b[0mval_generator\u001b[0m\u001b[0;34m,\u001b[0m\u001b[0;34m\u001b[0m\u001b[0;34m\u001b[0m\u001b[0m\n\u001b[1;32m     30\u001b[0m           validation_steps=validation_steps,initial_epoch=0)\n",
      "\u001b[0;32m/usr/local/lib/python3.8/dist-packages/keras/utils/traceback_utils.py\u001b[0m in \u001b[0;36merror_handler\u001b[0;34m(*args, **kwargs)\u001b[0m\n\u001b[1;32m     65\u001b[0m     \u001b[0;32mexcept\u001b[0m \u001b[0mException\u001b[0m \u001b[0;32mas\u001b[0m \u001b[0me\u001b[0m\u001b[0;34m:\u001b[0m  \u001b[0;31m# pylint: disable=broad-except\u001b[0m\u001b[0;34m\u001b[0m\u001b[0;34m\u001b[0m\u001b[0m\n\u001b[1;32m     66\u001b[0m       \u001b[0mfiltered_tb\u001b[0m \u001b[0;34m=\u001b[0m \u001b[0m_process_traceback_frames\u001b[0m\u001b[0;34m(\u001b[0m\u001b[0me\u001b[0m\u001b[0;34m.\u001b[0m\u001b[0m__traceback__\u001b[0m\u001b[0;34m)\u001b[0m\u001b[0;34m\u001b[0m\u001b[0;34m\u001b[0m\u001b[0m\n\u001b[0;32m---> 67\u001b[0;31m       \u001b[0;32mraise\u001b[0m \u001b[0me\u001b[0m\u001b[0;34m.\u001b[0m\u001b[0mwith_traceback\u001b[0m\u001b[0;34m(\u001b[0m\u001b[0mfiltered_tb\u001b[0m\u001b[0;34m)\u001b[0m \u001b[0;32mfrom\u001b[0m \u001b[0;32mNone\u001b[0m\u001b[0;34m\u001b[0m\u001b[0;34m\u001b[0m\u001b[0m\n\u001b[0m\u001b[1;32m     68\u001b[0m     \u001b[0;32mfinally\u001b[0m\u001b[0;34m:\u001b[0m\u001b[0;34m\u001b[0m\u001b[0;34m\u001b[0m\u001b[0m\n\u001b[1;32m     69\u001b[0m       \u001b[0;32mdel\u001b[0m \u001b[0mfiltered_tb\u001b[0m\u001b[0;34m\u001b[0m\u001b[0;34m\u001b[0m\u001b[0m\n",
      "\u001b[0;32m/usr/local/lib/python3.8/dist-packages/tensorflow/python/eager/execute.py\u001b[0m in \u001b[0;36mquick_execute\u001b[0;34m(op_name, num_outputs, inputs, attrs, ctx, name)\u001b[0m\n\u001b[1;32m     56\u001b[0m   \u001b[0;32mtry\u001b[0m\u001b[0;34m:\u001b[0m\u001b[0;34m\u001b[0m\u001b[0;34m\u001b[0m\u001b[0m\n\u001b[1;32m     57\u001b[0m     \u001b[0mctx\u001b[0m\u001b[0;34m.\u001b[0m\u001b[0mensure_initialized\u001b[0m\u001b[0;34m(\u001b[0m\u001b[0;34m)\u001b[0m\u001b[0;34m\u001b[0m\u001b[0;34m\u001b[0m\u001b[0m\n\u001b[0;32m---> 58\u001b[0;31m     tensors = pywrap_tfe.TFE_Py_Execute(ctx._handle, device_name, op_name,\n\u001b[0m\u001b[1;32m     59\u001b[0m                                         inputs, attrs, num_outputs)\n\u001b[1;32m     60\u001b[0m   \u001b[0;32mexcept\u001b[0m \u001b[0mcore\u001b[0m\u001b[0;34m.\u001b[0m\u001b[0m_NotOkStatusException\u001b[0m \u001b[0;32mas\u001b[0m \u001b[0me\u001b[0m\u001b[0;34m:\u001b[0m\u001b[0;34m\u001b[0m\u001b[0;34m\u001b[0m\u001b[0m\n",
      "\u001b[0;31mInvalidArgumentError\u001b[0m:  Input to reshape is a tensor with 8640000 values, but the requested shape requires a multiple of 150528\n\t [[node sequential_74/time_distributed_37/Reshape\n (defined at /usr/local/lib/python3.8/dist-packages/keras/layers/wrappers.py:260)\n]] [Op:__inference_train_function_189057]\n\nErrors may have originated from an input operation.\nInput Source operations connected to node sequential_74/time_distributed_37/Reshape:\nIn[0] IteratorGetNext (defined at /usr/local/lib/python3.8/dist-packages/keras/engine/training.py:866)\t\nIn[1] sequential_74/time_distributed_37/Reshape/shape:\n\nOperation defined at: (most recent call last)\n>>>   File \"/usr/lib/python3.8/runpy.py\", line 194, in _run_module_as_main\n>>>     return _run_code(code, main_globals, None,\n>>> \n>>>   File \"/usr/lib/python3.8/runpy.py\", line 87, in _run_code\n>>>     exec(code, run_globals)\n>>> \n>>>   File \"/usr/local/lib/python3.8/dist-packages/ipykernel_launcher.py\", line 16, in <module>\n>>>     app.launch_new_instance()\n>>> \n>>>   File \"/usr/local/lib/python3.8/dist-packages/traitlets/config/application.py\", line 846, in launch_instance\n>>>     app.start()\n>>> \n>>>   File \"/usr/local/lib/python3.8/dist-packages/ipykernel/kernelapp.py\", line 677, in start\n>>>     self.io_loop.start()\n>>> \n>>>   File \"/usr/local/lib/python3.8/dist-packages/tornado/platform/asyncio.py\", line 199, in start\n>>>     self.asyncio_loop.run_forever()\n>>> \n>>>   File \"/usr/lib/python3.8/asyncio/base_events.py\", line 570, in run_forever\n>>>     self._run_once()\n>>> \n>>>   File \"/usr/lib/python3.8/asyncio/base_events.py\", line 1859, in _run_once\n>>>     handle._run()\n>>> \n>>>   File \"/usr/lib/python3.8/asyncio/events.py\", line 81, in _run\n>>>     self._context.run(self._callback, *self._args)\n>>> \n>>>   File \"/usr/local/lib/python3.8/dist-packages/ipykernel/kernelbase.py\", line 461, in dispatch_queue\n>>>     await self.process_one()\n>>> \n>>>   File \"/usr/local/lib/python3.8/dist-packages/ipykernel/kernelbase.py\", line 450, in process_one\n>>>     await dispatch(*args)\n>>> \n>>>   File \"/usr/local/lib/python3.8/dist-packages/ipykernel/kernelbase.py\", line 357, in dispatch_shell\n>>>     await result\n>>> \n>>>   File \"/usr/local/lib/python3.8/dist-packages/ipykernel/kernelbase.py\", line 652, in execute_request\n>>>     reply_content = await reply_content\n>>> \n>>>   File \"/usr/local/lib/python3.8/dist-packages/ipykernel/ipkernel.py\", line 359, in do_execute\n>>>     res = shell.run_cell(code, store_history=store_history, silent=silent)\n>>> \n>>>   File \"/usr/local/lib/python3.8/dist-packages/ipykernel/zmqshell.py\", line 532, in run_cell\n>>>     return super().run_cell(*args, **kwargs)\n>>> \n>>>   File \"/usr/local/lib/python3.8/dist-packages/IPython/core/interactiveshell.py\", line 2914, in run_cell\n>>>     result = self._run_cell(\n>>> \n>>>   File \"/usr/local/lib/python3.8/dist-packages/IPython/core/interactiveshell.py\", line 2960, in _run_cell\n>>>     return runner(coro)\n>>> \n>>>   File \"/usr/local/lib/python3.8/dist-packages/IPython/core/async_helpers.py\", line 78, in _pseudo_sync_runner\n>>>     coro.send(None)\n>>> \n>>>   File \"/usr/local/lib/python3.8/dist-packages/IPython/core/interactiveshell.py\", line 3185, in run_cell_async\n>>>     has_raised = await self.run_ast_nodes(code_ast.body, cell_name,\n>>> \n>>>   File \"/usr/local/lib/python3.8/dist-packages/IPython/core/interactiveshell.py\", line 3377, in run_ast_nodes\n>>>     if (await self.run_code(code, result,  async_=asy)):\n>>> \n>>>   File \"/usr/local/lib/python3.8/dist-packages/IPython/core/interactiveshell.py\", line 3457, in run_code\n>>>     exec(code_obj, self.user_global_ns, self.user_ns)\n>>> \n>>>   File \"/tmp/ipykernel_299/855125396.py\", line 1, in <module>\n>>>     history = train_model(model, train_generator, val_generator, num_train_sequences, num_val_sequences, batch_size=10)\n>>> \n>>>   File \"/tmp/ipykernel_299/1616618816.py\", line 28, in train_model\n>>>     history = model.fit(train_generator, steps_per_epoch=steps_per_epoch, epochs=num_epochs, verbose=1,\n>>> \n>>>   File \"/usr/local/lib/python3.8/dist-packages/keras/utils/traceback_utils.py\", line 64, in error_handler\n>>>     return fn(*args, **kwargs)\n>>> \n>>>   File \"/usr/local/lib/python3.8/dist-packages/keras/engine/training.py\", line 1216, in fit\n>>>     tmp_logs = self.train_function(iterator)\n>>> \n>>>   File \"/usr/local/lib/python3.8/dist-packages/keras/engine/training.py\", line 878, in train_function\n>>>     return step_function(self, iterator)\n>>> \n>>>   File \"/usr/local/lib/python3.8/dist-packages/keras/engine/training.py\", line 867, in step_function\n>>>     outputs = model.distribute_strategy.run(run_step, args=(data,))\n>>> \n>>>   File \"/usr/local/lib/python3.8/dist-packages/keras/engine/training.py\", line 860, in run_step\n>>>     outputs = model.train_step(data)\n>>> \n>>>   File \"/usr/local/lib/python3.8/dist-packages/keras/engine/training.py\", line 808, in train_step\n>>>     y_pred = self(x, training=True)\n>>> \n>>>   File \"/usr/local/lib/python3.8/dist-packages/keras/utils/traceback_utils.py\", line 64, in error_handler\n>>>     return fn(*args, **kwargs)\n>>> \n>>>   File \"/usr/local/lib/python3.8/dist-packages/keras/engine/base_layer.py\", line 1083, in __call__\n>>>     outputs = call_fn(inputs, *args, **kwargs)\n>>> \n>>>   File \"/usr/local/lib/python3.8/dist-packages/keras/utils/traceback_utils.py\", line 92, in error_handler\n>>>     return fn(*args, **kwargs)\n>>> \n>>>   File \"/usr/local/lib/python3.8/dist-packages/keras/engine/sequential.py\", line 373, in call\n>>>     return super(Sequential, self).call(inputs, training=training, mask=mask)\n>>> \n>>>   File \"/usr/local/lib/python3.8/dist-packages/keras/engine/functional.py\", line 451, in call\n>>>     return self._run_internal_graph(\n>>> \n>>>   File \"/usr/local/lib/python3.8/dist-packages/keras/engine/functional.py\", line 589, in _run_internal_graph\n>>>     outputs = node.layer(*args, **kwargs)\n>>> \n>>>   File \"/usr/local/lib/python3.8/dist-packages/keras/utils/traceback_utils.py\", line 64, in error_handler\n>>>     return fn(*args, **kwargs)\n>>> \n>>>   File \"/usr/local/lib/python3.8/dist-packages/keras/engine/base_layer.py\", line 1083, in __call__\n>>>     outputs = call_fn(inputs, *args, **kwargs)\n>>> \n>>>   File \"/usr/local/lib/python3.8/dist-packages/keras/utils/traceback_utils.py\", line 92, in error_handler\n>>>     return fn(*args, **kwargs)\n>>> \n>>>   File \"/usr/local/lib/python3.8/dist-packages/keras/layers/wrappers.py\", line 260, in call\n>>>     inputs = tf.__internal__.nest.map_structure_up_to(inputs, tf.reshape, inputs,\n>>> "
     ]
    }
   ],
   "source": [
    "history = train_model(model, train_generator, val_generator, num_train_sequences, num_val_sequences, batch_size=10)"
   ]
  },
  {
   "cell_type": "code",
   "execution_count": null,
   "metadata": {},
   "outputs": [],
   "source": [
    "plot_loss_accuracy(history)"
   ]
  }
 ],
 "metadata": {
  "accelerator": "GPU",
  "colab": {
   "gpuType": "T4",
   "provenance": []
  },
  "kernelspec": {
   "display_name": "Python 3 (ipykernel)",
   "language": "python",
   "name": "python3"
  },
  "language_info": {
   "codemirror_mode": {
    "name": "ipython",
    "version": 3
   },
   "file_extension": ".py",
   "mimetype": "text/x-python",
   "name": "python",
   "nbconvert_exporter": "python",
   "pygments_lexer": "ipython3",
   "version": "3.8.10"
  }
 },
 "nbformat": 4,
 "nbformat_minor": 4
}
